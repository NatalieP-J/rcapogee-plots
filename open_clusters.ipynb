{
 "cells": [
  {
   "cell_type": "code",
   "execution_count": null,
   "metadata": {
    "collapsed": true
   },
   "outputs": [],
   "source": [
    "import apogee.tools.read as apread\n",
    "from apogee.tools import bitmask\n",
    "import numpy as np\n",
    "import matplotlib.pyplot as plt\n",
    "from mpl_toolkits.mplot3d import Axes3D\n",
    "from matplotlib.colors import LogNorm\n",
    "import window as wn\n",
    "import os\n",
    "import access_spectrum as acs\n",
    "import reduce_dataset as rd\n",
    "import polyfit as pf\n",
    "import matplotlib\n",
    "import apogee.spec.plot as splot\n",
    "from read_clusterdata import read_caldata\n",
    "# Show plots in notebook\n",
    "%pylab inline\n",
    "# Read in red clump sample\n",
    "data = readcaldata()\n",
    "# Set random seed value\n",
    "seedval = 1\n",
    "# Start random seed\n",
    "np.random.seed(seedval) #original was 17\n",
    "# Set global plot font preferences\n",
    "font = {'family' : 'serif',\n",
    "        'weight' : 'normal',\n",
    "        'size'   : 18}\n",
    "\n",
    "matplotlib.rc('font', **font)"
   ]
  },
  {
   "cell_type": "code",
   "execution_count": null,
   "metadata": {
    "collapsed": true
   },
   "outputs": [],
   "source": [
    "data['APOGEE_ID'] = data['ID']"
   ]
  },
  {
   "cell_type": "code",
   "execution_count": null,
   "metadata": {
    "collapsed": true
   },
   "outputs": [],
   "source": [
    "direc = './open_clusters/'\n",
    "specsfile = direc+'specs_cdata.pkl'\n",
    "errsfile = direc+'errs_cdata.pkl'\n",
    "if os.path.isfile(specsfile):\n",
    "    specs,ind = acs.pklread(specsfile)\n",
    "    errs,ind = acs.pklread(errsfile)\n",
    "    print 'Missing {0} stars'.format(len(ind))\n",
    "else:\n",
    "    specdata = acs.get_spectra_asp(dat,header = False)\n",
    "    errdata= acs.get_spectra_asp(dat,ext = 2, header = False)\n",
    "    acs.pklwrite(specsfile,specdata)\n",
    "    acs.pklwrite(errsfile,errdata)\n",
    "    specs,ind = specdata\n",
    "    errs,ind = errdata  "
   ]
  }
 ],
 "metadata": {
  "kernelspec": {
   "display_name": "Python 2",
   "language": "python",
   "name": "python2"
  },
  "language_info": {
   "codemirror_mode": {
    "name": "ipython",
    "version": 2
   },
   "file_extension": ".py",
   "mimetype": "text/x-python",
   "name": "python",
   "nbconvert_exporter": "python",
   "pygments_lexer": "ipython2",
   "version": "2.7.10"
  }
 },
 "nbformat": 4,
 "nbformat_minor": 0
}
