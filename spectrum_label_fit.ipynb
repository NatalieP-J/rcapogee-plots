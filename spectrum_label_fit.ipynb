{
 "cells": [
  {
   "cell_type": "code",
   "execution_count": 19,
   "metadata": {
    "collapsed": false
   },
   "outputs": [
    {
     "name": "stdout",
     "output_type": "stream",
     "text": [
      "Populating the interactive namespace from numpy and matplotlib\n"
     ]
    }
   ],
   "source": [
    "import apogee.tools.read as apread\n",
    "import numpy as np\n",
    "import matplotlib.pyplot as plt\n",
    "from mpl_toolkits.mplot3d import Axes3D\n",
    "from matplotlib.colors import LogNorm\n",
    "%pylab inline"
   ]
  },
  {
   "cell_type": "code",
   "execution_count": 69,
   "metadata": {
    "collapsed": false
   },
   "outputs": [],
   "source": [
    "import apogee.spec"
   ]
  },
  {
   "cell_type": "code",
   "execution_count": 20,
   "metadata": {
    "collapsed": false
   },
   "outputs": [],
   "source": [
    "data = apread.rcsample()"
   ]
  },
  {
   "cell_type": "code",
   "execution_count": 24,
   "metadata": {
    "collapsed": false
   },
   "outputs": [],
   "source": [
    "def get_spectra_asp(data,ext = 1,header=False):\n",
    "    \"\"\"\n",
    "    Returns spectra and header information for each object specified in data\n",
    "    \n",
    "    data:    labels for a subset of the APOGEE survey\n",
    "    \"\"\"\n",
    "    specs = []\n",
    "    hdrs = {}\n",
    "    for i in range(len(data)):\n",
    "        spec = apread.aspcapStar(data['LOCATION_ID'][i],data['APOGEE_ID'][i],ext = ext, header = header, aspcapWavegrid=True)\n",
    "        if header:\n",
    "            spec,hdr = spec\n",
    "            hdrs[i] = hdr\n",
    "        specs.append(spec)\n",
    "    if header:\n",
    "        return np.array(specs),hdrs\n",
    "    elif not header:\n",
    "        return np.array(specs)\n",
    "\n",
    "def get_spectra_ap(data,ext = 1, header = False):\n",
    "    specs = []\n",
    "    hdrs = {}\n",
    "    for i in range(len(data)):\n",
    "        spec = apread.apStar(data['LOCATION_ID'][i],data['APOGEE_ID'][i],ext = ext, header = header, aspcapWavegrid=True)\n",
    "        if header:\n",
    "            spec,hdr = spec\n",
    "            hdrs[i] = hdr\n",
    "        specs.append(spec)\n",
    "    if header:\n",
    "        return np.array(specs),hdrs\n",
    "    elif not header:\n",
    "        return np.array(specs)\n",
    "\n",
    "def makematrix_indep(x,order):\n",
    "    if isinstance(x,tuple):\n",
    "        nindeps = len(x)\n",
    "        X = np.empty((len(x[0]),order*nindeps+1))\n",
    "        X[:,0] = x[0]**0\n",
    "        i = 1\n",
    "        while i < order*nindeps+1:\n",
    "            for o in range(1,order+1):\n",
    "                for n in range(nindeps):\n",
    "                    X[:,i] = x[n]**o\n",
    "                    i+=1\n",
    "    elif isinstance(x,(list,np.ndarray)):\n",
    "        X = np.empty((len(x),order+1))\n",
    "        for o in range(order+1):\n",
    "            X[:,o] = x**o\n",
    "    X = np.matrix(X)\n",
    "    return X\n",
    "\n",
    "def regfit(x,y,err = 0,order = 1):\n",
    "    \"\"\"\n",
    "    Fits a (nD-)polynomial of specified order with independent values given in x,\n",
    "    given dependent values in y.\n",
    "    \n",
    "    x:       array of independent variable \n",
    "            (may be tuple containing arrays of multiple variables)   \n",
    "    y:       array of dependent variable (must have same shape as array in x)\n",
    "    order:   order of polynomial to fit (kwarg, default = 1)\n",
    "    \n",
    "    Returns the polynomial coefficents ascending from 0th order. In the case of\n",
    "    multiple independent variables, returns coefficients at each polynomial order\n",
    "    in order of the variables listed in x.\n",
    "    \"\"\"\n",
    "    X = makematrix_indep(x,order)\n",
    "    if isinstance(err,(float,int)):\n",
    "        return np.array(np.linalg.inv(X.T*X)*X.T*np.matrix(y).T)\n",
    "    elif isinstance(err,(list,np.ndarray)):\n",
    "        cov = np.diag(err**2)\n",
    "        icov = np.linalg.inv(cov)\n",
    "        return np.array(np.linalg.inv(X.T*icov*X)*(X.T*icov*np.matrix(y).T))\n",
    "\n",
    "def regerr(x,y,xerr,yerr,order=1):\n",
    "    X = makematrix(x,order)\n",
    "    Xerr = makematrix(xerr,order)\n",
    "    \n",
    "\n",
    "def poly_indep(p,x,param = None,order = 1):\n",
    "    \"\"\"\n",
    "    For a given set of polynomial coefficients ascending from\n",
    "    0th order, and a independent variables, returns polynomial.\n",
    "    \"\"\"\n",
    "    if isinstance(x,tuple):\n",
    "        nindeps = len(x)\n",
    "        order = (len(p)-1)/nindeps\n",
    "        y = np.zeros(x[0].shape)\n",
    "        y += p[0]*x[0]**0\n",
    "        i = 1\n",
    "        while i < order*nindeps+1:\n",
    "            for o in range(1,order+1):\n",
    "                if param == None:\n",
    "                    for n in range(nindeps):\n",
    "                        y+=p[i]*x[n]**o\n",
    "                        i+=1\n",
    "                elif param != None:\n",
    "                    n = param\n",
    "                    y+=p[i]*x[n]**o\n",
    "                    i+=1\n",
    "    elif isinstance(x,(list,np.ndarray)):\n",
    "        order = len(p)-1\n",
    "        y = np.zeros(x.shape)\n",
    "        o = 0\n",
    "        while o <= order:\n",
    "            y += p[o]*x**o\n",
    "            o += 1\n",
    "    return y\n",
    "\n",
    "def stderr(yreal,yfit,p):\n",
    "    return np.sqrt(np.sum((yreal-yfit)**2)/(len(yreal)-len(p)))"
   ]
  },
  {
   "cell_type": "code",
   "execution_count": 19,
   "metadata": {
    "collapsed": false
   },
   "outputs": [],
   "source": [
    "# Basic function testing\n",
    "x = np.arange(2,5,0.01)\n",
    "c = np.log(np.copy(x))\n",
    "y = np.copy(x)**3+c**2+9\n",
    "ptest = regfit((x,c),y,order = 3)"
   ]
  },
  {
   "cell_type": "code",
   "execution_count": 20,
   "metadata": {
    "collapsed": false
   },
   "outputs": [
    {
     "data": {
      "text/plain": [
       "[<matplotlib.lines.Line2D at 0x10e014c90>]"
      ]
     },
     "execution_count": 20,
     "metadata": {},
     "output_type": "execute_result"
    },
    {
     "data": {
      "image/png": "[encoded data removed]",
      "text/plain": [
       "<matplotlib.figure.Figure at 0x10e014a50>"
      ]
     },
     "metadata": {},
     "output_type": "display_data"
    }
   ],
   "source": [
    "# Basic function testing\n",
    "plt.plot(c,y)\n",
    "plt.plot(c,poly(ptest,(x,c),order = 3))"
   ]
  },
  {
   "cell_type": "code",
   "execution_count": 25,
   "metadata": {
    "collapsed": false
   },
   "outputs": [],
   "source": [
    "def slice_data(data,sliceinfo):\n",
    "    label, lower, upper = sliceinfo\n",
    "    indx = (data[label]>lower) & (data[label]<upper)\n",
    "    return data[indx]\n",
    "\n",
    "def pixmask_find(maskdata,pix):\n",
    "    mask = []\n",
    "    for i in range(len(maskdata)):\n",
    "        if len(maskdata[i].shape) > 1:\n",
    "            if any(maskdata[i][:,pix]) != 0:\n",
    "                mask.append(1)\n",
    "            elif all(maskdata[i][:,pix]) == 0:\n",
    "                mask.append(0)\n",
    "        elif len(maskdata[i].shape) == 1:\n",
    "            if maskdata[i][pix] != 0:\n",
    "                mask.append(1)\n",
    "            elif maskdata[i][pix] == 0:\n",
    "                mask.append(0)   \n",
    "    indx = np.where(np.array(mask) != 1)\n",
    "    return indx"
   ]
  },
  {
   "cell_type": "code",
   "execution_count": null,
   "metadata": {
    "collapsed": false
   },
   "outputs": [
    {
     "name": "stdout",
     "output_type": "stream",
     "text": []
    }
   ],
   "source": [
    "sdata = slice_data(data,['FE_H',-0.5,-0.4])\n",
    "pix = 6296\n",
    "maskdata = get_spectra_ap(sdata,ext = 3, header = False)\n",
    "mask = pixmask_find(maskdata,pix)\n",
    "mdata = sdata[mask]\n",
    "mdata\n",
    "specs,hdrs = get_spectra_asp(mdata,header = True)\n",
    "errs = get_spectra_asp(mdata,ext = 2, header = False)\n",
    "O = 2\n",
    "p = regfit((mdata['TEFF'],mdata['LOGG'],mdata['METALS']),specs[:,pix],err = errs[:,pix],order = O)\n",
    "p\n",
    "#u = stderr(specs[:,pix],poly_indep(p,(Teff,logg,metals),p))"
   ]
  },
  {
   "cell_type": "code",
   "execution_count": null,
   "metadata": {
    "collapsed": false
   },
   "outputs": [],
   "source": [
    "Teff = np.arange(min(mdata['TEFF']),max(mdata['TEFF']))\n",
    "logg = np.arange(min(mdata['LOGG']),max(mdata['LOGG']),((max(mdata['LOGG']-min(mdata['LOGG'])))/len(Teff)))\n",
    "metals = np.arange(min(mdata['METALS']),max(mdata['METALS']),((max(mdata['METALS']-min(mdata['METALS'])))/len(Teff)))\n",
    "pl = np.where(errs[:,pix] < 0.1)\n",
    "rpl = np.where(errs[:,pix] > 0.1)"
   ]
  },
  {
   "cell_type": "code",
   "execution_count": null,
   "metadata": {
    "collapsed": false
   },
   "outputs": [],
   "source": [
    "plt.figure(figsize = (10,8))\n",
    "plt.subplot2grid((3,3),(0,0))\n",
    "plt.errorbar(mdata['TEFF'][pl],specs[:,pix][pl],yerr = errs[:,pix][pl],fmt='.')\n",
    "plt.plot(Teff,poly_indep(p,(Teff,logg,metals),order = O),linewidth = 3)\n",
    "plt.plot(mdata['TEFF'][rpl],specs[:,pix][rpl],'.')\n",
    "plt.xlabel('T_EFF')\n",
    "plt.ylabel('Pixel {0}'.format(pix))\n",
    "plt.subplot2grid((3,3),(1,0))\n",
    "plt.plot(mdata['TEFF'][pl],specs[:,pix][pl] - poly_indep(p,(mdata['TEFF'][pl],mdata['LOGG'][pl],mdata['METALS'][pl]),order = O),'.')\n",
    "plt.xlabel('T_EFF')\n",
    "plt.ylabel('Fit residuals')\n",
    "plt.subplot2grid((3,3),(2,0))\n",
    "plt.semilogx(errs[:,pix][pl],abs(specs[:,pix][pl] - poly_indep(p,(mdata['TEFF'][pl],mdata['LOGG'][pl],mdata['METALS'][pl]))),'.')\n",
    "plt.xlabel('Uncertainty in Pixel pix')\n",
    "plt.ylabel('Fit residuals')\n",
    "plt.subplot2grid((3,3),(0,1))\n",
    "plt.errorbar(mdata['LOGG'][pl],specs[:,pix][pl],yerr = errs[:,pix][pl],fmt='.')\n",
    "plt.plot(logg,poly_indep(p,(Teff,logg,metals),order = O),linewidth = 3)\n",
    "plt.plot(mdata['LOGG'][rpl],specs[:,pix][rpl],'.')\n",
    "plt.xlabel('LOG(G)')\n",
    "plt.ylabel('Pixel {0}'.format(pix))\n",
    "plt.subplot2grid((3,3),(1,1))\n",
    "plt.plot(mdata['LOGG'][pl],specs[:,pix][pl] - poly_indep(p,(mdata['TEFF'][pl],mdata['LOGG'][pl],mdata['METALS'][pl]),order = O),'.')\n",
    "plt.xlabel('LOG(G)')\n",
    "plt.ylabel('Fit residuals')\n",
    "plt.tight_layout()\n",
    "plt.subplot2grid((3,3),(0,2))\n",
    "plt.errorbar(mdata['METALS'][pl],specs[:,pix][pl],yerr = errs[:,pix][pl],fmt='.')\n",
    "plt.plot(metals,poly_indep(p,(Teff,logg,metals),order = O),linewidth = 3)\n",
    "plt.plot(mdata['METALS'][rpl],specs[:,pix][rpl],'.')\n",
    "plt.xlabel('[Fe/H]')\n",
    "plt.ylabel('Pixel {0}'.format(pix))\n",
    "plt.subplot2grid((3,3),(1,2))\n",
    "plt.plot(mdata['METALS'][pl],specs[:,pix][pl] - poly_indep(p,(mdata['TEFF'][pl],mdata['LOGG'][pl],data['METALS'][pl]),order = O),'.')\n",
    "plt.xlabel('[Fe/H]')\n",
    "plt.ylabel('Fit residuals')"
   ]
  },
  {
   "cell_type": "code",
   "execution_count": null,
   "metadata": {
    "collapsed": false
   },
   "outputs": [],
   "source": [
    "fig = plt.figure(figsize = (10,8))\n",
    "ax = fig.add_subplot(111, projection='3d')\n",
    "ax.plot(mdata['TEFF'],mdata['LOGG'],specs[:,6296],'.')\n",
    "ax.plot(Teff,logg,poly_indep(p,(Teff,logg,metals)))"
   ]
  },
  {
   "cell_type": "code",
   "execution_count": null,
   "metadata": {
    "collapsed": false
   },
   "outputs": [],
   "source": [
    "def histplot(res,mdata,abun_key,bins = 50,findgood = False):\n",
    "    if findgood:\n",
    "        good = np.where(mdata[abun_key] != -9999)\n",
    "        newres = res[good]\n",
    "        abun = mdata[abun_key][good]\n",
    "    elif not findgood:\n",
    "        newres = np.copy(res)\n",
    "        abun = np.copy(mdata[abun_key])\n",
    "    plt.hist(abun-newres,bins=bins)\n",
    "    plt.xlabel('{0} residual value'.format(abun_key))\n",
    "    plt.ylabel('Count')\n",
    "\n",
    "bins = 50\n",
    "res = specs[:,pix] - poly_indep(p,(mdata['TEFF'],mdata['LOGG'],mdata['METALS']),order = O)\n",
    "histplot(res,mdata,'ALPHAFE')"
   ]
  },
  {
   "cell_type": "code",
   "execution_count": 166,
   "metadata": {
    "collapsed": false
   },
   "outputs": [
    {
     "data": {
      "image/png": "[encoded data removed]",
      "text/plain": [
       "<matplotlib.figure.Figure at 0x24e1cb90>"
      ]
     },
     "metadata": {},
     "output_type": "display_data"
    }
   ],
   "source": [
    "histplot(res,mdata,'AL_H',findgood=True)"
   ]
  },
  {
   "cell_type": "code",
   "execution_count": 167,
   "metadata": {
    "collapsed": false
   },
   "outputs": [
    {
     "data": {
      "image/png": "[encoded data removed]",
      "text/plain": [
       "<matplotlib.figure.Figure at 0x2591d690>"
      ]
     },
     "metadata": {},
     "output_type": "display_data"
    }
   ],
   "source": [
    "histplot(res,mdata,'CA_H',findgood=True)"
   ]
  },
  {
   "cell_type": "code",
   "execution_count": 168,
   "metadata": {
    "collapsed": false
   },
   "outputs": [
    {
     "data": {
      "image/png": "[encoded data removed]",
      "text/plain": [
       "<matplotlib.figure.Figure at 0x2daab990>"
      ]
     },
     "metadata": {},
     "output_type": "display_data"
    }
   ],
   "source": [
    "histplot(res,mdata,'C_H',findgood = True)"
   ]
  },
  {
   "cell_type": "code",
   "execution_count": 169,
   "metadata": {
    "collapsed": false
   },
   "outputs": [
    {
     "data": {
      "image/png": "[encoded data removed]",
      "text/plain": [
       "<matplotlib.figure.Figure at 0x2cb22490>"
      ]
     },
     "metadata": {},
     "output_type": "display_data"
    }
   ],
   "source": [
    "histplot(res,mdata,'FE_H',findgood=True)"
   ]
  },
  {
   "cell_type": "code",
   "execution_count": null,
   "metadata": {
    "collapsed": true
   },
   "outputs": [],
   "source": [
    "histplot(res,mdata,'K_H',findgood=True)"
   ]
  },
  {
   "cell_type": "code",
   "execution_count": 170,
   "metadata": {
    "collapsed": false
   },
   "outputs": [
    {
     "data": {
      "image/png": "[encoded data removed]",
      "text/plain": [
       "<matplotlib.figure.Figure at 0x23822950>"
      ]
     },
     "metadata": {},
     "output_type": "display_data"
    }
   ],
   "source": [
    "histplot(res,mdata,'MG_H',findgood=True)"
   ]
  },
  {
   "cell_type": "code",
   "execution_count": 171,
   "metadata": {
    "collapsed": false
   },
   "outputs": [
    {
     "data": {
      "image/png": "[encoded data removed]",
      "text/plain": [
       "<matplotlib.figure.Figure at 0x24c9fcd0>"
      ]
     },
     "metadata": {},
     "output_type": "display_data"
    }
   ],
   "source": [
    "histplot(res,mdata,'MN_H',findgood=True)"
   ]
  },
  {
   "cell_type": "code",
   "execution_count": 172,
   "metadata": {
    "collapsed": false
   },
   "outputs": [
    {
     "data": {
      "image/png": "[encoded data removed]",
      "text/plain": [
       "<matplotlib.figure.Figure at 0x24b53190>"
      ]
     },
     "metadata": {},
     "output_type": "display_data"
    }
   ],
   "source": [
    "histplot(res,mdata,'NA_H',findgood=True)"
   ]
  },
  {
   "cell_type": "code",
   "execution_count": 173,
   "metadata": {
    "collapsed": false
   },
   "outputs": [
    {
     "data": {
      "image/png": "[encoded data removed]",
      "text/plain": [
       "<matplotlib.figure.Figure at 0x2568b850>"
      ]
     },
     "metadata": {},
     "output_type": "display_data"
    }
   ],
   "source": [
    "histplot(res,mdata,'NI_H',findgood=True)"
   ]
  },
  {
   "cell_type": "code",
   "execution_count": 174,
   "metadata": {
    "collapsed": false
   },
   "outputs": [
    {
     "data": {
      "image/png": "[encoded data removed]",
      "text/plain": [
       "<matplotlib.figure.Figure at 0x2a277690>"
      ]
     },
     "metadata": {},
     "output_type": "display_data"
    }
   ],
   "source": [
    "histplot(res,mdata,'N_H',findgood=True)"
   ]
  },
  {
   "cell_type": "code",
   "execution_count": 175,
   "metadata": {
    "collapsed": false
   },
   "outputs": [
    {
     "data": {
      "image/png": "[encoded data removed]",
      "text/plain": [
       "<matplotlib.figure.Figure at 0x24cae850>"
      ]
     },
     "metadata": {},
     "output_type": "display_data"
    }
   ],
   "source": [
    "histplot(res,mdata,'O_H',findgood=True)"
   ]
  },
  {
   "cell_type": "code",
   "execution_count": 176,
   "metadata": {
    "collapsed": false
   },
   "outputs": [
    {
     "data": {
      "image/png": "[encoded data removed]",
      "text/plain": [
       "<matplotlib.figure.Figure at 0x27184990>"
      ]
     },
     "metadata": {},
     "output_type": "display_data"
    }
   ],
   "source": [
    "histplot(res,mdata,'SI_H',findgood=True)"
   ]
  },
  {
   "cell_type": "code",
   "execution_count": 177,
   "metadata": {
    "collapsed": false
   },
   "outputs": [
    {
     "data": {
      "image/png": "[encoded data removed]",
      "text/plain": [
       "<matplotlib.figure.Figure at 0x1f180810>"
      ]
     },
     "metadata": {},
     "output_type": "display_data"
    }
   ],
   "source": [
    "histplot(res,mdata,'S_H',findgood=True)"
   ]
  },
  {
   "cell_type": "code",
   "execution_count": 178,
   "metadata": {
    "collapsed": false
   },
   "outputs": [
    {
     "data": {
      "image/png": "[encoded data removed]",
      "text/plain": [
       "<matplotlib.figure.Figure at 0x272d8050>"
      ]
     },
     "metadata": {},
     "output_type": "display_data"
    }
   ],
   "source": [
    "histplot(res,mdata,'TI_H',findgood=True)"
   ]
  },
  {
   "cell_type": "code",
   "execution_count": 179,
   "metadata": {
    "collapsed": false
   },
   "outputs": [
    {
     "data": {
      "image/png": "[encoded data removed]",
      "text/plain": [
       "<matplotlib.figure.Figure at 0x27f2b190>"
      ]
     },
     "metadata": {},
     "output_type": "display_data"
    }
   ],
   "source": [
    "histplot(res,mdata,'V_H',findgood=True)"
   ]
  },
  {
   "cell_type": "code",
   "execution_count": 23,
   "metadata": {
    "collapsed": false
   },
   "outputs": [],
   "source": [
    "plt.ion()\n",
    "def histplot2d(x,y,nbins = 50 ,maskval = 0,saveloc = '',labels=[]):\n",
    "\t\"\"\"\n",
    "\tCreates a 2D histogram from data given by numpy's histogram\n",
    "\n",
    "\tx,y:\t\ttwo 2D arrays to correlate\n",
    "\tnbins:\t\tnumber of bins\n",
    "\tmaskval:\tvalue that indicates masked areas\n",
    "\t\t\t\t(kwarg, default = 0)\n",
    "\tsaveloc:\tplace to save histogram plot - if unspecified, do not\n",
    "\t\t\t\tsave plot (kwarg, default = '')\n",
    "\tlabels:\t\tlabels for histogram plot, with the following format\n",
    "\t\t\t\t[title,xlabel,ylabel,zlabel] - if unspecified, do \n",
    "\t\t\t\tnot label plot (kwarg, default = [])\n",
    "\tslope:\t\tslope of correlation fit line (kwarg, default = 1)\n",
    "\tslopeerr:\tuncertainties in slope of fit line (kwarg, default = 0)\n",
    "\n",
    "\tReturns the edges of the histogram bins and the 2D histogram\n",
    "\n",
    "\t\"\"\"\n",
    "\t# Remove NANs and masked values\n",
    "\tgood = np.where((isnan(x) == False) & (isnan(y) == False) & (x != maskval) & (y != maskval))\n",
    "\tx = x[good]\n",
    "\ty = y[good]\n",
    "\tuplim = np.max(x)+5\n",
    "\tdolim = np.min(x)-5\n",
    "\t# Create histogram\n",
    "\tH,xedges,yedges = np.histogram2d(x,y,bins=nbins)\n",
    "\t# Reorient appropriately\n",
    "\tH = np.rot90(H)\n",
    "\tH = np.flipud(H)\n",
    "\t# Mask zero value bins\n",
    "\tHmasked = ma.masked_where(H==0,H)\n",
    "\t# Begin creating figure\n",
    "\tplt.figure(figsize=(12,10))\n",
    "\t# Make histogram pixels with logscale\n",
    "\tplt.pcolormesh(xedges,yedges,Hmasked,\n",
    "\t               norm = LogNorm(vmin = Hmasked.min(),\n",
    "\t                              vmax = Hmasked.max()),\n",
    "\t\t       \t   cmap = plt.get_cmap('Spectral_r'))\n",
    "\t# Set plot limits\n",
    "\tplt.xlim(dolim+5,uplim-5)\n",
    "\tplt.ylim(np.min(y),np.max(y))\n",
    "\t# Add colourbar\n",
    "\tcbar = plt.colorbar()\n",
    "\t# Add labels\n",
    "\tif labels != []:\n",
    "\t    title,xlabel,ylabel,zlabel = labels\n",
    "\t    plt.xlabel(xlabel)\n",
    "\t    plt.ylabel(ylabel)\n",
    "\t    plt.title(title)\n",
    "\t    cbar.ax.set_ylabel(zlabel)\n",
    "\t# Save plot\n",
    "\tif saveloc != '':\n",
    "\t\tplt.savefig(saveloc)\n",
    "        plt.close()\n",
    "\t# Return histogram\n",
    "\treturn xedges,yedges,Hmasked\n",
    "#good = np.where(data['FE_H'] != -9999)\n",
    "a = histplot2d(data['FE_H'][good],data['ALPHAFE'][good],nbins = 50 ,maskval = -9999,saveloc = '/Users/Natalie/Desktop/test.png',labels=[])"
   ]
  },
  {
   "cell_type": "code",
   "execution_count": null,
   "metadata": {
    "collapsed": true
   },
   "outputs": [],
   "source": []
  }
 ],
 "metadata": {
  "kernelspec": {
   "display_name": "Python 2",
   "language": "python",
   "name": "python2"
  },
  "language_info": {
   "codemirror_mode": {
    "name": "ipython",
    "version": 2
   },
   "file_extension": ".py",
   "mimetype": "text/x-python",
   "name": "python",
   "nbconvert_exporter": "python",
   "pygments_lexer": "ipython2",
   "version": "2.7.10"
  }
 },
 "nbformat": 4,
 "nbformat_minor": 0
}
