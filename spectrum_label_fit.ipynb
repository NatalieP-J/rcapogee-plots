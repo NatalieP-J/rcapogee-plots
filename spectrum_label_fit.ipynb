{
 "cells": [
  {
   "cell_type": "code",
   "execution_count": 96,
   "metadata": {
    "collapsed": false
   },
   "outputs": [
    {
     "name": "stdout",
     "output_type": "stream",
     "text": [
      "Populating the interactive namespace from numpy and matplotlib\n"
     ]
    },
    {
     "name": "stderr",
     "output_type": "stream",
     "text": [
      "WARNING: pylab import has clobbered these variables: ['poly']\n",
      "`%matplotlib` prevents importing * from pylab and numpy\n"
     ]
    }
   ],
   "source": [
    "import apogee.tools.read as apread\n",
    "import numpy as np\n",
    "import matplotlib.pyplot as plt\n",
    "%pylab inline"
   ]
  },
  {
   "cell_type": "code",
   "execution_count": 97,
   "metadata": {
    "collapsed": true
   },
   "outputs": [],
   "source": [
    "data = apread.rcsample()"
   ]
  },
  {
   "cell_type": "code",
   "execution_count": 119,
   "metadata": {
    "collapsed": false
   },
   "outputs": [],
   "source": [
    "def get_spectra(data):\n",
    "    \"\"\"\n",
    "    Returns spectra and header information for each object specified in data\n",
    "    \n",
    "    data:    labels for a subset of the APOGEE survey\n",
    "    \"\"\"\n",
    "    specs = []\n",
    "    hdrs = []\n",
    "    for i in range(len(data)):\n",
    "        spec,hdr = apread.aspcapStar(data['LOCATION_ID'][i],data['APOGEE_ID'][i],aspcapWavegrid=True)\n",
    "        specs.append(spec)\n",
    "        hdrs.append(hdr)\n",
    "    return np.array(specs),np.array(hdrs)\n",
    "\n",
    "def regfit(x,y,order = 1):\n",
    "    if isinstance(x,tuple):\n",
    "        nindeps = len(x)\n",
    "        X = np.empty((len(x[0]),order*nindeps+1))\n",
    "        X[:,0] = x[0]**0\n",
    "        i = 1\n",
    "        while i < order*nindeps+1:\n",
    "            for o in range(1,order+1):\n",
    "                for n in range(nindeps):\n",
    "                    X[:,i] = x[n]**o\n",
    "                    i+=1\n",
    "    elif isinstance(x,(list,np.ndarray)):\n",
    "        X = np.empty((len(x),order+1))\n",
    "        for o in range(order+1):\n",
    "            X[:,o] = x**o\n",
    "    X = np.matrix(X)\n",
    "    return np.array(np.linalg.inv(X.T*X)*X.T*np.matrix(y).T)\n",
    "\n",
    "def poly(p,x,order = 1):\n",
    "    if isinstance(x,tuple):\n",
    "        nindeps = len(x)\n",
    "        y = np.zeros(x[0].shape)\n",
    "        y += p[0]*x[0]**0\n",
    "        i = 1\n",
    "        while i < order*nindeps+1:\n",
    "            for o in range(1,order+1):\n",
    "                for n in range(nindeps):\n",
    "                    y+=p[i]*x[n]**o\n",
    "    elif isinstance(x,(list,np.ndarray)):\n",
    "        y = np.zeros(x.shape)\n",
    "        o = 0\n",
    "        while o <= order:\n",
    "            y += p[o]*x**o\n",
    "            o += 1\n",
    "    return y\n",
    "        "
   ]
  },
  {
   "cell_type": "code",
   "execution_count": 117,
   "metadata": {
    "collapsed": false
   },
   "outputs": [
    {
     "data": {
      "text/plain": [
       "array([[  9.02373238e+00],\n",
       "       [ -3.67706554e-02],\n",
       "       [  4.18715368e-02],\n",
       "       [  1.19679223e-03],\n",
       "       [  1.00884413e+00],\n",
       "       [  9.99990180e-01],\n",
       "       [  4.28919037e-03]])"
      ]
     },
     "execution_count": 117,
     "metadata": {},
     "output_type": "execute_result"
    }
   ],
   "source": [
    "x = np.arange(2,5,0.01)\n",
    "c = np.log(np.copy(x))\n",
    "y = np.copy(x)**3+c**2+9\n",
    "p = regfit((x,c),y,order = 3)\n",
    "p"
   ]
  },
  {
   "cell_type": "code",
   "execution_count": null,
   "metadata": {
    "collapsed": false
   },
   "outputs": [],
   "source": [
    "plt.plot(x,y)\n",
    "plt.plot(x,poly(p,(x,c),order = 3))"
   ]
  },
  {
   "cell_type": "code",
   "execution_count": 101,
   "metadata": {
    "collapsed": false
   },
   "outputs": [
    {
     "data": {
      "text/plain": [
       "1"
      ]
     },
     "execution_count": 101,
     "metadata": {},
     "output_type": "execute_result"
    }
   ],
   "source": [
    "a = (1,2)\n",
    "a[0]"
   ]
  },
  {
   "cell_type": "code",
   "execution_count": null,
   "metadata": {
    "collapsed": true
   },
   "outputs": [],
   "source": []
  },
  {
   "cell_type": "code",
   "execution_count": null,
   "metadata": {
    "collapsed": true
   },
   "outputs": [],
   "source": []
  }
 ],
 "metadata": {
  "kernelspec": {
   "display_name": "Python 2",
   "language": "python",
   "name": "python2"
  },
  "language_info": {
   "codemirror_mode": {
    "name": "ipython",
    "version": 2
   },
   "file_extension": ".py",
   "mimetype": "text/x-python",
   "name": "python",
   "nbconvert_exporter": "python",
   "pygments_lexer": "ipython2",
   "version": "2.7.5"
  }
 },
 "nbformat": 4,
 "nbformat_minor": 0
}
