{
 "cells": [
  {
   "cell_type": "code",
   "execution_count": 1,
   "metadata": {
    "collapsed": false
   },
   "outputs": [
    {
     "name": "stdout",
     "output_type": "stream",
     "text": [
      "Populating the interactive namespace from numpy and matplotlib\n"
     ]
    }
   ],
   "source": [
    "import apogee.tools.read as apread\n",
    "from apogee.tools import bitmask\n",
    "import numpy as np\n",
    "import matplotlib.pyplot as plt\n",
    "from mpl_toolkits.mplot3d import Axes3D\n",
    "from matplotlib.colors import LogNorm\n",
    "import apogee.spec.window as wn\n",
    "import os\n",
    "import access_spectrum as acs\n",
    "import reduce_dataset as rd\n",
    "import polyfit as pf\n",
    "import matplotlib\n",
    "%pylab inline"
   ]
  },
  {
   "cell_type": "code",
   "execution_count": 2,
   "metadata": {
    "collapsed": true
   },
   "outputs": [],
   "source": [
    "font = {'family' : 'serif',\n",
    "        'weight' : 'normal',\n",
    "        'size'   : 22}\n",
    "\n",
    "matplotlib.rc('font', **font)"
   ]
  },
  {
   "cell_type": "code",
   "execution_count": 8,
   "metadata": {
    "collapsed": false
   },
   "outputs": [
    {
     "data": {
      "text/plain": [
       "19936"
      ]
     },
     "execution_count": 8,
     "metadata": {},
     "output_type": "execute_result"
    }
   ],
   "source": [
    "# Load in Red Clump sample\n",
    "data = apread.rcsample()\n",
    "ind = np.where(data['FE_H']!=-9999)\n",
    "len(data['FE_H'][ind])"
   ]
  },
  {
   "cell_type": "code",
   "execution_count": 5,
   "metadata": {
    "collapsed": false
   },
   "outputs": [
    {
     "data": {
      "text/plain": [
       "(array([-0.82736659, -0.80210524, -0.77684389, -0.75158254, -0.72632119,\n",
       "        -0.70105984, -0.67579849, -0.65053713, -0.62527578, -0.60001443,\n",
       "        -0.57475308, -0.54949173, -0.52423038, -0.49896903, -0.47370768,\n",
       "        -0.44844633, -0.42318498, -0.39792363, -0.37266227, -0.34740092,\n",
       "        -0.32213957, -0.29687822, -0.27161687, -0.24635552, -0.22109417,\n",
       "        -0.19583282, -0.17057147, -0.14531012, -0.12004877, -0.09478742,\n",
       "        -0.06952606, -0.04426471, -0.01900336,  0.00625799,  0.03151934,\n",
       "         0.05678069,  0.08204204,  0.10730339,  0.13256474,  0.15782609,\n",
       "         0.18308744,  0.2083488 ,  0.23361015,  0.2588715 ,  0.28413285,\n",
       "         0.3093942 ,  0.33465555,  0.3599169 ,  0.38517825,  0.4104396 ,\n",
       "         0.43570095]),\n",
       " array([-0.16740933, -0.15690844, -0.14640755, -0.13590666, -0.12540578,\n",
       "        -0.11490489, -0.104404  , -0.09390311, -0.08340222, -0.07290133,\n",
       "        -0.06240044, -0.05189955, -0.04139866, -0.03089778, -0.02039689,\n",
       "        -0.009896  ,  0.00060489,  0.01110578,  0.02160667,  0.03210756,\n",
       "         0.04260845,  0.05310933,  0.06361022,  0.07411111,  0.084612  ,\n",
       "         0.09511289,  0.10561378,  0.11611467,  0.12661556,  0.13711645,\n",
       "         0.14761733,  0.15811822,  0.16861911,  0.17912   ,  0.18962089,\n",
       "         0.20012178,  0.21062267,  0.22112356,  0.23162444,  0.24212533,\n",
       "         0.25262622,  0.26312711,  0.273628  ,  0.28412889,  0.29462978,\n",
       "         0.30513067,  0.31563156,  0.32613244,  0.33663333,  0.34713422,\n",
       "         0.35763511]),\n",
       " masked_array(data =\n",
       "  [[-- -- -- ..., -- -- --]\n",
       "  [-- -- -- ..., -- -- --]\n",
       "  [-- -- -- ..., -- -- --]\n",
       "  ..., \n",
       "  [-- -- 1.0 ..., -- -- --]\n",
       "  [-- -- -- ..., -- -- --]\n",
       "  [-- -- 1.0 ..., -- -- --]],\n",
       "              mask =\n",
       "  [[ True  True  True ...,  True  True  True]\n",
       "  [ True  True  True ...,  True  True  True]\n",
       "  [ True  True  True ...,  True  True  True]\n",
       "  ..., \n",
       "  [ True  True False ...,  True  True  True]\n",
       "  [ True  True  True ...,  True  True  True]\n",
       "  [ True  True False ...,  True  True  True]],\n",
       "        fill_value = 1e+20))"
      ]
     },
     "execution_count": 5,
     "metadata": {},
     "output_type": "execute_result"
    }
   ],
   "source": [
    "pf.hist2d(data['FE_H'][ind],data['ALPHAFE'][ind],labels = ['Abundances in Red Clump Stars','$[Fe/H]$',r'$[\\alpha/Fe]$','Number of Stars'],saveloc = '/Users/Natalie/Code/rcapogee-plots/tex/alpha_vs_fe.png')"
   ]
  },
  {
   "cell_type": "code",
   "execution_count": null,
   "metadata": {
    "collapsed": false
   },
   "outputs": [],
   "source": [
    "# Load in spectra\n",
    "label = 'FE_H'\n",
    "low = -0.5\n",
    "up = -0.4\n",
    "sliceinfo = [label,low,up]\n",
    "sindx = rd.slice_data(data, sliceinfo)\n",
    "sdata = data[sindx]\n",
    "maskdata = acs.get_spectra_ap(sdata,ext = 3, header = False,indx = 1)\n",
    "ints = [i for i in range(len(maskdata)) if not isinstance(maskdata[i],np.int16)]\n",
    "maskdata = maskdata[ints]\n",
    "maskdata = np.array(list(maskdata),dtype = np.int64)\n",
    "specs = acs.get_spectra_asp(sdata,header = False)\n",
    "specs = specs[ints]\n",
    "errs = acs.get_spectra_asp(sdata,ext = 2, header = False)\n",
    "errs = errs[ints]"
   ]
  },
  {
   "cell_type": "code",
   "execution_count": null,
   "metadata": {
    "collapsed": false
   },
   "outputs": [],
   "source": [
    "# Find fit residuals\n",
    "O = 1\n",
    "badcombpixmask= bitmask.badpixmask()+2**bitmask.apogee_pixmask_int(\"SIG_SKYLINE\")\n",
    "dir = './'\n",
    "ressname = 'rcresiduals_order{0}_{1}_u{2}_d{3}.pkl'.format(O,label,low,up)\n",
    "ngen = False\n",
    "if os.path.isfile(dir+ressname) and ngen:\n",
    "    ress = acs.pklread(dir+ressname)\n",
    "elif not os.path.isfile(dir+ressname) or not ngen:\n",
    "    ps = []\n",
    "    ress = []\n",
    "    discard = []\n",
    "    for pix in range(len(specs[0])):\n",
    "        mask,badspec = rd.pixmask_find(maskdata,pix,bitval = badcombpixmask)\n",
    "        mdata = sdata[mask]\n",
    "        mspecs = specs[mask]\n",
    "        merrs = errs[mask]\n",
    "        discard.append('{0} of {1}'.format(len(sdata)-len(mask[0]),len(sdata)))\n",
    "        res = np.zeros(len(specs))\n",
    "        try:\n",
    "            p = pf.regfit((mdata['TEFF'],mdata['LOGG'],mdata['FE_H']),mspecs[:,pix],err = merrs[:,pix],order = O)\n",
    "            ps.append(p)\n",
    "            res[mask] = mspecs[:,pix] - pf.poly(p,(mdata['TEFF'],mdata['LOGG'],mdata['METALS']),order = O)\n",
    "            ress.append(res)\n",
    "        except LinAlgError:\n",
    "            continue\n",
    "    ress = np.array(ress)\n",
    "    dfile = open('dis_'+ressname.split('.pkl')[0]+'.txt','wb')\n",
    "    dfile.write(\"\\n\".join(discard))\n",
    "    acs.pklwrite(ressname,ress) "
   ]
  },
  {
   "cell_type": "code",
   "execution_count": null,
   "metadata": {
    "collapsed": false
   },
   "outputs": [],
   "source": [
    "# Plot residuals for each element\n",
    "elems = ['Al','Ca','C','Fe','K','Mg','Mn','Na','Ni','N','O','Si','S','Ti','V']\n",
    "for elem in elems:\n",
    "    w = wn.read(elem,dr = 12,apStarWavegrid=False)\n",
    "    th = wn.tophat(elem,dr=12,apStarWavegrid=False)\n",
    "    th = np.where(th == True)\n",
    "    nw = pf.normweights(w)[th]\n",
    "    resids = []\n",
    "    for star in range(len(ress[0])):\n",
    "        resids.append(pf.genresidual(nw,ress[:,star][th]))\n",
    "    acs.pklwrite('{0}_residuals_order{1}_{2}_u{3}_d{4}.pkl'.format(elem,O,label,low,up),resids)\n",
    "    plt.figure(figsize = (10,8))\n",
    "    plt.hist(resids,bins = 50,range=(-0.1,0.1))\n",
    "    plt.xlim(-0.1,0.1)\n",
    "    plt.xlabel('Weighted fit residual of star for {0}'.format(elem))\n",
    "    plt.ylabel('Count')\n",
    "    plt.title('Residual from TEFF, LOGG, METALS fit for {0}'.format(elem))\n",
    "    plt.savefig(dir+'{0}_residuals_order{1}_{2}_u{3}_d{4}.png'.format(elem,O,label,low,up))"
   ]
  },
  {
   "cell_type": "code",
   "execution_count": null,
   "metadata": {
    "collapsed": false
   },
   "outputs": [],
   "source": [
    "# Plot results for Aluminum line\n",
    "doplot = False\n",
    "if doplot:\n",
    "    pix = 6296\n",
    "    res = ress[pix]\n",
    "    mask,badspec = pixmask_find(maskdata,pix)\n",
    "    mdata = sdata[mask]\n",
    "    mspecs = specs[mask]\n",
    "    merrs = errs[mask]\n",
    "    Teff = np.arange(min(mdata['TEFF']),max(mdata['TEFF']))\n",
    "    logg = np.arange(min(mdata['LOGG']),max(mdata['LOGG']),((max(mdata['LOGG']-min(mdata['LOGG'])))/len(Teff)))\n",
    "    metals = np.arange(min(mdata['METALS']),max(mdata['METALS']),((max(mdata['METALS']-min(mdata['METALS'])))/len(Teff)))\n",
    "    pl = np.where(merrs[:,pix] < 0.1)\n",
    "    rpl = np.where(merrs[:,pix] > 0.1)\n",
    "    plt.figure(figsize = (10,8))\n",
    "    plt.subplot2grid((3,3),(0,0))\n",
    "    plt.errorbar(mdata['TEFF'][pl],mspecs[:,pix][pl],yerr = merrs[:,pix][pl],fmt='.')\n",
    "    plt.plot(Teff,poly_indep(p,(Teff,logg,metals),order = O),linewidth = 3)\n",
    "    plt.plot(mdata['TEFF'][rpl],mspecs[:,pix][rpl],'.')\n",
    "    plt.xlabel('T_EFF')\n",
    "    plt.ylabel('Pixel {0}'.format(pix))\n",
    "    plt.subplot2grid((3,3),(1,0))\n",
    "    plt.plot(mdata['TEFF'][pl],res[pl],'.')\n",
    "    plt.xlabel('T_EFF')\n",
    "    plt.ylabel('Fit residuals')\n",
    "    plt.subplot2grid((3,3),(2,0))\n",
    "    plt.semilogx(errs[:,pix][pl],res[pl],'.')\n",
    "    plt.xlabel('Uncertainty in Pixel {0}'.format(pix))\n",
    "    plt.ylabel('Fit residuals')\n",
    "    plt.subplot2grid((3,3),(0,1))\n",
    "    plt.errorbar(mdata['LOGG'][pl],mspecs[:,pix][pl],yerr = merrs[:,pix][pl],fmt='.')\n",
    "    plt.plot(logg,poly_indep(p,(Teff,logg,metals),order = O),linewidth = 3)\n",
    "    plt.plot(mdata['LOGG'][rpl],mspecs[:,pix][rpl],'.')\n",
    "    plt.xlabel('LOG(G)')\n",
    "    plt.ylabel('Pixel {0}'.format(pix))\n",
    "    plt.subplot2grid((3,3),(1,1))\n",
    "    plt.plot(mdata['LOGG'][pl],res[pl],'.')\n",
    "    plt.xlabel('LOG(G)')\n",
    "    plt.ylabel('Fit residuals')\n",
    "    plt.tight_layout()\n",
    "    plt.subplot2grid((3,3),(0,2))\n",
    "    plt.errorbar(mdata['METALS'][pl],mspecs[:,pix][pl],yerr = merrs[:,pix][pl],fmt='.')\n",
    "    plt.plot(metals,poly_indep(p,(Teff,logg,metals),order = O),linewidth = 3)\n",
    "    plt.plot(mdata['METALS'][rpl],mspecs[:,pix][rpl],'.')\n",
    "    plt.xlabel('Metallicity')\n",
    "    plt.ylabel('Pixel {0}'.format(pix))\n",
    "    plt.subplot2grid((3,3),(1,2))\n",
    "    plt.plot(mdata['METALS'][pl],res[pl],'.')\n",
    "    plt.xlabel('Metallicity')\n",
    "    plt.ylabel('Fit residuals')"
   ]
  },
  {
   "cell_type": "code",
   "execution_count": null,
   "metadata": {
    "collapsed": false
   },
   "outputs": [],
   "source": [
    "if doplot:\n",
    "    fig = plt.figure(figsize = (10,8))\n",
    "    ax = fig.add_subplot(111, projection='3d')\n",
    "    ax.plot(mdata['TEFF'],mdata['LOGG'],specs[:,6296],'.')\n",
    "    ax.plot(Teff,logg,poly_indep(p,(Teff,logg,metals)))"
   ]
  },
  {
   "cell_type": "code",
   "execution_count": null,
   "metadata": {
    "collapsed": false
   },
   "outputs": [],
   "source": [
    "from read_clusterdata import read_caldata\n",
    "dat = read_caldata()"
   ]
  },
  {
   "cell_type": "code",
   "execution_count": null,
   "metadata": {
    "collapsed": false
   },
   "outputs": [],
   "source": [
    "dat['APOGEE_ID'] = dat['ID']"
   ]
  },
  {
   "cell_type": "code",
   "execution_count": null,
   "metadata": {
    "collapsed": false
   },
   "outputs": [],
   "source": [
    "#maskdata = acs.get_spectra_ap(dat,ext = 3, header = False,indx = 1)\n",
    "#ints = [i for i in range(len(maskdata)) if not isinstance(maskdata[i],np.int16)]\n",
    "#maskdata = maskdata[ints]\n",
    "#maskdata = np.array(list(maskdata),dtype = np.int64)\n",
    "specs,ind = acs.get_spectra_asp(dat,header = False)\n",
    "#specs = specs[ints]\n",
    "errs,ind = acs.get_spectra_asp(dat,ext = 2, header = False)\n",
    "#errs = errs[ints]"
   ]
  },
  {
   "cell_type": "code",
   "execution_count": null,
   "metadata": {
    "collapsed": false
   },
   "outputs": [],
   "source": [
    "O = 1\n",
    "dat = dat[ind]\n",
    "Tkeep = np.where(dat['TEFF']!=0)\n",
    "dat = dat[Tkeep]\n",
    "specs = specs[Tkeep]\n",
    "errs = errs[Tkeep]"
   ]
  },
  {
   "cell_type": "code",
   "execution_count": null,
   "metadata": {
    "collapsed": false
   },
   "outputs": [],
   "source": [
    "# Find fit residuals\n",
    "dir = './'\n",
    "ressname = 'cresiduals_order{0}.pkl'.format(O)\n",
    "ngen = False\n",
    "if os.path.isfile(dir+ressname) and ngen:\n",
    "    ress = acs.pklread(dir+ressname)\n",
    "elif not os.path.isfile(dir+ressname) or not ngen:\n",
    "    ps = []\n",
    "    ress = []\n",
    "    discard = []\n",
    "    for pix in range(len(specs[0])):\n",
    "        #mask,badspec = rd.pixmask_find(maskdata,pix,bitval = badcombpixmask)\n",
    "        #mdata = sdata[mask]\n",
    "        #mspecs = specs[mask]\n",
    "        #merrs = errs[mask]\n",
    "        #discard.append('{0} of {1}'.format(len(sdata)-len(mask[0]),len(sdata)))\n",
    "        res = np.zeros(len(specs))\n",
    "        try:\n",
    "            p = pf.regfit(dat['TEFF'],specs[:,pix],err = errs[:,pix],order = O)\n",
    "            ps.append(p)\n",
    "            res = specs[:,pix] - pf.poly(p,dat['TEFF'],order = O)\n",
    "            ress.append(res)\n",
    "            #plt.figure()\n",
    "            #plt.plot(dat['TEFF'],specs[:,pix],'.')\n",
    "            #plt.plot(dat['TEFF'],pf.poly(p,dat['TEFF'],order = O))\n",
    "        except LinAlgError:\n",
    "            continue\n",
    "    ress = np.array(ress)\n",
    "    #dfile = open('dis_'+ressname.split('.pkl')[0]+'.txt','wb')\n",
    "    #dfile.write(\"\\n\".join(discard))\n",
    "    acs.pklwrite(ressname,ress) "
   ]
  },
  {
   "cell_type": "code",
   "execution_count": null,
   "metadata": {
    "collapsed": false
   },
   "outputs": [],
   "source": [
    "elems = ['Al','Ca','C','Fe','K','Mg','Mn','Na','Ni','N','O','Si','S','Ti','V']\n",
    "for elem in elems:\n",
    "    w = wn.read(elem,dr = 12,apStarWavegrid=False)\n",
    "    th = wn.tophat(elem,dr=12,apStarWavegrid=False)\n",
    "    th = np.where(th == True)\n",
    "    nw = pf.normweights(w)[th]\n",
    "    resids = []\n",
    "    for star in range(len(ress[0])):\n",
    "        resids.append(pf.genresidual(nw,ress[:,star][th]))\n",
    "    acs.pklwrite('{0}_cresiduals_order{1}.pkl'.format(elem,O),resids)\n",
    "    plt.figure(figsize = (10,8))\n",
    "    plt.hist(resids,bins = 50,range=(-0.1,0.1))\n",
    "    plt.xlim(-0.1,0.1)\n",
    "    plt.xlabel('Weighted fit residual of star for {0}'.format(elem))\n",
    "    plt.ylabel('Count')\n",
    "    plt.title('Residual from TEFF, LOGG, METALS fit for {0}'.format(elem))\n",
    "    plt.savefig(dir+'{0}_cresiduals_order{1}.png'.format(elem,O))"
   ]
  },
  {
   "cell_type": "code",
   "execution_count": null,
   "metadata": {
    "collapsed": true
   },
   "outputs": [],
   "source": []
  }
 ],
 "metadata": {
  "kernelspec": {
   "display_name": "Python 2",
   "language": "python",
   "name": "python2"
  },
  "language_info": {
   "codemirror_mode": {
    "name": "ipython",
    "version": 2
   },
   "file_extension": ".py",
   "mimetype": "text/x-python",
   "name": "python",
   "nbconvert_exporter": "python",
   "pygments_lexer": "ipython2",
   "version": "2.7.10"
  }
 },
 "nbformat": 4,
 "nbformat_minor": 0
}
