{
 "cells": [
  {
   "cell_type": "code",
   "execution_count": 1,
   "metadata": {
    "collapsed": false
   },
   "outputs": [
    {
     "name": "stdout",
     "output_type": "stream",
     "text": [
      "Populating the interactive namespace from numpy and matplotlib\n"
     ]
    }
   ],
   "source": [
    "import apogee.tools.read as apread\n",
    "from apogee.tools import bitmask\n",
    "import numpy as np\n",
    "import matplotlib.pyplot as plt\n",
    "from mpl_toolkits.mplot3d import Axes3D\n",
    "from matplotlib.colors import LogNorm\n",
    "import apogee.spec.window as wn\n",
    "import os\n",
    "import access_spectrum as acs\n",
    "import reduce_dataset as rd\n",
    "import polyfit as pf\n",
    "%pylab inline"
   ]
  },
  {
   "cell_type": "code",
   "execution_count": 2,
   "metadata": {
    "collapsed": false
   },
   "outputs": [],
   "source": [
    "# Load in Red Clump sample\n",
    "data = apread.rcsample()"
   ]
  },
  {
   "cell_type": "code",
   "execution_count": 28,
   "metadata": {
    "collapsed": false
   },
   "outputs": [],
   "source": [
    "# Load in spectra\n",
    "label = 'FE_H'\n",
    "low = -0.5\n",
    "up = -0.4\n",
    "sliceinfo = [label,low,up]\n",
    "sindx = rd.slice_data(data, sliceinfo)\n",
    "sdata = data[sindx]\n",
    "maskdata = acs.get_spectra_ap(sdata,ext = 3, header = False,indx = 1)\n",
    "specs,hdrs = acs.get_spectra_asp(sdata,header = True)\n",
    "errs = acs.get_spectra_asp(sdata,ext = 2, header = False)"
   ]
  },
  {
   "cell_type": "code",
   "execution_count": 30,
   "metadata": {
    "collapsed": false
   },
   "outputs": [],
   "source": [
    "# Find fit residuals\n",
    "O = 1\n",
    "badcombpixmask= bitmask.badpixmask()+2**bitmask.apogee_pixmask_int(\"SIG_SKYLINE\")\n",
    "dir = './'\n",
    "ressname = 'rcresiduals_order{0}_{1}_u{2}_d{3}.pkl'.format(O,label,low,up)\n",
    "ngen = False\n",
    "if os.path.isfile(dir+ressname) and ngen:\n",
    "    ress = acs.pklread(dir+ressname)\n",
    "elif not os.path.isfile(dir+ressname) or not ngen:\n",
    "    ps = []\n",
    "    ress = []\n",
    "    discard = []\n",
    "    for pix in range(len(specs[0])):\n",
    "        mask,badspec = rd.pixmask_find(maskdata,pix,bitval = badcombpixmask)\n",
    "        mdata = sdata[mask]\n",
    "        mspecs = specs[mask]\n",
    "        merrs = errs[mask]\n",
    "        discard.append('{0} of {1}'.format(len(sdata)-len(mask[0]),len(sdata)))\n",
    "        res = np.zeros(len(specs))\n",
    "        try:\n",
    "            p = pf.regfit((mdata['TEFF'],mdata['LOGG'],mdata['FE_H']),mspecs[:,pix],err = merrs[:,pix],order = O)\n",
    "            ps.append(p)\n",
    "            res[mask] = mspecs[:,pix] - pf.poly(p,(mdata['TEFF'],mdata['LOGG'],mdata['METALS']),order = O)\n",
    "            ress.append(res)\n",
    "        except LinAlgError:\n",
    "            continue\n",
    "    ress = np.array(ress)\n",
    "    dfile = open('dis_'+ressname.split('.pkl')[0]+'.txt','wb')\n",
    "    dfile.write(\"\\n\".join(discard))\n",
    "    acs.pklwrite(ressname,ress) "
   ]
  },
  {
   "cell_type": "code",
   "execution_count": null,
   "metadata": {
    "collapsed": false
   },
   "outputs": [],
   "source": [
    "# Plot residuals for each element\n",
    "elems = ['Al','Ca','C','Fe','K','Mg','Mn','Na','Ni','N','O','Si','S','Ti','V']\n",
    "for elem in elems:\n",
    "    w = wn.read(elem,dr = 12,apStarWavegrid=False)\n",
    "    th = wn.tophat(elem,dr=12,apStarWavegrid=False)\n",
    "    th = np.where(th == True)\n",
    "    nw = pf.normweights(w)[th]\n",
    "    resids = []\n",
    "    for star in range(len(ress[0])):\n",
    "        resids.append(pf.genresidual(nw,ress[:,star][th]))\n",
    "    acs.pklwrite('{0}_residuals_order{1}_{2}_u{3}_d{4}.pkl'.format(elem,O,label,low,up),resids)\n",
    "    plt.figure(figsize = (10,8))\n",
    "    plt.hist(resids,bins = 50,range=(-0.1,0.1))\n",
    "    plt.xlim(-0.1,0.1)\n",
    "    plt.xlabel('Weighted fit residual of star for {0}'.format(elem))\n",
    "    plt.ylabel('Count')\n",
    "    plt.title('Residual from TEFF, LOGG, METALS fit for {0}'.format(elem))\n",
    "    plt.savefig(dir+'{0}_residuals_order{1}_{2}_u{3}_d{4}.png'.format(elem,O,label,low,up))"
   ]
  },
  {
   "cell_type": "code",
   "execution_count": null,
   "metadata": {
    "collapsed": false
   },
   "outputs": [],
   "source": [
    "# Plot results for Aluminum line\n",
    "doplot = False\n",
    "if doplot:\n",
    "    pix = 6296\n",
    "    res = ress[pix]\n",
    "    mask,badspec = pixmask_find(maskdata,pix)\n",
    "    mdata = sdata[mask]\n",
    "    mspecs = specs[mask]\n",
    "    merrs = errs[mask]\n",
    "    Teff = np.arange(min(mdata['TEFF']),max(mdata['TEFF']))\n",
    "    logg = np.arange(min(mdata['LOGG']),max(mdata['LOGG']),((max(mdata['LOGG']-min(mdata['LOGG'])))/len(Teff)))\n",
    "    metals = np.arange(min(mdata['METALS']),max(mdata['METALS']),((max(mdata['METALS']-min(mdata['METALS'])))/len(Teff)))\n",
    "    pl = np.where(merrs[:,pix] < 0.1)\n",
    "    rpl = np.where(merrs[:,pix] > 0.1)\n",
    "    plt.figure(figsize = (10,8))\n",
    "    plt.subplot2grid((3,3),(0,0))\n",
    "    plt.errorbar(mdata['TEFF'][pl],mspecs[:,pix][pl],yerr = merrs[:,pix][pl],fmt='.')\n",
    "    plt.plot(Teff,poly_indep(p,(Teff,logg,metals),order = O),linewidth = 3)\n",
    "    plt.plot(mdata['TEFF'][rpl],mspecs[:,pix][rpl],'.')\n",
    "    plt.xlabel('T_EFF')\n",
    "    plt.ylabel('Pixel {0}'.format(pix))\n",
    "    plt.subplot2grid((3,3),(1,0))\n",
    "    plt.plot(mdata['TEFF'][pl],res[pl],'.')\n",
    "    plt.xlabel('T_EFF')\n",
    "    plt.ylabel('Fit residuals')\n",
    "    plt.subplot2grid((3,3),(2,0))\n",
    "    plt.semilogx(errs[:,pix][pl],res[pl],'.')\n",
    "    plt.xlabel('Uncertainty in Pixel {0}'.format(pix))\n",
    "    plt.ylabel('Fit residuals')\n",
    "    plt.subplot2grid((3,3),(0,1))\n",
    "    plt.errorbar(mdata['LOGG'][pl],mspecs[:,pix][pl],yerr = merrs[:,pix][pl],fmt='.')\n",
    "    plt.plot(logg,poly_indep(p,(Teff,logg,metals),order = O),linewidth = 3)\n",
    "    plt.plot(mdata['LOGG'][rpl],mspecs[:,pix][rpl],'.')\n",
    "    plt.xlabel('LOG(G)')\n",
    "    plt.ylabel('Pixel {0}'.format(pix))\n",
    "    plt.subplot2grid((3,3),(1,1))\n",
    "    plt.plot(mdata['LOGG'][pl],res[pl],'.')\n",
    "    plt.xlabel('LOG(G)')\n",
    "    plt.ylabel('Fit residuals')\n",
    "    plt.tight_layout()\n",
    "    plt.subplot2grid((3,3),(0,2))\n",
    "    plt.errorbar(mdata['METALS'][pl],mspecs[:,pix][pl],yerr = merrs[:,pix][pl],fmt='.')\n",
    "    plt.plot(metals,poly_indep(p,(Teff,logg,metals),order = O),linewidth = 3)\n",
    "    plt.plot(mdata['METALS'][rpl],mspecs[:,pix][rpl],'.')\n",
    "    plt.xlabel('Metallicity')\n",
    "    plt.ylabel('Pixel {0}'.format(pix))\n",
    "    plt.subplot2grid((3,3),(1,2))\n",
    "    plt.plot(mdata['METALS'][pl],res[pl],'.')\n",
    "    plt.xlabel('Metallicity')\n",
    "    plt.ylabel('Fit residuals')"
   ]
  },
  {
   "cell_type": "code",
   "execution_count": null,
   "metadata": {
    "collapsed": false
   },
   "outputs": [],
   "source": [
    "if doplot:\n",
    "    fig = plt.figure(figsize = (10,8))\n",
    "    ax = fig.add_subplot(111, projection='3d')\n",
    "    ax.plot(mdata['TEFF'],mdata['LOGG'],specs[:,6296],'.')\n",
    "    ax.plot(Teff,logg,poly_indep(p,(Teff,logg,metals)))"
   ]
  }
 ],
 "metadata": {
  "kernelspec": {
   "display_name": "Python 2",
   "language": "python",
   "name": "python2"
  },
  "language_info": {
   "codemirror_mode": {
    "name": "ipython",
    "version": 2
   },
   "file_extension": ".py",
   "mimetype": "text/x-python",
   "name": "python",
   "nbconvert_exporter": "python",
   "pygments_lexer": "ipython2",
   "version": "2.7.10"
  }
 },
 "nbformat": 4,
 "nbformat_minor": 0
}
