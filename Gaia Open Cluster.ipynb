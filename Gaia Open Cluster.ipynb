{
 "cells": [
  {
   "cell_type": "code",
   "execution_count": 1,
   "metadata": {
    "collapsed": false,
    "scrolled": true
   },
   "outputs": [
    {
     "name": "stdout",
     "output_type": "stream",
     "text": [
      "Populating the interactive namespace from numpy and matplotlib\n"
     ]
    },
    {
     "name": "stderr",
     "output_type": "stream",
     "text": [
      "/usr/lib/python2.7/site-packages/setuptools-18.7.1-py2.7.egg/pkg_resources/__init__.py:1266: UserWarning: /home/price-jones/.python-eggs is writable by group/others and vulnerable to attack when used with get_resource_filename. Consider a more secure location (set with .set_extraction_path or the PYTHON_EGG_CACHE environment variable).\n"
     ]
    }
   ],
   "source": [
    "from empca_residuals import *\n",
    "import gaia_tools.load as gload\n",
    "from gaia_tools import xmatch\n",
    "import matplotlib.pyplot as plt\n",
    "import os\n",
    "%pylab inline"
   ]
  },
  {
   "cell_type": "code",
   "execution_count": 20,
   "metadata": {
    "collapsed": false
   },
   "outputs": [
    {
     "data": {
      "text/plain": [
       "['M107',\n",
       " 'M13',\n",
       " 'M15',\n",
       " 'M2',\n",
       " 'M3',\n",
       " 'M35',\n",
       " 'M5',\n",
       " 'M53',\n",
       " 'M67',\n",
       " 'M71',\n",
       " 'M92',\n",
       " 'N188',\n",
       " 'N2158',\n",
       " 'N2420',\n",
       " 'N4147',\n",
       " 'N5466',\n",
       " 'N6791',\n",
       " 'N6819',\n",
       " 'N7789',\n",
       " 'Pleiades']"
      ]
     },
     "execution_count": 20,
     "metadata": {},
     "output_type": "execute_result"
    }
   ],
   "source": [
    "import astropy\n",
    "filename='../clusterdata/aj485195t4_mrt.txt'\n",
    "data= astropy.io.ascii.read(filename)\n",
    "list(np.unique(data['Cluster']))"
   ]
  },
  {
   "cell_type": "code",
   "execution_count": 3,
   "metadata": {
    "collapsed": true
   },
   "outputs": [],
   "source": [
    "tgas_cat= gload.tgas()"
   ]
  },
  {
   "cell_type": "code",
   "execution_count": 8,
   "metadata": {
    "collapsed": false
   },
   "outputs": [
    {
     "name": "stdout",
     "output_type": "stream",
     "text": [
      "Which data release? (Enter for 13): 12\n",
      "Type done at any prompt when finished\n",
      "Data key: CLUSTER\n",
      "Default is full range. Match or slice? m\n",
      "Match value: M67\n",
      "Data key: done\n",
      "Done getting filter information\n",
      "Number of stars in TGAS: 9\n"
     ]
    },
    {
     "data": {
      "text/plain": [
       "[<matplotlib.lines.Line2D at 0x8855e10>]"
      ]
     },
     "execution_count": 8,
     "metadata": {},
     "output_type": "execute_result"
    },
    {
     "data": {
      "image/png": "[encoded data removed]",
      "text/plain": [
       "<matplotlib.figure.Figure at 0x874e190>"
      ]
     },
     "metadata": {},
     "output_type": "display_data"
    }
   ],
   "source": [
    "cluster = empca_residuals('apogee','clusters',maskFilter,ask=True)\n",
    "m1,m2,sep= xmatch.xmatch(cluster.matchingData,tgas_cat,colRA2='ra',colDec2='dec',epoch2=2015.)\n",
    "apogee_match = cluster.matchingData[m1]\n",
    "tgas_match = tgas_cat[m2]\n",
    "print 'Number of stars in TGAS: {0}'.format(len(m1))\n",
    "plt.plot(tgas_match['pmra'],tgas_match['pmdec'],'.')"
   ]
  },
  {
   "cell_type": "code",
   "execution_count": 9,
   "metadata": {
    "collapsed": false
   },
   "outputs": [
    {
     "name": "stdout",
     "output_type": "stream",
     "text": [
      "Which data release? (Enter for 13): 12\n",
      "Type done at any prompt when finished\n",
      "Data key: CLUSTER\n",
      "Default is full range. Match or slice? m\n",
      "Match value: N2158\n",
      "Data key: done\n",
      "Done getting filter information\n",
      "Number of stars in TGAS: 0\n"
     ]
    },
    {
     "data": {
      "text/plain": [
       "[<matplotlib.lines.Line2D at 0x8aa97d0>]"
      ]
     },
     "execution_count": 9,
     "metadata": {},
     "output_type": "execute_result"
    },
    {
     "data": {
      "image/png": "[encoded data removed]",
      "text/plain": [
       "<matplotlib.figure.Figure at 0x882fd50>"
      ]
     },
     "metadata": {},
     "output_type": "display_data"
    }
   ],
   "source": [
    "cluster = empca_residuals('apogee','clusters',maskFilter,ask=True)\n",
    "m1,m2,sep= xmatch.xmatch(cluster.matchingData,tgas_cat,colRA2='ra',colDec2='dec',epoch2=2015.)\n",
    "apogee_match = cluster.matchingData[m1]\n",
    "tgas_match = tgas_cat[m2]\n",
    "print 'Number of stars in TGAS: {0}'.format(len(m1))\n",
    "plt.plot(tgas_match['pmra'],tgas_match['pmdec'],'.')"
   ]
  },
  {
   "cell_type": "code",
   "execution_count": 10,
   "metadata": {
    "collapsed": false
   },
   "outputs": [
    {
     "name": "stdout",
     "output_type": "stream",
     "text": [
      "Which data release? (Enter for 13): 12\n",
      "Type done at any prompt when finished\n",
      "Data key: CLUSTER\n",
      "Default is full range. Match or slice? m\n",
      "Match value: M13\n",
      "Data key: done\n",
      "Done getting filter information\n",
      "Number of stars in TGAS: 1\n"
     ]
    },
    {
     "data": {
      "text/plain": [
       "[<matplotlib.lines.Line2D at 0x890bf10>]"
      ]
     },
     "execution_count": 10,
     "metadata": {},
     "output_type": "execute_result"
    },
    {
     "data": {
      "image/png": "[encoded data removed]",
      "text/plain": [
       "<matplotlib.figure.Figure at 0x875e2d0>"
      ]
     },
     "metadata": {},
     "output_type": "display_data"
    }
   ],
   "source": [
    "cluster = empca_residuals('apogee','clusters',maskFilter,ask=True)\n",
    "m1,m2,sep= xmatch.xmatch(cluster.matchingData,tgas_cat,colRA2='ra',colDec2='dec',epoch2=2015.)\n",
    "apogee_match = cluster.matchingData[m1]\n",
    "tgas_match = tgas_cat[m2]\n",
    "print 'Number of stars in TGAS: {0}'.format(len(m1))\n",
    "plt.plot(tgas_match['pmra'],tgas_match['pmdec'],'.')"
   ]
  },
  {
   "cell_type": "code",
   "execution_count": 11,
   "metadata": {
    "collapsed": false
   },
   "outputs": [
    {
     "name": "stdout",
     "output_type": "stream",
     "text": [
      "Which data release? (Enter for 13): 12\n",
      "Type done at any prompt when finished\n",
      "Data key: CLUSTER\n",
      "Default is full range. Match or slice? m\n",
      "Match value: N6819\n",
      "Data key: done\n",
      "Done getting filter information\n",
      "Number of stars in TGAS: 2\n"
     ]
    },
    {
     "data": {
      "text/plain": [
       "[<matplotlib.lines.Line2D at 0x88f94d0>]"
      ]
     },
     "execution_count": 11,
     "metadata": {},
     "output_type": "execute_result"
    },
    {
     "data": {
      "image/png": "[encoded data removed]",
      "text/plain": [
       "<matplotlib.figure.Figure at 0x886b2d0>"
      ]
     },
     "metadata": {},
     "output_type": "display_data"
    }
   ],
   "source": [
    "cluster = empca_residuals('apogee','clusters',maskFilter,ask=True)\n",
    "m1,m2,sep= xmatch.xmatch(cluster.matchingData,tgas_cat,colRA2='ra',colDec2='dec',epoch2=2015.)\n",
    "apogee_match = cluster.matchingData[m1]\n",
    "tgas_match = tgas_cat[m2]\n",
    "print 'Number of stars in TGAS: {0}'.format(len(m1))\n",
    "plt.plot(tgas_match['pmra'],tgas_match['pmdec'],'.')"
   ]
  },
  {
   "cell_type": "code",
   "execution_count": null,
   "metadata": {
    "collapsed": false
   },
   "outputs": [],
   "source": []
  },
  {
   "cell_type": "code",
   "execution_count": null,
   "metadata": {
    "collapsed": true
   },
   "outputs": [],
   "source": []
  }
 ],
 "metadata": {
  "kernelspec": {
   "display_name": "Python 2",
   "language": "python",
   "name": "python2"
  },
  "language_info": {
   "codemirror_mode": {
    "name": "ipython",
    "version": 2
   },
   "file_extension": ".py",
   "mimetype": "text/x-python",
   "name": "python",
   "nbconvert_exporter": "python",
   "pygments_lexer": "ipython2",
   "version": "2.7.5"
  }
 },
 "nbformat": 4,
 "nbformat_minor": 0
}
