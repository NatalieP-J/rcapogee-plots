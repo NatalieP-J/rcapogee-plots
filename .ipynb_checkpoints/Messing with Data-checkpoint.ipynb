{
 "cells": [
  {
   "cell_type": "code",
   "execution_count": 2,
   "metadata": {
    "collapsed": false
   },
   "outputs": [
    {
     "name": "stdout",
     "output_type": "stream",
     "text": [
      "Populating the interactive namespace from numpy and matplotlib\n"
     ]
    },
    {
     "name": "stderr",
     "output_type": "stream",
     "text": [
      "/usr/lib/python2.7/site-packages/pkg_resources.py:1054: UserWarning: /home/price-jones/.python-eggs is writable by group/others and vulnerable to attack when used with get_resource_filename. Consider a more secure location (set with .set_extraction_path or the PYTHON_EGG_CACHE environment variable).\n",
      "  warnings.warn(msg, UserWarning)\n"
     ]
    }
   ],
   "source": [
    "import apogee.tools.read as apread\n",
    "import numpy as np\n",
    "import matplotlib.pyplot as plt\n",
    "%pylab inline"
   ]
  },
  {
   "cell_type": "code",
   "execution_count": 3,
   "metadata": {
    "collapsed": false
   },
   "outputs": [
    {
     "name": "stdout",
     "output_type": "stream",
     "text": []
    }
   ],
   "source": [
    "data = apread.rcsample()"
   ]
  },
  {
   "cell_type": "code",
   "execution_count": 4,
   "metadata": {
    "collapsed": true
   },
   "outputs": [],
   "source": [
    "indx = (data['TEFF']<4800) & (data['TEFF']>4795)"
   ]
  },
  {
   "cell_type": "code",
   "execution_count": 5,
   "metadata": {
    "collapsed": false
   },
   "outputs": [
    {
     "data": {
      "text/plain": [
       "260"
      ]
     },
     "execution_count": 5,
     "metadata": {},
     "output_type": "execute_result"
    }
   ],
   "source": [
    "Tdata = data[indx]\n",
    "len(Tdata)"
   ]
  },
  {
   "cell_type": "code",
   "execution_count": 6,
   "metadata": {
    "collapsed": false
   },
   "outputs": [],
   "source": [
    "LID = Tdata['LOCATION_ID'][0]\n",
    "AID = Tdata['APOGEE_ID'][0]"
   ]
  },
  {
   "cell_type": "code",
   "execution_count": 7,
   "metadata": {
    "collapsed": false
   },
   "outputs": [
    {
     "data": {
      "text/plain": [
       "4264"
      ]
     },
     "execution_count": 7,
     "metadata": {},
     "output_type": "execute_result"
    }
   ],
   "source": [
    "LID"
   ]
  },
  {
   "cell_type": "code",
   "execution_count": 8,
   "metadata": {
    "collapsed": false
   },
   "outputs": [
    {
     "data": {
      "text/plain": [
       "'2M00003071+5606028'"
      ]
     },
     "execution_count": 8,
     "metadata": {},
     "output_type": "execute_result"
    }
   ],
   "source": [
    "AID"
   ]
  },
  {
   "cell_type": "code",
   "execution_count": 9,
   "metadata": {
    "collapsed": false
   },
   "outputs": [
    {
     "name": "stdout",
     "output_type": "stream",
     "text": []
    }
   ],
   "source": [
    "spec, hdr = apread.aspcapStar(LID,AID,ext = 1)"
   ]
  },
  {
   "cell_type": "code",
   "execution_count": 10,
   "metadata": {
    "collapsed": false
   },
   "outputs": [
    {
     "name": "stdout",
     "output_type": "stream",
     "text": []
    }
   ],
   "source": [
    "specs = []\n",
    "for i in range(len(Tdata)):\n",
    "    spec, hdr = apread.aspcapStar(Tdata['LOCATION_ID'][i],Tdata['APOGEE_ID'][i])\n",
    "    specs.append(spec)"
   ]
  },
  {
   "cell_type": "code",
   "execution_count": 11,
   "metadata": {
    "collapsed": false
   },
   "outputs": [],
   "source": [
    "specs = np.array(specs)"
   ]
  },
  {
   "cell_type": "code",
   "execution_count": 12,
   "metadata": {
    "collapsed": false
   },
   "outputs": [
    {
     "data": {
      "text/plain": [
       "array([[ 0.,  0.,  0., ...,  0.,  0.,  0.],\n",
       "       [ 0.,  0.,  0., ...,  0.,  0.,  0.],\n",
       "       [ 0.,  0.,  0., ...,  0.,  0.,  0.],\n",
       "       ..., \n",
       "       [ 0.,  0.,  0., ...,  0.,  0.,  0.],\n",
       "       [ 0.,  0.,  0., ...,  0.,  0.,  0.],\n",
       "       [ 0.,  0.,  0., ...,  0.,  0.,  0.]], dtype=float32)"
      ]
     },
     "execution_count": 12,
     "metadata": {},
     "output_type": "execute_result"
    }
   ],
   "source": [
    "specs"
   ]
  },
  {
   "cell_type": "code",
   "execution_count": 18,
   "metadata": {
    "collapsed": false
   },
   "outputs": [],
   "source": [
    "def get_spectra(data):\n",
    "    \"\"\"\n",
    "    Returns spectra and header information for each object specified in data\n",
    "    \n",
    "    data:    labels for a subset of the APOGEE survey\n",
    "    \"\"\"\n",
    "    specs = []\n",
    "    hdrs = []\n",
    "    for i in range(len(data)):\n",
    "        spec,hdr = apread.aspcapStar(data['LOCATION_ID'][i],data['APOGEE_ID'][i])\n",
    "        specs.append(spec)\n",
    "        hdrs.append(hdr)\n",
    "    return np.array(specs),np.array(hdrs)"
   ]
  },
  {
   "cell_type": "code",
   "execution_count": 17,
   "metadata": {
    "collapsed": false
   },
   "outputs": [
    {
     "data": {
      "text/plain": [
       "[<matplotlib.lines.Line2D at 0x54f38d0>]"
      ]
     },
     "execution_count": 17,
     "metadata": {},
     "output_type": "execute_result"
    },
    {
     "data": {
      "image/png": "[encoded data removed]",
      "text/plain": [
       "<matplotlib.figure.Figure at 0x4de0d50>"
      ]
     },
     "metadata": {},
     "output_type": "display_data"
    }
   ],
   "source": [
    "plt.plot(Tdata['METALS'],specs[:,6296],'.')"
   ]
  },
  {
   "cell_type": "code",
   "execution_count": 43,
   "metadata": {
    "collapsed": false
   },
   "outputs": [],
   "source": [
    "def slice_plot(sliceinfo,plotids,pix = None, wv = None):\n",
    "    \"\"\"\n",
    "    Creates plots of label value for labels in plot ids vs value at a given pixel pix for \n",
    "    some subset of the red clump sample specified by slice info.\n",
    "    \n",
    "    sliceinfo:  a list that holds the following:\n",
    "                [key of label to slice in, lower slice limit and upper slice limit]\n",
    "    plotids:    a list of keys that indicate labels we wish to plot against pixel value\n",
    "    pix:        pixel value at which to plot (integer or array) - used by default over wv\n",
    "    wv:         optional specification of wavelength value instead of pixel \n",
    "                (not yet implemented, and program defaults to pixel if both are given)\n",
    "    \"\"\"\n",
    "    if pix == None and wv == None:\n",
    "        print 'Please specify a pixel or a wavelength'\n",
    "    if pix != None and wv != None:\n",
    "        print 'Defaulting to pixel value'\n",
    "        wv = None\n",
    "    if pix == None and wv != None:\n",
    "        # Add here some function to convert from pixel to wavelength\n",
    "        # this surely exists somewhere in apogee\n",
    "        # For now default to a particular pixel value: 3000\n",
    "        pix = 3000\n",
    "    data = apread.rcsample()\n",
    "    label, lower, upper = sliceinfo\n",
    "    indx = (data[label]>lower) & (data[label]<upper)\n",
    "    data = data[indx]\n",
    "    specs,hdrs = get_spectra(data)\n",
    "    plt.figure(figsize = (10,8))\n",
    "    if isinstance(pix,(int,float)):\n",
    "        for l in range(len(plotids)):\n",
    "            plt.subplot(len(plotids),1,l+1)\n",
    "            plt.plot(data[plotids[l]],specs[:,pix],'.')\n",
    "            smin = min(specs[:,pix])\n",
    "            smax = max(specs[:,pix])\n",
    "            if smin != smax:\n",
    "                plt.ylim(smin-0.1,smax+0.1)\n",
    "            plt.ylabel('Pixel Value')\n",
    "            plt.xlabel(plotids[l])\n",
    "            if l == 0:\n",
    "                plt.title('Pixel {0}'.format(pix))\n",
    "    elif isinstance(pix,(list, np.ndarray)):\n",
    "        for p in range(len(pix)):\n",
    "            for l in range(len(plotids)):\n",
    "                plt.subplot2grid((len(plotids),len(pix)),(l,p))\n",
    "                plt.plot(data[plotids[l]],specs[:,pix[p]],'.')\n",
    "                smin = min(specs[:,pix[p]])\n",
    "                smax = max(specs[:,pix[p]])\n",
    "                if smin != smax:\n",
    "                    plt.ylim(smin-0.1,smax+0.1)\n",
    "                plt.ylabel('Pixel Value')\n",
    "                plt.xlabel(plotids[l])\n",
    "                if l == 0:\n",
    "                    plt.title('Pixel {0}'.format(pix[p]))\n",
    "    plt.tight_layout()\n",
    "            \n",
    "    \n",
    "    "
   ]
  },
  {
   "cell_type": "code",
   "execution_count": 44,
   "metadata": {
    "collapsed": false
   },
   "outputs": [
    {
     "data": {
      "image/png": "[encoded data removed]",
      "text/plain": [
       "<matplotlib.figure.Figure at 0x7c33a50>"
      ]
     },
     "metadata": {},
     "output_type": "display_data"
    }
   ],
   "source": [
    "slice_plot(['TEFF',4795,4800],['METALS','LOGG','ALPHAFE'],pix = [300,6000])"
   ]
  },
  {
   "cell_type": "code",
   "execution_count": null,
   "metadata": {
    "collapsed": true
   },
   "outputs": [],
   "source": []
  }
 ],
 "metadata": {
  "kernelspec": {
   "display_name": "Python 2",
   "language": "python",
   "name": "python2"
  },
  "language_info": {
   "codemirror_mode": {
    "name": "ipython",
    "version": 2
   },
   "file_extension": ".py",
   "mimetype": "text/x-python",
   "name": "python",
   "nbconvert_exporter": "python",
   "pygments_lexer": "ipython2",
   "version": "2.7.5"
  }
 },
 "nbformat": 4,
 "nbformat_minor": 0
}
