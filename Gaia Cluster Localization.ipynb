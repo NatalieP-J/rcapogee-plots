{
 "cells": [
  {
   "cell_type": "code",
   "execution_count": 83,
   "metadata": {
    "collapsed": false
   },
   "outputs": [
    {
     "name": "stdout",
     "output_type": "stream",
     "text": [
      "Populating the interactive namespace from numpy and matplotlib\n"
     ]
    }
   ],
   "source": [
    "from empca_residuals import *\n",
    "import gaia_tools.load as gload\n",
    "from gaia_tools import xmatch\n",
    "import matplotlib.pyplot as plt\n",
    "import matplotlib\n",
    "import warnings\n",
    "import os\n",
    "%pylab inline"
   ]
  },
  {
   "cell_type": "code",
   "execution_count": 84,
   "metadata": {
    "collapsed": true
   },
   "outputs": [],
   "source": [
    "font = {'family': 'serif',\n",
    "        'weight': 'normal',\n",
    "        'size'  :  18\n",
    "}\n",
    "\n",
    "matplotlib.rc('font',**font)\n"
   ]
  },
  {
   "cell_type": "code",
   "execution_count": 2,
   "metadata": {
    "collapsed": true
   },
   "outputs": [],
   "source": [
    "tgas_cat= gload.tgas()"
   ]
  },
  {
   "cell_type": "code",
   "execution_count": 154,
   "metadata": {
    "collapsed": false
   },
   "outputs": [
    {
     "data": {
      "text/plain": [
       "dtype([('hip', '>i4'), ('tycho2_id', 'S12'), ('solution_id', '>i8'), ('source_id', '>i8'), ('random_index', '>i8'), ('ref_epoch', '>f8'), ('ra', '>f8'), ('ra_error', '>f8'), ('dec', '>f8'), ('dec_error', '>f8'), ('parallax', '>f8'), ('parallax_error', '>f8'), ('pmra', '>f8'), ('pmra_error', '>f8'), ('pmdec', '>f8'), ('pmdec_error', '>f8'), ('ra_dec_corr', '>f4'), ('ra_parallax_corr', '>f4'), ('ra_pmra_corr', '>f4'), ('ra_pmdec_corr', '>f4'), ('dec_parallax_corr', '>f4'), ('dec_pmra_corr', '>f4'), ('dec_pmdec_corr', '>f4'), ('parallax_pmra_corr', '>f4'), ('parallax_pmdec_corr', '>f4'), ('pmra_pmdec_corr', '>f4'), ('astrometric_n_obs_al', '>i4'), ('astrometric_n_obs_ac', '>i4'), ('astrometric_n_good_obs_al', '>i4'), ('astrometric_n_good_obs_ac', '>i4'), ('astrometric_n_bad_obs_al', '>i4'), ('astrometric_n_bad_obs_ac', '>i4'), ('astrometric_delta_q', '>f4'), ('astrometric_excess_noise', '>f8'), ('astrometric_excess_noise_sig', '>f8'), ('astrometric_primary_flag', '?'), ('astrometric_relegation_factor', '>f4'), ('astrometric_weight_al', '>f4'), ('astrometric_weight_ac', '>f4'), ('astrometric_priors_used', '>i4'), ('matched_observations', '>i2'), ('duplicated_source', '?'), ('scan_direction_strength_k1', '>f4'), ('scan_direction_strength_k2', '>f4'), ('scan_direction_strength_k3', '>f4'), ('scan_direction_strength_k4', '>f4'), ('scan_direction_mean_k1', '>f4'), ('scan_direction_mean_k2', '>f4'), ('scan_direction_mean_k3', '>f4'), ('scan_direction_mean_k4', '>f4'), ('phot_g_n_obs', '>i4'), ('phot_g_mean_flux', '>f8'), ('phot_g_mean_flux_error', '>f8'), ('phot_g_mean_mag', '>f8'), ('phot_variable_flag', 'S13'), ('l', '>f8'), ('b', '>f8'), ('ecl_lon', '>f8'), ('ecl_lat', '>f8')])"
      ]
     },
     "execution_count": 154,
     "metadata": {},
     "output_type": "execute_result"
    }
   ],
   "source": [
    "tgas_cat.dtype"
   ]
  },
  {
   "cell_type": "code",
   "execution_count": 153,
   "metadata": {
    "collapsed": false
   },
   "outputs": [
    {
     "data": {
      "text/plain": [
       "(-24.819952295536908, 295.80363766060833)"
      ]
     },
     "execution_count": 153,
     "metadata": {},
     "output_type": "execute_result"
    }
   ],
   "source": [
    "np.min(tgas_cat['parallax']),np.max(tgas_cat['parallax'])"
   ]
  },
  {
   "cell_type": "code",
   "execution_count": null,
   "metadata": {
    "collapsed": true
   },
   "outputs": [],
   "source": [
    " # Start figure                                                                                                                            \n",
    "plt.figure(figsize=(10,5.5))\n",
    "# Set up Cartesian axes                                                                                                                   \n",
    "car = plt.subplot(121)\n",
    "# Set up polar axes                                                                                                                       \n",
    "pol = plt.subplot(122,projection='polar')\n",
    "\n",
    "# Find location data                                                                                                                      \n",
    "phi = self.data['RC_GALPHI']\n",
    "r = self.data['RC_GALR']\n",
    "z = self.data['RC_GALZ']\n",
    "\n",
    "# Plot data                                                                                                                               \n",
    "car.plot(r,z,'ko',markersize=2,alpha=0.2)\n",
    "pol.plot(phi,r,'ko',markersize=2,alpha=0.2)\n",
    "# Reorient polar plot to match convention                                                                                                 \n",
    "pol.set_theta_direction(-1)\n",
    "\n",
    "# Constrain plot limits and set labels                                                                                                    \n",
    "car.set_xlim(min(r),max(r))\n",
    "car.set_ylim(min(z),max(z))\n",
    "car.set_xlabel('R (kpc)')\n",
    "car.set_ylabel('z (kpc)')\n",
    "pol.set_rlabel_position(135)\n",
    "pol.set_rlim(min(r),max(r))\n",
    "pol.set_xticks([])\n",
    "plt.subplots_adjust(wspace=0.05)"
   ]
  },
  {
   "cell_type": "code",
   "execution_count": 64,
   "metadata": {
    "collapsed": false
   },
   "outputs": [],
   "source": [
    "def all_match(central,catalog,epoch1=2000.,epoch2=2015.,maxdist=2):\n",
    "    depoch= epoch2-epoch1\n",
    "    if depoch != 0.:\n",
    "        # Use proper motion to get both catalogs at the same time\n",
    "        dra=catalog['pmra']/numpy.cos(catalog['dec']/180.*numpy.pi)\\\n",
    "            /3600000.*depoch\n",
    "        ddec= catalog['pmdec']/3600000.*depoch\n",
    "    cat_ras = catalog['ra']-dra\n",
    "    ra_errs = catalog['ra_error']\n",
    "    cat_decs = catalog['dec']-ddec\n",
    "    dec_errs = catalog['dec_error']\n",
    "    rabound_min = central['ra']-(maxdist/3600.)\n",
    "    rabound_max = central['ra']+(maxdist/3600.)\n",
    "    decbound_min = central['dec']-(maxdist/3600.)\n",
    "    decbound_max = central['dec']+(maxdist/3600.)\n",
    "    # Find right ascension match\n",
    "    if rabound_min > 0. and rabound_max < 360.:\n",
    "        ramatch = (cat_ras>rabound_min) & (cat_ras<rabound_max)\n",
    "        raplusmatch = (cat_ras+ra_errs>rabound_min) & (cat_ras+ra_errs<rabound_max)\n",
    "        raminusmatch = (cat_ras-ra_errs>rabound_min) & (cat_ras-ra_errs<rabound_max)\n",
    "    elif rabound_min < 0. and rabound_max < 360.: \n",
    "        ramatch = ((cat_ras>0.) & (cat_ras<rabound_max)) | ((cat_ras>rabound_min+360.) & (cat_ras<360.))\n",
    "        raplusmatch = ((cat_ras+ra_errs>0.) & (cat_ras+ra_errs<rabound_max)) | ((cat_ras+ra_errs>rabound_min+360.) & (cat_ras+ra_errs<360.))\n",
    "        raminusmatch = ((cat_ras-ra_errs>0.) & (cat_ras-ra_errs<rabound_max)) | ((cat_ras-ra_errs>rabound_min+360.) & (cat_ras-ra_errs<360.))\n",
    "    elif rabound_min > 0. and rabound_max > 360.:\n",
    "        ramatch = ((cat_ras>rabound_min) & (cat_ras<360.)) | ((cat_ras>0.) & (cat_ras<rabound_max-360.))\n",
    "        raplusmatch = ((cat_ras+ra_errs>rabound_min) & (cat_ras+ra_errs<360.)) | ((cat_ras+ra_errs>0.) & (cat_ras+ra_errs<rabound_max-360.))\n",
    "        raminusmatch = ((cat_ras-ra_errs>rabound_min) & (cat_ras-ra_errs<360.)) | ((cat_ras-ra_errs>0.) & (cat_ras-ra_errs<rabound_max-360.))\n",
    "    elif rabound_min < 0. and rabound_max > 360.:\n",
    "        warnings.warn('Your range spans the whole sky in right ascension, exiting')\n",
    "        ramatch = False\n",
    "        raplusmatch = False\n",
    "        raminusmatch = False\n",
    "        \n",
    "    if decbound_min > 0. and decbound_max < 360.:\n",
    "        decmatch = (cat_decs>decbound_min) & (cat_decs<decbound_max)\n",
    "        decplusmatch = (cat_decs+dec_errs>decbound_min) & (cat_decs+dec_errs<decbound_max)\n",
    "        decminusmatch = (cat_decs-dec_errs>decbound_min) & (cat_decs-dec_errs<decbound_max)\n",
    "    elif decbound_min < 0. and rdecbound_max < 360.: \n",
    "        decmatch = ((cat_decs>0.) & (cat_decs<decbound_max)) | ((cat_decs>decbound_min+360.) & (cat_decs<360.))\n",
    "        decplusmatch = ((cat_decs+dec_errs>0.) & (cat_decs+dec_errs<decbound_max)) | ((cat_decs+dec_errs>decbound_min+360.) & (cat_decs+dec_errs<360.))\n",
    "        decminusmatch = ((cat_decs-dec_errs>0.) & (cat_decs-dec_errs<decbound_max)) | ((cat_decs-dec_errs>decbound_min+360.) & (cat_decs-dec_errs<360.))\n",
    "    elif decbound_min > 0. and decbound_max > 360.:\n",
    "        decmatch = ((cat_decs>decbound_min) & (cat_decs<360.)) | ((cat_decs>0.) & (cat_decs<decbound_max-360.))\n",
    "        decplusmatch = ((cat_decs+dec_errs>decbound_min) & (cat_decs+dec_errs<360.)) | ((cat_decs+dec_errs>0.) & (cat_decs+dec_errs<decbound_max-360.))\n",
    "        decminusmatch = ((cat_decs-dec_errs>decbound_min) & (cat_decs-dec_errs<360.)) | ((cat_decs-dec_errs>0.) & (cat_decs-dec_errs<decbound_max-360.))\n",
    "    elif decbound_min < 0. and decbound_max > 360.:\n",
    "        warnings.warn('Your range spans the whole sky in declination, exiting')\n",
    "        decmatch = False\n",
    "        decplusmatch = False\n",
    "        decminusmatch = False\n",
    "    return (ramatch & decmatch) | (raplusmatch & decmatch) | (raminusmatch & decmatch) | (ramatch & decplusmatch) | (raplusmatch & decplusmatch) | (raminusmatch & decplusmatch) | (ramatch & decminusmatch) | (raplusmatch & decminusmatch) | (raminusmatch & decminusmatch)\n",
    "        "
   ]
  },
  {
   "cell_type": "code",
   "execution_count": 141,
   "metadata": {
    "collapsed": false
   },
   "outputs": [],
   "source": [
    "def plot_tgas_match(loc,dist,ang_rad):\n",
    "    match = all_match(loc,tgas_cat,epoch1=2000,epoch2=2015.,maxdist=ang_rad)\n",
    "    if np.sum(match)!= 0:\n",
    "        plt.figure(figsize=(18,8))\n",
    "        plt.subplot2grid((1,2),(0,0))\n",
    "        plt.errorbar(tgas_cat[match]['ra'],tgas_cat[match]['dec'],\n",
    "                     xerr=tgas_cat[match]['ra_error'],yerr=tgas_cat[match]['dec_error'],\n",
    "                     fmt='o',ecolor='red',label='{0} stars'.format(np.sum(match)))\n",
    "        plt.plot(loc['ra'],loc['dec'],'o',color='c',markersize=10,label='cluster center')\n",
    "        plt.legend(loc='best')\n",
    "        plt.axvline(loc['ra']-ang_rad/3600.,ls='--')\n",
    "        plt.axvline(loc['ra']+ang_rad/3600.,ls='--')\n",
    "        plt.axhline(loc['dec']-ang_rad/3600.,ls='--')\n",
    "        plt.axhline(loc['dec']+ang_rad/3600.,ls='--')\n",
    "        plt.xlabel('right ascension')\n",
    "        plt.ylabel('declination')\n",
    "        plt.axis('equal')\n",
    "        plt.subplot2grid((1,2),(0,1))\n",
    "        plt.errorbar(tgas_cat[match]['pmra'],tgas_cat[match]['pmdec'],\n",
    "                     xerr=tgas_cat[match]['pmra_error'],yerr=tgas_cat[match]['pmdec_error'],\n",
    "                     fmt='o',ecolor='r')\n",
    "        plt.xlabel('right ascension proper motion')\n",
    "        plt.ylabel('declination proper motion')\n",
    "        plt.axis('equal')\n",
    "    elif np.sum(match) == 0:\n",
    "        print 'No TGAS match'\n",
    "    return match"
   ]
  },
  {
   "cell_type": "code",
   "execution_count": 142,
   "metadata": {
    "collapsed": true
   },
   "outputs": [],
   "source": [
    "# cluster radius in pc\n",
    "rad = 2."
   ]
  },
  {
   "cell_type": "code",
   "execution_count": 147,
   "metadata": {
    "collapsed": false
   },
   "outputs": [
    {
     "data": {
      "image/png": "[encoded data removed]",
      "text/plain": [
       "<matplotlib.figure.Figure at 0xc3d07d0>"
      ]
     },
     "metadata": {},
     "output_type": "display_data"
    }
   ],
   "source": [
    "#M67\n",
    "c = SkyCoord('08h51m18.0s','+11d48m00s',frame='icrs') # from Xin & Deng 2005\n",
    "m67_loc = np.array([(c.ra.deg,c.dec.deg)], dtype=[('ra','float'),('dec','float')])\n",
    "m67_dist = 986.279 # in pc from Pandey, Sandhu, Sagar & Battinelli 2010\n",
    "m67_ang_rad = np.arctan(rad/m67_dist)*(180./np.pi)*3600. #angular radius in arcseconds\n",
    "m67_match = plot_tgas_match(m67_loc,m67_dist,m67_ang_rad)"
   ]
  },
  {
   "cell_type": "code",
   "execution_count": 149,
   "metadata": {
    "collapsed": false
   },
   "outputs": [
    {
     "name": "stdout",
     "output_type": "stream",
     "text": [
      "No TGAS match\n"
     ]
    }
   ],
   "source": [
    "#M107\n",
    "c = SkyCoord('16h41m41.634s','+36d27m40.75s',frame='icrs') # from Goldsbury et al 2010\n",
    "m107_loc = np.array([(c.ra.deg,c.dec.deg)], dtype=[('ra','float'),('dec','float')])\n",
    "m107_dist = 6.4*1e3 # in pc from A. Possenti 2010, unpublished\n",
    "m107_ang_rad = np.arctan(rad/m107_dist)*(180./np.pi)*3600. #angular radius in arcseconds\n",
    "m107_match = plot_tgas_match(m107_loc,m107_dist,m107_ang_rad)"
   ]
  },
  {
   "cell_type": "code",
   "execution_count": 146,
   "metadata": {
    "collapsed": false
   },
   "outputs": [
    {
     "name": "stdout",
     "output_type": "stream",
     "text": [
      "No TGAS match\n"
     ]
    }
   ],
   "source": [
    "#M13\n",
    "c = SkyCoord('16h32m31.86s','+-13d03m13.6s',frame='icrs') # from Skrutskie et al 2006\n",
    "m13_loc = np.array([(c.ra.deg,c.dec.deg)], dtype=[('ra','float'),('dec','float')])\n",
    "m13_dist = 6.8*1e3 # in pc from Paust et al 2010\n",
    "m13_ang_rad = np.arctan(rad/m13_dist)*(180./np.pi)*3600. #angular radius in arcseconds\n",
    "m13_match = plot_tgas_match(m13_loc,m13_dist,m13_ang_rad)"
   ]
  },
  {
   "cell_type": "code",
   "execution_count": null,
   "metadata": {
    "collapsed": true
   },
   "outputs": [],
   "source": []
  },
  {
   "cell_type": "code",
   "execution_count": null,
   "metadata": {
    "collapsed": true
   },
   "outputs": [],
   "source": []
  }
 ],
 "metadata": {
  "kernelspec": {
   "display_name": "Python 2",
   "language": "python",
   "name": "python2"
  },
  "language_info": {
   "codemirror_mode": {
    "name": "ipython",
    "version": 2
   },
   "file_extension": ".py",
   "mimetype": "text/x-python",
   "name": "python",
   "nbconvert_exporter": "python",
   "pygments_lexer": "ipython2",
   "version": "2.7.5"
  }
 },
 "nbformat": 4,
 "nbformat_minor": 0
}
