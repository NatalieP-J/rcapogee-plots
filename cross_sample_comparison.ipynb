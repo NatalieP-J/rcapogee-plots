{
 "cells": [
  {
   "cell_type": "code",
   "execution_count": 1,
   "metadata": {
    "collapsed": false
   },
   "outputs": [
    {
     "name": "stdout",
     "output_type": "stream",
     "text": [
      "Populating the interactive namespace from numpy and matplotlib\n"
     ]
    },
    {
     "name": "stderr",
     "output_type": "stream",
     "text": [
      "/usr/lib/python2.7/site-packages/setuptools-18.7.1-py2.7.egg/pkg_resources/__init__.py:1266: UserWarning: /home/price-jones/.python-eggs is writable by group/others and vulnerable to attack when used with get_resource_filename. Consider a more secure location (set with .set_extraction_path or the PYTHON_EGG_CACHE environment variable).\n"
     ]
    }
   ],
   "source": [
    "import numpy as np\n",
    "import matplotlib.pyplot as plt\n",
    "import access_spectrum as acs\n",
    "%pylab inline"
   ]
  },
  {
   "cell_type": "code",
   "execution_count": 72,
   "metadata": {
    "collapsed": false
   },
   "outputs": [
    {
     "data": {
      "text/plain": [
       "0.3873806506766132"
      ]
     },
     "execution_count": 72,
     "metadata": {},
     "output_type": "execute_result"
    }
   ],
   "source": [
    "fname = 'red_clump_12_TEFF_up4800.0_lo4700.0/eig60_minSNR50_corr30px_madFalse.pkl'\n",
    "model = acs.pklread(fname)\n",
    "model.R2Array, model.R2noise\n",
    "model.R2noise"
   ]
  },
  {
   "cell_type": "code",
   "execution_count": 73,
   "metadata": {
    "collapsed": false
   },
   "outputs": [
    {
     "data": {
      "text/plain": [
       "array([  1.15104817e-05,   3.45065674e-06,   3.36460885e-06,\n",
       "         3.11409688e-06,   2.17427108e-06,   2.05631327e-06,\n",
       "         1.45904573e-06,   1.20085563e-06,   1.05718346e-06,\n",
       "         9.80383096e-07,   7.73600510e-07,   8.68424881e-07,\n",
       "         8.71164548e-07,   8.22255787e-07,   6.52055561e-07,\n",
       "         7.31376105e-07,   6.88519431e-07,   6.30527439e-07,\n",
       "         5.68729455e-07,   6.65234217e-07,   4.98325497e-07,\n",
       "         4.33908901e-07,   5.41543423e-07,   5.12404105e-07,\n",
       "         5.07297644e-07,   4.60453587e-07,   4.18206857e-07,\n",
       "         3.46579982e-07,   3.52125278e-07,   3.51221319e-07,\n",
       "         3.41398300e-07,   4.10132974e-07,   3.58279332e-07,\n",
       "         3.86529629e-07,   3.15988004e-07,   3.36083737e-07,\n",
       "         3.17546292e-07,   3.08695233e-07,   2.94869959e-07,\n",
       "         3.05319832e-07,   3.06266678e-07,   3.47924526e-07,\n",
       "         2.89098188e-07,   2.64751143e-07,   2.57379539e-07,\n",
       "         2.60486069e-07,   2.43423846e-07,   2.47221189e-07,\n",
       "         2.33515636e-07,   2.56183370e-07,   2.34741317e-07,\n",
       "         2.16605369e-07,   2.26177066e-07,   2.04776404e-07,\n",
       "         2.09180827e-07,   2.16181999e-07,   2.19332973e-07,\n",
       "         2.04347407e-07,   1.67712611e-07,   1.70074756e-07])"
      ]
     },
     "execution_count": 73,
     "metadata": {},
     "output_type": "execute_result"
    }
   ],
   "source": [
    "model.eigval"
   ]
  },
  {
   "cell_type": "code",
   "execution_count": 90,
   "metadata": {
    "collapsed": false
   },
   "outputs": [],
   "source": [
    "def consth(i,model,N,D):\n",
    "    np.sqrt((1./(N*D))*np.sum(1./model.weights[model.weights!=0]))\n",
    "    \n",
    "def hi(i,model,N,D):\n",
    "    return np.sqrt((1./N)*np.sum((1./model.weights[model.weights!=0])))\n",
    "\n",
    "def calculate_Ncells(model,N=None,D=None,denom=None,denomfunc=None):\n",
    "    Ncells = np.zeros(len(model.eigval))\n",
    "    if not N or not D:\n",
    "        D = model.data.shape[1]\n",
    "        N = model.data.shape[0]\n",
    "        print N,D\n",
    "    def calcNcells(n,denom,D,N):\n",
    "        if D < N:\n",
    "            if not denom:\n",
    "            #denom = np.sqrt(((1./(N*7214))*np.sum(1./model.weights[model.weights!=0])))\n",
    "                denom = denomfunc(n,model,N,D)\n",
    "                print denom\n",
    "            return np.prod(np.sqrt(model.eigval[:n+1]))/((denom)**len(model.eigval[:n+1]))\n",
    "        elif N < D:\n",
    "            return np.prod(np.sqrt(model.eigval[:n+1]))/((D/N)*denom**len(model.eigval[:n+1]))\n",
    "    for n in range(len(model.eigval)):\n",
    "        Ncells[n] = calcNcells(n,denom,D,N)\n",
    "    return Ncells"
   ]
  },
  {
   "cell_type": "code",
   "execution_count": 94,
   "metadata": {
    "collapsed": false,
    "scrolled": true
   },
   "outputs": [
    {
     "name": "stdout",
     "output_type": "stream",
     "text": [
      "4107 7214\n"
     ]
    },
    {
     "data": {
      "text/plain": [
       "0.003392710076058745"
      ]
     },
     "execution_count": 94,
     "metadata": {},
     "output_type": "execute_result"
    },
    {
     "data": {
      "image/png": "[encoded data removed]",
      "text/plain": [
       "<matplotlib.figure.Figure at 0xb99b410>"
      ]
     },
     "metadata": {},
     "output_type": "display_data"
    }
   ],
   "source": [
    "lamnoise = model.eigval[np.where(model.R2Array<model.R2noise)[0][-1]]\n",
    "Ncells = calculate_Ncells(model,denom = np.sqrt(lamnoise))\n",
    "eigvecnum = np.arange(1,len(model.eigval)+1)\n",
    "plt.semilogy(eigvecnum,Ncells,'o')\n",
    "plt.ylabel('Number of cells')\n",
    "plt.xlabel('Number of eigenvectors')\n",
    "np.sqrt(model.eigval[0])"
   ]
  },
  {
   "cell_type": "code",
   "execution_count": 92,
   "metadata": {
    "collapsed": false
   },
   "outputs": [
    {
     "data": {
      "text/plain": [
       "(4107, 7214)"
      ]
     },
     "execution_count": 92,
     "metadata": {},
     "output_type": "execute_result"
    }
   ],
   "source": [
    "model.weights.shape"
   ]
  },
  {
   "cell_type": "code",
   "execution_count": null,
   "metadata": {
    "collapsed": false
   },
   "outputs": [],
   "source": [
    "print Ncells"
   ]
  },
  {
   "cell_type": "code",
   "execution_count": null,
   "metadata": {
    "collapsed": false
   },
   "outputs": [],
   "source": [
    "def compare_sample(direcs,titles,models,labels,colours,slopescale=0.1,savename=None,figsize=(15,6)):\n",
    "    plt.figure(1,figsize=figsize)\n",
    "    plt.figure(2,figsize=figsize)\n",
    "    for d in range(len(direcs)):\n",
    "        plt.figure(1)\n",
    "        plt.subplot(1,len(direcs),d+1)\n",
    "        plt.ylim(0,1)\n",
    "        plt.title(titles[d],fontsize=18)\n",
    "        plt.xlabel('number of eigenvectors',fontsize=14)\n",
    "        plt.figure(2)\n",
    "        plt.subplot(1,len(direcs),d+1)\n",
    "        plt.ylim(0,slopescale)\n",
    "        plt.xlabel('eigenvectors',fontsize=14)\n",
    "        if d==0:\n",
    "            plt.figure(1)\n",
    "            plt.ylabel(r'$R^2$',fontsize=18)\n",
    "            plt.yticks(fontsize=13)\n",
    "            plt.figure(2)\n",
    "            plt.ylabel('R2 slope',fontsize=14)\n",
    "            plt.yticks(fontsize=13)\n",
    "        if d!=0:\n",
    "            plt.figure(1)\n",
    "            plt.yticks([])\n",
    "            plt.figure(2)\n",
    "            plt.yticks([])\n",
    "        c = 0\n",
    "        for m in range(len(models)):\n",
    "            model = acs.pklread('{0}/{1}'.format(direcs[d],models[m]))\n",
    "            plt.xlim(-1,len(model.R2Array))\n",
    "            # Find the number of eigenvectors at which R2 crosses R2noise\n",
    "            slope = model.R2Array - np.roll(model.R2Array,1)\n",
    "            crossvec = np.where(model.R2Array > model.R2noise)\n",
    "            if crossvec[0] != []:\n",
    "                crossvec = crossvec[0][0] - 1\n",
    "                if crossvec < 0:\n",
    "                    crossvec = 0\n",
    "                plt.figure(1)\n",
    "                plt.axvline(crossvec,0,model.R2Array[crossvec],color=colours[c],lw=2)\n",
    "                plt.text(crossvec+0.03*len(model.R2Array),0.02,'{0}'.format(crossvec),\n",
    "                         color=colours[c],weight='bold',fontsize=13)\n",
    "                if crossvec > 0:\n",
    "                    plt.figure(2)\n",
    "                    plt.axvline(crossvec,color=colours[c],lw=3)\n",
    "                    plt.plot(np.arange(1,len(model.R2Array),1),slope[1:],color=colours[c],lw=2,label=labels[m])\n",
    "                    plt.axhline(np.median(slope[crossvec+1:]),color=colours[c],lw=3,ls='--')\n",
    "            # Plot R2 curve\n",
    "            plt.figure(1)\n",
    "            if d==0 and m==0:\n",
    "                plt.axhline(model.R2noise,color='k',ls='--',lw=3,label=r'$R^2_{noise}$')\n",
    "            if d==len(direcs)-1:\n",
    "                plt.plot(model.R2Array,color=colours[c],lw=4,label=labels[m])\n",
    "            elif d!=len(direcs)-1:\n",
    "                plt.plot(model.R2Array,color=colours[c],lw=4)\n",
    "            plt.axhline(model.R2noise,color=colours[c],ls='--',lw=3)\n",
    "            c+=1\n",
    "        plt.figure(1)\n",
    "        plt.xticks(np.linspace(0,len(model.R2Array),5,dtype=int)[:-1],fontsize=13)\n",
    "        plt.figure(2)\n",
    "        plt.xticks(np.linspace(0,len(model.R2Array),5,dtype=int)[:-1],fontsize=13)\n",
    "        if d==len(direcs)-1:\n",
    "            plt.figure(1)\n",
    "            legend = plt.legend(loc='best',fontsize=13,title='$R^2$ calculation')\n",
    "            legend.get_title().set_fontsize('16')\n",
    "            legend.get_frame().set_linewidth(0.0)\n",
    "        if d==0:\n",
    "            plt.figure(1)\n",
    "            legend = plt.legend(loc='best',fontsize=18)\n",
    "            legend.get_frame().set_linewidth(0.0)\n",
    "    plt.figure(1)\n",
    "    plt.subplots_adjust(wspace=0)\n",
    "    if savename:\n",
    "        plt.savefig(savename)\n",
    "    plt.figure(2)\n",
    "    plt.ylim(0,0.001)\n",
    "    plt.subplots_adjust(wspace=0)"
   ]
  },
  {
   "cell_type": "code",
   "execution_count": null,
   "metadata": {
    "collapsed": false,
    "scrolled": false
   },
   "outputs": [],
   "source": [
    "direcs = [#'red_clump_12_TEFF_up6268.69189453_lo4130.89257812',\n",
    "          #'red_clump_12_TEFF_up4900.0_lo4700.0',\n",
    "          #'red_clump_12_TEFF_up4900.0_lo4800.0',\n",
    "          #'red_clump_12_TEFF_up4800.0_lo4700.0']\n",
    "          #'red_giant_12_LOGG_up2.0_lo1.7',\n",
    "          'red_giant_12_LOGG_up3.0_lo2.0',\n",
    "          'red_giant_12_LOGG_up4.0_lo3.0']\n",
    "titles = [#'all RC',\n",
    "          #r'$T_{\\mathrm{eff}}\\,\\,4700\\,\\,K\\,\\,to\\,\\,4900\\,\\,K$',\n",
    "          #r'$T_{\\mathrm{eff}}\\,\\,4800\\,\\,K\\,\\,to\\,\\,4900\\,\\,K$',\n",
    "          #r'$T_{\\mathrm{eff}}\\,\\,4700\\,\\,K\\,\\,to\\,\\,4800\\,\\,K$']\n",
    "          #r'$logg\\,\\,1.7\\,\\,to\\,\\,2.0$',\n",
    "          r'$logg\\,\\,2.0\\,\\,to\\,\\,3.0$',\n",
    "          r'$logg\\,\\,3.0\\,\\,to\\,\\,4.0$',]\n",
    "models = ['eig60_minSNR50_corrNone_madFalse.pkl',\n",
    "          'eig60_minSNR50_corrNone_madTrue.pkl',\n",
    "          'eig60_minSNR50_corr30px_madFalse.pkl']\n",
    "          #'eig60_minSNR50_corr30px_madTrue.pkl']\n",
    "labels = ['covariance','median absolute\\ndeviation (M.A.D.)','covariance corrected']#,'M.A.D. corrected']\n",
    "colours = plt.get_cmap('plasma')(np.linspace(0,0.80,len(models)))\n",
    "compare_sample(direcs,titles,models,labels,colours,slopescale=0.01,savename='RG_DR12_comparison.pdf',figsize=(10,6))"
   ]
  },
  {
   "cell_type": "code",
   "execution_count": null,
   "metadata": {
    "collapsed": false,
    "scrolled": false
   },
   "outputs": [],
   "source": [
    "direcs = ['red_clump_13_TEFF_up6011.0_lo4134.5',\n",
    "          'red_clump_13_TEFF_up4900.0_lo4700.0',\n",
    "          'red_clump_13_TEFF_up4900.0_lo4800.0',\n",
    "          'red_clump_13_TEFF_up4800.0_lo4700.0',\n",
    "          #'red_giant_13_LOGG_up2.0_lo1.7',\n",
    "          'red_giant_13_LOGG_up3.0_lo2.0',\n",
    "          'red_giant_13_LOGG_up4.0_lo3.0']\n",
    "compare_sample(direcs,titles,models,labels,colours,slopescale=0.01,savename='DR13_comparison.png')"
   ]
  },
  {
   "cell_type": "code",
   "execution_count": null,
   "metadata": {
    "collapsed": false
   },
   "outputs": [],
   "source": [
    "direcs = ['red_clump_12_TEFF_up4900.0_lo4800.0']\n",
    "titles = [r'$T_{\\mathrm{eff}}\\,\\,4800\\,\\,K\\,\\,to\\,\\,4900\\,\\,K$']\n",
    "models = ['eig500_minSNR50_corrNone_madFalse.pkl',\n",
    "          'eig500_minSNR50_corrNone_madTrue.pkl',\n",
    "          'eig500_minSNR50_corr30px_madFalse.pkl']\n",
    "          #'eig500_minSNR50_corr30px_madTrue.pkl']\n",
    "labels =  ['covariance','median absolute\\ndeviation (M.A.D.)','covariance corrected']\n",
    "colours = plt.get_cmap('plasma')(np.linspace(0,0.8,len(models)))\n",
    "compare_sample(direcs,titles,models,labels,colours,slopescale=0.1,savename='mammoth_eigvec.pdf',figsize=(10,8))"
   ]
  },
  {
   "cell_type": "code",
   "execution_count": null,
   "metadata": {
    "collapsed": false
   },
   "outputs": [],
   "source": [
    "direcs = ['clusters_12_CLUSTER_matchN6819',\n",
    "          #'clusters_13_CLUSTER_matchN6819',\n",
    "          'clusters_12_CLUSTER_matchN2158',\n",
    "          #'clusters_13_CLUSTER_matchN2158',\n",
    "          'clusters_12_CLUSTER_matchM67']\n",
    "          #'clusters_13_CLUSTER_matchM67']\n",
    "titles = ['N6819',\n",
    "          #'N6819-DR13',\n",
    "          'N2158',\n",
    "          #'N2158-DR13',\n",
    "          'M67']\n",
    "          #'M67-DR13']\n",
    "models = ['corrNone_madFalse.pkl',\n",
    "          'corrNone_madTrue.pkl',\n",
    "          'corr30px_madFalse.pkl']\n",
    "          #'corr30px_madTrue.pkl']\n",
    "labels = ['covariance','median absolute\\ndeviation (M.A.D.)','covariance corrected']#,'M.A.D. corrected']\n",
    "colours = plt.get_cmap('plasma')(np.linspace(0,0.80,len(models)))\n",
    "compare_sample(direcs,titles,models,labels,colours,slopescale=0.1,savename='DR12_oc_comparison.pdf')"
   ]
  },
  {
   "cell_type": "code",
   "execution_count": null,
   "metadata": {
    "collapsed": false
   },
   "outputs": [],
   "source": [
    "direcs = ['clusters_12_CLUSTER_matchN6819']\n",
    "titles = ['N6819']\n",
    "models = ['corrNone_madFalse.pkl',\n",
    "          'corrNone_madTrue.pkl']\n",
    "labels = ['covariance','median absolute\\ndeviation (M.A.D.)']\n",
    "compare_sample(direcs,titles,models,labels,colours,slopescale=0.1,savename='n6819_comparison.pdf',figsize=(10,8))"
   ]
  },
  {
   "cell_type": "code",
   "execution_count": null,
   "metadata": {
    "collapsed": true
   },
   "outputs": [],
   "source": [
    "from empca_residuals import *"
   ]
  },
  {
   "cell_type": "code",
   "execution_count": null,
   "metadata": {
    "collapsed": false
   },
   "outputs": [],
   "source": [
    "rg = empca_residuals('apogee','red_giant',maskFilter,ask=True)"
   ]
  },
  {
   "cell_type": "code",
   "execution_count": null,
   "metadata": {
    "collapsed": false
   },
   "outputs": [],
   "source": [
    "rc = empca_residuals('apogee','red_clump',maskFilter,ask=True)"
   ]
  },
  {
   "cell_type": "code",
   "execution_count": null,
   "metadata": {
    "collapsed": true
   },
   "outputs": [],
   "source": [
    "def hist2d(x,y,bins=100,clabel=False):\n",
    "    H,xedges,yedges = np.histogram2d(x,y,bins=bins)\n",
    "    # Reorient appropriately\n",
    "    H = np.rot90(H)\n",
    "    H = np.flipud(H)\n",
    "    Hmasked = np.ma.masked_where(H==0,H)\n",
    "    plt.pcolormesh(xedges,yedges,Hmasked,\n",
    "                   cmap = plt.get_cmap('plasma'),\n",
    "                   vmin=0,vmax=110)\n",
    "    if clabel:\n",
    "        plt.colorbar(label=clabel)"
   ]
  },
  {
   "cell_type": "code",
   "execution_count": null,
   "metadata": {
    "collapsed": true
   },
   "outputs": [],
   "source": [
    "\n",
    "\n",
    "import matplotlib\n",
    "font = {'family': 'serif',\n",
    "        'weight': 'normal',\n",
    "        'size'  :  14\n",
    "}\n",
    "matplotlib.rc('font',**font)"
   ]
  },
  {
   "cell_type": "code",
   "execution_count": null,
   "metadata": {
    "collapsed": false
   },
   "outputs": [],
   "source": [
    "len(rg.data),len(rc.data)"
   ]
  },
  {
   "cell_type": "code",
   "execution_count": null,
   "metadata": {
    "collapsed": false
   },
   "outputs": [],
   "source": [
    "plt.figure(figsize=(15,8))\n",
    "plt.subplot(121)\n",
    "hist2d(rg.teff,rg.logg,bins=120)\n",
    "plt.ylim(4,0)\n",
    "plt.xlim(6000,3500)\n",
    "plt.xticks(np.arange(4000,6000,500)[::-1])\n",
    "plt.ylabel(r'$logg$',fontsize=18)\n",
    "plt.xlabel(r'$T_{\\mathrm{eff}}\\,\\,[K]$',fontsize=18)\n",
    "plt.title('red giant stars')\n",
    "plt.subplot(122)\n",
    "hist2d(rc.teff,rc.logg,clabel='number of stars',bins=80)\n",
    "plt.ylim(4,0)\n",
    "plt.xlim(6000,3500)\n",
    "plt.xticks(np.arange(4000,6000,500)[::-1])\n",
    "plt.yticks([])\n",
    "plt.xlabel(r'$T_{\\mathrm{eff}}\\,\\,[K]$',fontsize=18)\n",
    "plt.title('red clump stars')\n",
    "plt.subplots_adjust(wspace=0)\n",
    "plt.savefig('HRdiagram.pdf')"
   ]
  },
  {
   "cell_type": "code",
   "execution_count": null,
   "metadata": {
    "collapsed": false
   },
   "outputs": [],
   "source": [
    "rc.show_sample_coverage()\n",
    "plt.savefig('rc_coverage.pdf')"
   ]
  },
  {
   "cell_type": "code",
   "execution_count": null,
   "metadata": {
    "collapsed": false
   },
   "outputs": [],
   "source": [
    "rc12= empca_residuals('apogee','red_clump',maskFilter,ask=True)"
   ]
  },
  {
   "cell_type": "code",
   "execution_count": null,
   "metadata": {
    "collapsed": false
   },
   "outputs": [],
   "source": [
    "rc13 = empca_residuals('apogee','red_clump',maskFilter,ask=True)"
   ]
  },
  {
   "cell_type": "code",
   "execution_count": null,
   "metadata": {
    "collapsed": true
   },
   "outputs": [],
   "source": [
    "import matplotlib\n",
    "font = {'family': 'serif',\n",
    "        'weight': 'normal',\n",
    "        'size'  :  14\n",
    "}\n",
    "matplotlib.rc('font',**font)"
   ]
  },
  {
   "cell_type": "code",
   "execution_count": null,
   "metadata": {
    "collapsed": false
   },
   "outputs": [],
   "source": [
    "plt.figure(figsize=(15,5))\n",
    "plt.subplot(121)\n",
    "rc12.imshow(rc12.spectra_errs,vmin=0.005,vmax=0.02,cmap='plasma')\n",
    "plt.title('DR12')\n",
    "plt.subplot(122)\n",
    "rc13.imshow(rc13.spectra_errs,vmin=0.005,vmax=0.02,cmap='plasma',ylabel='')\n",
    "plt.title('DR13')\n",
    "plt.subplots_adjust(wspace=0.02)\n",
    "plt.savefig('DR_err_comparison.png')"
   ]
  },
  {
   "cell_type": "code",
   "execution_count": null,
   "metadata": {
    "collapsed": false
   },
   "outputs": [],
   "source": [
    "plt.figure(figsize=(15,5))\n",
    "plt.subplot(121)\n",
    "rc12.imshow(rc12.spectra,vmin=0.7,vmax=1.1,cmap='plasma')\n",
    "plt.title('DR12')\n",
    "plt.subplot(122)\n",
    "rc13.imshow(rc13.spectra,vmin=0.7,vmax=1.1,cmap='plasma',ylabel='')\n",
    "plt.title('DR13')\n",
    "plt.subplots_adjust(wspace=0.02)\n",
    "plt.savefig('DR_spec_comparison.png')"
   ]
  },
  {
   "cell_type": "code",
   "execution_count": null,
   "metadata": {
    "collapsed": true
   },
   "outputs": [],
   "source": [
    "rc12.findResiduals(gen=False)\n",
    "rc13.findResiduals(gen=False)"
   ]
  },
  {
   "cell_type": "code",
   "execution_count": null,
   "metadata": {
    "collapsed": false
   },
   "outputs": [],
   "source": [
    "bound = 0.03\n",
    "plt.figure(figsize=(15,5))\n",
    "plt.subplot(121)\n",
    "rc12.imshow(rc12.residuals,vmin=-bound,vmax=bound,cmap='plasma')\n",
    "plt.title('DR12')\n",
    "plt.subplot(122)\n",
    "rc13.imshow(rc13.residuals,vmin=-bound,vmax=bound,cmap='plasma',ylabel='')\n",
    "plt.title('DR13')\n",
    "plt.subplots_adjust(wspace=0.02)\n",
    "plt.savefig('DR_resid_comparison.png')"
   ]
  },
  {
   "cell_type": "code",
   "execution_count": null,
   "metadata": {
    "collapsed": true
   },
   "outputs": [],
   "source": []
  }
 ],
 "metadata": {
  "kernelspec": {
   "display_name": "Python 2",
   "language": "python",
   "name": "python2"
  },
  "language_info": {
   "codemirror_mode": {
    "name": "ipython",
    "version": 2
   },
   "file_extension": ".py",
   "mimetype": "text/x-python",
   "name": "python",
   "nbconvert_exporter": "python",
   "pygments_lexer": "ipython2",
   "version": "2.7.5"
  }
 },
 "nbformat": 4,
 "nbformat_minor": 0
}
