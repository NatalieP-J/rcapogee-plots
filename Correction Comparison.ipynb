{
 "cells": [
  {
   "cell_type": "code",
   "execution_count": 1,
   "metadata": {
    "collapsed": false
   },
   "outputs": [
    {
     "name": "stdout",
     "output_type": "stream",
     "text": [
      " This call to matplotlib.use() has no effect\n",
      "because the backend has already been chosen;\n",
      "matplotlib.use() must be called *before* pylab, matplotlib.pyplot,\n",
      "or matplotlib.backends is imported for the first time.\n",
      "\n",
      "\n",
      "Populating the interactive namespace from numpy and matplotlib\n"
     ]
    },
    {
     "name": "stderr",
     "output_type": "stream",
     "text": [
      "/usr/lib/python2.7/site-packages/setuptools-18.7.1-py2.7.egg/pkg_resources/__init__.py:1266: UserWarning: /home/price-jones/.python-eggs is writable by group/others and vulnerable to attack when used with get_resource_filename. Consider a more secure location (set with .set_extraction_path or the PYTHON_EGG_CACHE environment variable).\n"
     ]
    }
   ],
   "source": [
    "from empca_residuals import *\n",
    "from comparison_plots import comp_R2\n",
    "%pylab inline"
   ]
  },
  {
   "cell_type": "code",
   "execution_count": 2,
   "metadata": {
    "collapsed": true
   },
   "outputs": [],
   "source": [
    "import matplotlib\n",
    "font = {'family': 'serif',\n",
    "        'weight': 'normal',\n",
    "        'size'  :  14\n",
    "}\n",
    "matplotlib.rc('font',**font)"
   ]
  },
  {
   "cell_type": "code",
   "execution_count": null,
   "metadata": {
    "collapsed": true
   },
   "outputs": [],
   "source": [
    "def empca_compare(dr12,dr13,corr12=np.ones(7214),corr13=np.ones(7214)):\n",
    "\n",
    "    longcorr12 = np.tile(corr12,(dr12.spectra_errs.shape[0],1))\n",
    "    longcorr13 = np.tile(corr13,(dr13.spectra_errs.shape[0],1))\n",
    "    \n",
    "    Vdata12 = np.ma.var(dr12.residuals)\n",
    "    Vnoise12 = np.ma.mean(np.sqrt(longcorr12*dr12.spectra_errs**2)**2)\n",
    "    Vdata13 = np.ma.var(dr13.residuals)\n",
    "    Vnoise13 = np.ma.mean(np.sqrt(longcorr13*dr13.spectra_errs**2)**2)\n",
    "\n",
    "\n",
    "    dr12.pixelEMPCA(nvecs=5,deltR2=0,mad=False,correction=corr12)\n",
    "    dr13.pixelEMPCA(nvecs=5,deltR2=0,mad=False,correction=corr13)\n",
    "    print 'Simple analysis'\n",
    "    print 'Vnoise12 = {0}, Vdata12 = {1},\\nVnoise13 = {2}, Vdata13 = {3}'.format(Vnoise12,Vdata12,Vnoise13,Vdata13)\n",
    "    print 'R2noise12 = {0}, R2noise13 = {1}'.format(1-Vnoise12/Vdata12, 1-Vnoise13/Vdata13)\n",
    "    print 'EMPCA'\n",
    "    print 'Vnoise12 = {0}, Vdata12 = {1},\\nVnoise13 = {2}, Vdata13 = {3}'.format(dr12.empcaModelWeight.Vnoise,\n",
    "                                                                                 dr12.empcaModelWeight.Vdata,\n",
    "                                                                                 dr13.empcaModelWeight.Vnoise,\n",
    "                                                                                 dr13.empcaModelWeight.Vdata)\n",
    "    print 'R2noise12 = {0}, R2noise13 = {1}'.format(dr12.empcaModelWeight.R2noise,dr13.empcaModelWeight.R2noise)\n",
    "    \n",
    "    plt.figure(figsize=(10,8))\n",
    "    plt.plot(dr12.empcaModelWeight.R2Array,label='DR12, R2noise = {0}'.format(dr12.empcaModelWeight.R2noise),\n",
    "             lw=3,color='b')\n",
    "    plt.plot(dr13.empcaModelWeight.R2Array,label='DR13, R2noise = {0}'.format(dr13.empcaModelWeight.R2noise),\n",
    "             lw=3,color='r')\n",
    "    plt.xlim(0,5)\n",
    "    plt.ylim(0,1)\n",
    "    plt.ylabel('R2')\n",
    "    plt.xlabel('number of eigenvectors')\n",
    "    plt.axhline(dr12.empcaModelWeight.R2noise,ls='--',lw=2,color='b') \n",
    "    plt.axhline(dr13.empcaModelWeight.R2noise,ls='--',lw=3,color='r')\n",
    "    plt.legend(loc='best')\n",
    "\n",
    "    plt.figure(figsize=(10,5))\n",
    "    plt.plot(corr12,label='DR12')\n",
    "    plt.plot(corr13,label='DR13')\n",
    "    plt.xlim(0,7214)\n",
    "    plt.xlabel('pixel')\n",
    "    plt.ylabel('correction')\n",
    "    plt.legend(loc='best')\n",
    "    plt.savefig('n6819_30px_correction.png')\n",
    "\n",
    "    plt.figure(figsize=(10,5))\n",
    "    plt.plot(corr12/corr13)\n",
    "    #plt.ylim(0,69)\n",
    "    plt.xlim(0,7214)\n",
    "    plt.xlabel('pixel')\n",
    "    plt.ylabel('DR12/DR13')\n",
    "    plt.savefig('n6819_30px_correction_ratio.png')\n",
    "\n",
    "    plt.figure(figsize=(10,8))\n",
    "    dr12.imshow(np.sqrt(dr12.spectra_errs**2/longcorr12)/np.sqrt(dr13.spectra_errs**2/longcorr13),\n",
    "                title = 'ratio of uncorrected uncertainties (DR12/DR13)',cmap='plasma')\n",
    "    \n",
    "    plt.figure(figsize=(10,8))\n",
    "    dr12.imshow(dr12.spectra_errs/dr13.spectra_errs,title = 'ratio of corrected uncertainties (DR12/DR13)',\n",
    "                cmap='plasma')\n",
    "    "
   ]
  },
  {
   "cell_type": "code",
   "execution_count": null,
   "metadata": {
    "collapsed": false
   },
   "outputs": [],
   "source": [
    "d = empca_residuals('apogee','clusters',maskFilter,ask=True)"
   ]
  },
  {
   "cell_type": "code",
   "execution_count": null,
   "metadata": {
    "collapsed": false
   },
   "outputs": [],
   "source": [
    "_GCS = ['M15','M92','M53','N5466','M13','M2','M3','M5','M107','M71']\n",
    "CS = np.unique(d.data['CLUSTER'])\n",
    "_OCS = [i for i in CS if i not in _GCS]\n",
    "print _OCS"
   ]
  },
  {
   "cell_type": "code",
   "execution_count": null,
   "metadata": {
    "collapsed": false
   },
   "outputs": [],
   "source": [
    "len(d.data[d.data['CLUSTER']=='N4147'])"
   ]
  },
  {
   "cell_type": "code",
   "execution_count": 3,
   "metadata": {
    "collapsed": false,
    "scrolled": true
   },
   "outputs": [
    {
     "name": "stdout",
     "output_type": "stream",
     "text": [
      "Which data release? (Enter for 13): 12\n",
      "Type done at any prompt when finished\n",
      "Data key: CLUSTER\n",
      "Default is full range. Match or slice? m\n",
      "Match value: M67\n",
      "Data key: done\n"
     ]
    },
    {
     "name": "stderr",
     "output_type": "stream",
     "text": [
      "                                                          "
     ]
    },
    {
     "name": "stdout",
     "output_type": "stream",
     "text": [
      "Done getting filter information\n"
     ]
    },
    {
     "name": "stderr",
     "output_type": "stream",
     "text": [
      "\r"
     ]
    }
   ],
   "source": [
    "m67_12 = empca_residuals('apogee','clusters',maskFilter,ask=True)\n",
    "m67_12.findResiduals()\n",
    "#corr12 = n6819_12.findCorrection(numpix=npix,savename='test.pkl')\n",
    "#original12 = np.ma.copy(n6819_12.spectra_errs)"
   ]
  },
  {
   "cell_type": "code",
   "execution_count": 4,
   "metadata": {
    "collapsed": false
   },
   "outputs": [
    {
     "name": "stdout",
     "output_type": "stream",
     "text": [
      "Which data release? (Enter for 13): 12\n",
      "Type done at any prompt when finished\n",
      "Data key: CLUSTER\n",
      "Default is full range. Match or slice? m\n",
      "Match value: N188\n",
      "Data key: done\n"
     ]
    },
    {
     "name": "stderr",
     "output_type": "stream",
     "text": [
      "                                                          "
     ]
    },
    {
     "name": "stdout",
     "output_type": "stream",
     "text": [
      "Done getting filter information\n"
     ]
    },
    {
     "name": "stderr",
     "output_type": "stream",
     "text": [
      "\r"
     ]
    }
   ],
   "source": [
    "n188_12 = empca_residuals('apogee','clusters',maskFilter,ask=True)\n",
    "n188_12.findResiduals()"
   ]
  },
  {
   "cell_type": "code",
   "execution_count": 5,
   "metadata": {
    "collapsed": false
   },
   "outputs": [
    {
     "name": "stdout",
     "output_type": "stream",
     "text": [
      "Which data release? (Enter for 13): 12\n",
      "Type done at any prompt when finished\n",
      "Data key: CLUSTER\n",
      "Default is full range. Match or slice? m\n",
      "Match value: N2158\n",
      "Data key: done\n"
     ]
    },
    {
     "name": "stderr",
     "output_type": "stream",
     "text": [
      "                                                          "
     ]
    },
    {
     "name": "stdout",
     "output_type": "stream",
     "text": [
      "Done getting filter information\n"
     ]
    },
    {
     "name": "stderr",
     "output_type": "stream",
     "text": [
      "\r"
     ]
    }
   ],
   "source": [
    "n2158_12 = empca_residuals('apogee','clusters',maskFilter,ask=True)\n",
    "n2158_12.findResiduals()"
   ]
  },
  {
   "cell_type": "code",
   "execution_count": 6,
   "metadata": {
    "collapsed": false
   },
   "outputs": [
    {
     "name": "stdout",
     "output_type": "stream",
     "text": [
      "Which data release? (Enter for 13): 12\n",
      "Type done at any prompt when finished\n",
      "Data key: CLUSTER\n",
      "Default is full range. Match or slice? m\n",
      "Match value: N2420\n",
      "Data key: done\n"
     ]
    },
    {
     "name": "stderr",
     "output_type": "stream",
     "text": [
      "                                                          "
     ]
    },
    {
     "name": "stdout",
     "output_type": "stream",
     "text": [
      "Done getting filter information\n"
     ]
    },
    {
     "name": "stderr",
     "output_type": "stream",
     "text": [
      "\r"
     ]
    }
   ],
   "source": [
    "n2420_12 = empca_residuals('apogee','clusters',maskFilter,ask=True)\n",
    "n2420_12.findResiduals()"
   ]
  },
  {
   "cell_type": "code",
   "execution_count": 7,
   "metadata": {
    "collapsed": false
   },
   "outputs": [
    {
     "name": "stdout",
     "output_type": "stream",
     "text": [
      "Which data release? (Enter for 13): 12\n",
      "Type done at any prompt when finished\n",
      "Data key: CLUSTER\n",
      "Default is full range. Match or slice? m\n",
      "Match value: N6791\n",
      "Data key: done\n"
     ]
    },
    {
     "name": "stderr",
     "output_type": "stream",
     "text": [
      "                                                          "
     ]
    },
    {
     "name": "stdout",
     "output_type": "stream",
     "text": [
      "Done getting filter information\n"
     ]
    },
    {
     "name": "stderr",
     "output_type": "stream",
     "text": [
      "\r"
     ]
    }
   ],
   "source": [
    "n6791_12 = empca_residuals('apogee','clusters',maskFilter,ask=True)\n",
    "n6791_12.findResiduals()"
   ]
  },
  {
   "cell_type": "code",
   "execution_count": 8,
   "metadata": {
    "collapsed": false
   },
   "outputs": [
    {
     "name": "stdout",
     "output_type": "stream",
     "text": [
      "Which data release? (Enter for 13): 12\n",
      "Type done at any prompt when finished\n",
      "Data key: CLUSTER\n",
      "Default is full range. Match or slice? m\n",
      "Match value: N6819\n",
      "Data key: done\n"
     ]
    },
    {
     "name": "stderr",
     "output_type": "stream",
     "text": [
      "                                                          "
     ]
    },
    {
     "name": "stdout",
     "output_type": "stream",
     "text": [
      "Done getting filter information\n"
     ]
    },
    {
     "name": "stderr",
     "output_type": "stream",
     "text": [
      "\r"
     ]
    }
   ],
   "source": [
    "n6819_12 = empca_residuals('apogee','clusters',maskFilter,ask=True)\n",
    "n6819_12.findResiduals()"
   ]
  },
  {
   "cell_type": "code",
   "execution_count": 9,
   "metadata": {
    "collapsed": false
   },
   "outputs": [
    {
     "name": "stdout",
     "output_type": "stream",
     "text": [
      "Which data release? (Enter for 13): 12\n",
      "Type done at any prompt when finished\n",
      "Data key: CLUSTER\n",
      "Default is full range. Match or slice? m\n",
      "Match value: N7789\n",
      "Data key: done\n"
     ]
    },
    {
     "name": "stderr",
     "output_type": "stream",
     "text": [
      "                                                          "
     ]
    },
    {
     "name": "stdout",
     "output_type": "stream",
     "text": [
      "Done getting filter information\n"
     ]
    },
    {
     "name": "stderr",
     "output_type": "stream",
     "text": [
      "\r"
     ]
    }
   ],
   "source": [
    "n7789_12 = empca_residuals('apogee','clusters',maskFilter,ask=True)\n",
    "n7789_12.findResiduals()"
   ]
  },
  {
   "cell_type": "code",
   "execution_count": 19,
   "metadata": {
    "collapsed": false,
    "scrolled": true
   },
   "outputs": [],
   "source": [
    "#['M35', 'M67', 'N188', 'N2158', 'N2420', 'N4147', 'N6791', 'N6819', 'N7789', 'Pleiades']\n",
    "npix=30\n",
    "ocs = [m67_12,n188_12,n2158_12,n2420_12,n6791_12,n6819_12,n7789_12]\n",
    "ocs = [m67_12,n2158_12]\n",
    "o = 0\n",
    "for oc in ocs:\n",
    "    if o == 0:\n",
    "        residuals = oc.residuals\n",
    "        errs = oc.spectra_errs\n",
    "    else:\n",
    "        residuals = np.concatenate(residuals,oc.residuals)\n",
    "        errs = np.concatenate(errs,oc.spectra_errs)\n",
    "    \n",
    "cov = np.ma.cov(residuals.T/errs.T)\n",
    "corr = m67_12.findCorrection(cov=cov,numpix=npix,savename='test.pkl')\n",
    "n6819_corr = n6819_12.findCorrection(numpix=npix,savename='bla.pkl')"
   ]
  },
  {
   "cell_type": "code",
   "execution_count": 20,
   "metadata": {
    "collapsed": false
   },
   "outputs": [
    {
     "data": {
      "image/png": "[encoded data removed]",
      "text/plain": [
       "<matplotlib.figure.Figure at 0xb2a5490>"
      ]
     },
     "metadata": {},
     "output_type": "display_data"
    }
   ],
   "source": [
    "plt.figure(figsize=(10,5))\n",
    "plt.plot(corr,color='k',lw=2)\n",
    "plt.plot(n6819_corr,color='b',lw=1)\n",
    "plt.axhline(1,color='r',lw=3,ls='--')\n",
    "plt.xlabel('pixel')\n",
    "plt.ylabel('smoothed diagonal')\n",
    "plt.xlim(0,7214)\n",
    "plt.savefig('n6819_dr12_correction.pdf')"
   ]
  },
  {
   "cell_type": "code",
   "execution_count": null,
   "metadata": {
    "collapsed": false
   },
   "outputs": [],
   "source": [
    "plt.figure(figsize=(10,8))\n",
    "n6819_12.imshow(n6819_12.cov,xlabel='',ylabel='',zlabel='covariance',vmax=1.5,vmin=-1.5,cmap='plasma')\n",
    "plt.savefig('n6819_dr12_cov.pdf')"
   ]
  },
  {
   "cell_type": "code",
   "execution_count": null,
   "metadata": {
    "collapsed": false
   },
   "outputs": [],
   "source": [
    "plt.figure(figsize=(10,5))\n",
    "plt.plot(corr12,color='k',lw=2)\n",
    "plt.axhline(1,color='r',lw=3,ls='--')\n",
    "plt.xlabel('pixel')\n",
    "plt.ylabel('smoothed diagonal')\n",
    "plt.xlim(0,7214)\n",
    "plt.savefig('n6819_dr12_correction.pdf')"
   ]
  },
  {
   "cell_type": "code",
   "execution_count": null,
   "metadata": {
    "collapsed": false
   },
   "outputs": [],
   "source": [
    "npix=30\n",
    "n6819_13 = empca_residuals('apogee','clusters',maskFilter,ask=True)\n",
    "n6819_13.findResiduals()\n",
    "corr13 = n6819_13.findCorrection(numpix=npix,savename='pickles/n6819_13_30px.pkl')\n",
    "original13 = np.ma.copy(n6819_13.spectra_errs)"
   ]
  },
  {
   "cell_type": "code",
   "execution_count": null,
   "metadata": {
    "collapsed": false,
    "scrolled": false
   },
   "outputs": [],
   "source": [
    "empca_compare(n6819_12,n6819_13,corr12=corr12,corr13=corr13)"
   ]
  },
  {
   "cell_type": "code",
   "execution_count": null,
   "metadata": {
    "collapsed": false
   },
   "outputs": [],
   "source": [
    "npix=30\n",
    "n2158_12 = empca_residuals('apogee','clusters',maskFilter,ask=True)\n",
    "n2158_12.findResiduals()\n",
    "corr12 = n2158_12.findCorrection(numpix=npix,savename='test.pkl')"
   ]
  },
  {
   "cell_type": "code",
   "execution_count": null,
   "metadata": {
    "collapsed": false
   },
   "outputs": [],
   "source": [
    "npix=30\n",
    "n2158_13 = empca_residuals('apogee','clusters',maskFilter,ask=True)\n",
    "n2158_13.findResiduals()\n",
    "corr13 = n2158_13.findCorrection(numpix=npix,savename='test.pkl')"
   ]
  },
  {
   "cell_type": "code",
   "execution_count": null,
   "metadata": {
    "collapsed": false,
    "scrolled": false
   },
   "outputs": [],
   "source": [
    "empca_compare(n2158_12,n2158_13,corr12=corr12,corr13=corr13)"
   ]
  },
  {
   "cell_type": "code",
   "execution_count": null,
   "metadata": {
    "collapsed": false
   },
   "outputs": [],
   "source": [
    "n2158_12.imshow(n2158_12.spectra_errs,vmin=0,vmax=0.02)\n",
    "plt.figure()\n",
    "n2158_13.imshow(n2158_13.spectra_errs,vmin=0,vmax=0.02)"
   ]
  },
  {
   "cell_type": "code",
   "execution_count": null,
   "metadata": {
    "collapsed": false,
    "scrolled": false
   },
   "outputs": [],
   "source": [
    "npix=30\n",
    "m67_12 = empca_residuals('apogee','clusters',maskFilter,ask=True)\n",
    "m67_12.findResiduals()\n",
    "corr12 = m67_12.findCorrection(numpix=npix,savename='test.pkl')\n",
    "npix=30\n",
    "m67_13 = empca_residuals('apogee','clusters',maskFilter,ask=True)\n",
    "m67_13.findResiduals()\n",
    "corr13 = m67_13.findCorrection(numpix=npix,savename='test.pkl')\n",
    "empca_compare(m67_12,m67_13,corr12=corr12,corr13=corr13)"
   ]
  },
  {
   "cell_type": "code",
   "execution_count": null,
   "metadata": {
    "collapsed": false
   },
   "outputs": [],
   "source": [
    "m67_12.imshow(m67_12.spectra_errs,vmin=0,vmax=0.02)\n",
    "plt.figure()\n",
    "m67_13.imshow(m67_13.spectra_errs,vmin=0,vmax=0.02)"
   ]
  },
  {
   "cell_type": "code",
   "execution_count": null,
   "metadata": {
    "collapsed": false,
    "scrolled": false
   },
   "outputs": [],
   "source": [
    "n6819_12 = empca_residuals('apogee','clusters',maskFilter,ask=True)\n",
    "n6819_12.findResiduals()\n",
    "n6819_13 = empca_residuals('apogee','clusters',maskFilter,ask=True)\n",
    "n6819_13.findResiduals()\n",
    "empca_compare(n6819_12,n6819_13,corr12=corr12,corr13=corr13)"
   ]
  },
  {
   "cell_type": "code",
   "execution_count": null,
   "metadata": {
    "collapsed": false
   },
   "outputs": [],
   "source": [
    "Vdata12 = np.ma.var(n2158_12.residuals)\n",
    "Vnoise12 = np.ma.mean(n2158_12.spectra_errs**2)\n",
    "Vdata13 = np.ma.var(n2158_13.residuals)\n",
    "Vnoise13 = np.ma.mean(n2158_13.spectra_errs**2)\n",
    "1-Vnoise12/Vdata12, 1-Vnoise13/Vdata13, Vnoise12, Vdata12, Vnoise13, Vdata13"
   ]
  },
  {
   "cell_type": "code",
   "execution_count": null,
   "metadata": {
    "collapsed": false
   },
   "outputs": [],
   "source": [
    "npix=50\n",
    "corr12 = n6819_12.findCorrection(numpix=npix,savename='test.pkl')"
   ]
  },
  {
   "cell_type": "code",
   "execution_count": null,
   "metadata": {
    "collapsed": false
   },
   "outputs": [],
   "source": [
    "npix=50\n",
    "corr13 = n6819_13.findCorrection(numpix=npix,savename='test.pkl')"
   ]
  },
  {
   "cell_type": "code",
   "execution_count": null,
   "metadata": {
    "collapsed": false,
    "scrolled": false
   },
   "outputs": [],
   "source": [
    "empca_compare(n6819_12,n6819_13,corr12=corr12,corr13=corr13)"
   ]
  },
  {
   "cell_type": "code",
   "execution_count": null,
   "metadata": {
    "collapsed": false
   },
   "outputs": [],
   "source": [
    "npix=30\n",
    "corr12 = n6819_12.findCorrection(numpix=npix,savename='test.pkl')"
   ]
  },
  {
   "cell_type": "code",
   "execution_count": null,
   "metadata": {
    "collapsed": false
   },
   "outputs": [],
   "source": [
    "npix=30\n",
    "corr13 = n6819_13.findCorrection(numpix=npix,savename='test.pkl')"
   ]
  },
  {
   "cell_type": "code",
   "execution_count": null,
   "metadata": {
    "collapsed": false,
    "scrolled": false
   },
   "outputs": [],
   "source": [
    "empca_compare(n6819_12,n6819_13,corr12=corr12,corr13=corr13)"
   ]
  },
  {
   "cell_type": "code",
   "execution_count": null,
   "metadata": {
    "collapsed": false
   },
   "outputs": [],
   "source": [
    "npix=10\n",
    "corr12 = n6819_12.findCorrection(numpix=npix,savename='test.pkl')"
   ]
  },
  {
   "cell_type": "code",
   "execution_count": null,
   "metadata": {
    "collapsed": false
   },
   "outputs": [],
   "source": [
    "npix=10\n",
    "corr13 = n6819_13.findCorrection(numpix=npix,savename='test.pkl')"
   ]
  },
  {
   "cell_type": "code",
   "execution_count": null,
   "metadata": {
    "collapsed": false
   },
   "outputs": [],
   "source": [
    "plt.figure()\n",
    "plt.plot(corr12/corr13)\n",
    "plt.xlim(4300,4350)\n",
    "plt.figure()\n",
    "plt.plot(corr12)\n",
    "plt.plot(corr13)\n",
    "plt.xlim(4300,4350)\n",
    "print corr13[np.where(np.fabs(corr13)<0.005)],np.where(np.fabs(corr13)<0)[0].shape\n",
    "print corr12[np.where(np.fabs(corr12)<0.005)],np.where(np.fabs(corr12)<0.005)"
   ]
  },
  {
   "cell_type": "code",
   "execution_count": null,
   "metadata": {
    "collapsed": false,
    "scrolled": false
   },
   "outputs": [],
   "source": [
    "empca_compare(n6819_12,n6819_13,corr12=corr12,corr13=corr13)"
   ]
  },
  {
   "cell_type": "code",
   "execution_count": null,
   "metadata": {
    "collapsed": true
   },
   "outputs": [],
   "source": [
    "npix=30\n",
    "corr12 = n6819_12.findCorrection(numpix=npix,savename='test.pkl')"
   ]
  },
  {
   "cell_type": "code",
   "execution_count": null,
   "metadata": {
    "collapsed": true
   },
   "outputs": [],
   "source": [
    "npix=30\n",
    "corr13 = n6819_13.findCorrection(numpix=npix,savename='test.pkl')"
   ]
  },
  {
   "cell_type": "code",
   "execution_count": null,
   "metadata": {
    "collapsed": false,
    "scrolled": false
   },
   "outputs": [],
   "source": [
    "empca_compare(n6819_12,n6819_13,corr12=corr12,corr13=corr13)"
   ]
  },
  {
   "cell_type": "code",
   "execution_count": null,
   "metadata": {
    "collapsed": false
   },
   "outputs": [],
   "source": [
    "bound = 0.01\n",
    "plt.figure(figsize=(20,8))\n",
    "plt.subplot(121)\n",
    "n6819_12.imshow(n6819_12.spectra_errs-original12,cmap='bwr',vmin=-bound,vmax=bound)\n",
    "plt.subplot(122)\n",
    "n6819_13.imshow(n6819_13.spectra_errs-original13,cmap='bwr',vmin=-bound,vmax=bound)"
   ]
  },
  {
   "cell_type": "code",
   "execution_count": null,
   "metadata": {
    "collapsed": true
   },
   "outputs": [],
   "source": []
  },
  {
   "cell_type": "code",
   "execution_count": null,
   "metadata": {
    "collapsed": true
   },
   "outputs": [],
   "source": []
  },
  {
   "cell_type": "code",
   "execution_count": null,
   "metadata": {
    "collapsed": true
   },
   "outputs": [],
   "source": []
  },
  {
   "cell_type": "code",
   "execution_count": null,
   "metadata": {
    "collapsed": true
   },
   "outputs": [],
   "source": []
  },
  {
   "cell_type": "code",
   "execution_count": null,
   "metadata": {
    "collapsed": true
   },
   "outputs": [],
   "source": []
  }
 ],
 "metadata": {
  "kernelspec": {
   "display_name": "Python 2",
   "language": "python",
   "name": "python2"
  },
  "language_info": {
   "codemirror_mode": {
    "name": "ipython",
    "version": 2
   },
   "file_extension": ".py",
   "mimetype": "text/x-python",
   "name": "python",
   "nbconvert_exporter": "python",
   "pygments_lexer": "ipython2",
   "version": "2.7.5"
  }
 },
 "nbformat": 4,
 "nbformat_minor": 0
}
