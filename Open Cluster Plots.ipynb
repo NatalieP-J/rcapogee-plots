{
 "cells": [
  {
   "cell_type": "code",
   "execution_count": 19,
   "metadata": {
    "collapsed": false
   },
   "outputs": [],
   "source": [
    "run run_residuals -o 1"
   ]
  },
  {
   "cell_type": "code",
   "execution_count": 20,
   "metadata": {
    "collapsed": false,
    "scrolled": true
   },
   "outputs": [
    {
     "name": "stdout",
     "output_type": "stream",
     "text": [
      "Populating the interactive namespace from numpy and matplotlib\n"
     ]
    }
   ],
   "source": [
    "hidefigs = False\n",
    "import numpy as np\n",
    "import matplotlib.pyplot as plt\n",
    "%pylab inline"
   ]
  },
  {
   "cell_type": "code",
   "execution_count": 38,
   "metadata": {
    "collapsed": true
   },
   "outputs": [],
   "source": [
    "totalstars = np.sum(starsample.numstars.values())\n",
    "allresids = np.ma.masked_array(np.zeros((totalstars,aspcappix)))\n",
    "allsigmas = np.ma.masked_array(np.zeros((totalstars,aspcappix)))\n",
    "i = 0\n",
    "for subgroup in starsample.subgroups:\n",
    "    match = np.where(starsample.data[starsample.subgroup]==subgroup)\n",
    "    allresids[i:i+starsample.numstars[subgroup]] = starsample.residual[subgroup].T\n",
    "    allsigmas[i:i+starsample.numstars[subgroup]] = starsample.errs[match]\n",
    "    i += starsample.numstars[subgroup]"
   ]
  },
  {
   "cell_type": "code",
   "execution_count": 41,
   "metadata": {
    "collapsed": false
   },
   "outputs": [
    {
     "name": "stdout",
     "output_type": "stream",
     "text": [
      "M67\n",
      "       iter        R2             rchi2\n",
      "EMPCA  1/25              nan             nan\n"
     ]
    },
    {
     "ename": "LinAlgError",
     "evalue": "SVD did not converge in Linear Least Squares",
     "output_type": "error",
     "traceback": [
      "\u001b[0;31m---------------------------------------------------------------------------\u001b[0m",
      "\u001b[0;31mLinAlgError\u001b[0m                               Traceback (most recent call last)",
      "\u001b[0;32m<ipython-input-41-abe22847015c>\u001b[0m in \u001b[0;36m<module>\u001b[0;34m()\u001b[0m\n\u001b[1;32m     12\u001b[0m         \u001b[0mweights\u001b[0m \u001b[0;34m=\u001b[0m \u001b[0mmask\u001b[0m\u001b[0;34m.\u001b[0m\u001b[0mastype\u001b[0m\u001b[0;34m(\u001b[0m\u001b[0mint\u001b[0m\u001b[0;34m)\u001b[0m\u001b[0;34m\u001b[0m\u001b[0m\n\u001b[1;32m     13\u001b[0m         \u001b[0mweights\u001b[0m\u001b[0;34m[\u001b[0m\u001b[0mmask\u001b[0m\u001b[0;34m]\u001b[0m \u001b[0;34m=\u001b[0m \u001b[0;36m1.\u001b[0m\u001b[0;34m/\u001b[0m\u001b[0mstarsample\u001b[0m\u001b[0;34m.\u001b[0m\u001b[0merrs\u001b[0m\u001b[0;34m[\u001b[0m\u001b[0mmatch\u001b[0m\u001b[0;34m]\u001b[0m\u001b[0;34m[\u001b[0m\u001b[0mmask\u001b[0m\u001b[0;34m]\u001b[0m\u001b[0;34m**\u001b[0m\u001b[0;36m2\u001b[0m \u001b[0;31m# Correct?\u001b[0m\u001b[0;34m\u001b[0m\u001b[0m\n\u001b[0;32m---> 14\u001b[0;31m         \u001b[0mempcamodel\u001b[0m\u001b[0;34m,\u001b[0m\u001b[0mruntime1\u001b[0m \u001b[0;34m=\u001b[0m \u001b[0mtimeIt\u001b[0m\u001b[0;34m(\u001b[0m\u001b[0mempca\u001b[0m\u001b[0;34m,\u001b[0m\u001b[0mstarsample\u001b[0m\u001b[0;34m.\u001b[0m\u001b[0mresidual\u001b[0m\u001b[0;34m[\u001b[0m\u001b[0msubgroup\u001b[0m\u001b[0;34m]\u001b[0m\u001b[0;34m.\u001b[0m\u001b[0mT\u001b[0m\u001b[0;34m,\u001b[0m\u001b[0mweights\u001b[0m \u001b[0;34m=\u001b[0m \u001b[0mmask\u001b[0m\u001b[0;34m.\u001b[0m\u001b[0mastype\u001b[0m\u001b[0;34m(\u001b[0m\u001b[0mint\u001b[0m\u001b[0;34m)\u001b[0m\u001b[0;34m,\u001b[0m\u001b[0mnvec\u001b[0m\u001b[0;34m=\u001b[0m\u001b[0mnvecs\u001b[0m\u001b[0;34m)\u001b[0m\u001b[0;34m\u001b[0m\u001b[0m\n\u001b[0m\u001b[1;32m     15\u001b[0m         \u001b[0;32mprint\u001b[0m \u001b[0;34m'Runtime:'\u001b[0m\u001b[0;34m,\u001b[0m \u001b[0mruntime1\u001b[0m\u001b[0;34m/\u001b[0m\u001b[0;36m60.\u001b[0m\u001b[0;34m,\u001b[0m\u001b[0;34m' min'\u001b[0m\u001b[0;34m\u001b[0m\u001b[0m\n\u001b[1;32m     16\u001b[0m         \u001b[0mempcamodel_weight\u001b[0m\u001b[0;34m,\u001b[0m\u001b[0mruntime2\u001b[0m \u001b[0;34m=\u001b[0m \u001b[0mtimeIt\u001b[0m\u001b[0;34m(\u001b[0m\u001b[0mempca\u001b[0m\u001b[0;34m,\u001b[0m\u001b[0mstarsample\u001b[0m\u001b[0;34m.\u001b[0m\u001b[0mresidual\u001b[0m\u001b[0;34m[\u001b[0m\u001b[0msubgroup\u001b[0m\u001b[0;34m]\u001b[0m\u001b[0;34m.\u001b[0m\u001b[0mT\u001b[0m\u001b[0;34m,\u001b[0m\u001b[0mweights\u001b[0m \u001b[0;34m=\u001b[0m \u001b[0mweights\u001b[0m\u001b[0;34m,\u001b[0m\u001b[0mnvec\u001b[0m\u001b[0;34m=\u001b[0m\u001b[0mnvecs\u001b[0m\u001b[0;34m)\u001b[0m\u001b[0;34m\u001b[0m\u001b[0m\n",
      "\u001b[0;32m/Users/Natalie/Code/rcapogee-plots/run_residuals.py\u001b[0m in \u001b[0;36mtimeIt\u001b[0;34m(fn, *args, **kwargs)\u001b[0m\n\u001b[1;32m     60\u001b[0m     \"\"\"\n\u001b[1;32m     61\u001b[0m     \u001b[0mstart\u001b[0m \u001b[0;34m=\u001b[0m \u001b[0mtime\u001b[0m\u001b[0;34m.\u001b[0m\u001b[0mtime\u001b[0m\u001b[0;34m(\u001b[0m\u001b[0;34m)\u001b[0m\u001b[0;34m\u001b[0m\u001b[0m\n\u001b[0;32m---> 62\u001b[0;31m     \u001b[0moutput\u001b[0m \u001b[0;34m=\u001b[0m \u001b[0mfn\u001b[0m\u001b[0;34m(\u001b[0m\u001b[0;34m*\u001b[0m\u001b[0margs\u001b[0m\u001b[0;34m,\u001b[0m\u001b[0;34m**\u001b[0m\u001b[0mkwargs\u001b[0m\u001b[0;34m)\u001b[0m\u001b[0;34m\u001b[0m\u001b[0m\n\u001b[0m\u001b[1;32m     63\u001b[0m     \u001b[0mend\u001b[0m \u001b[0;34m=\u001b[0m \u001b[0mtime\u001b[0m\u001b[0;34m.\u001b[0m\u001b[0mtime\u001b[0m\u001b[0;34m(\u001b[0m\u001b[0;34m)\u001b[0m\u001b[0;34m\u001b[0m\u001b[0m\n\u001b[1;32m     64\u001b[0m     \u001b[0;32mreturn\u001b[0m \u001b[0moutput\u001b[0m\u001b[0;34m,\u001b[0m\u001b[0mend\u001b[0m\u001b[0;34m-\u001b[0m\u001b[0mstart\u001b[0m\u001b[0;34m\u001b[0m\u001b[0m\n",
      "\u001b[0;32m/Users/Natalie/Code/rcapogee-plots/empca.pyc\u001b[0m in \u001b[0;36mempca\u001b[0;34m(data, weights, niter, nvec, smooth, randseed, silent)\u001b[0m\n\u001b[1;32m    317\u001b[0m \u001b[0;34m\u001b[0m\u001b[0m\n\u001b[1;32m    318\u001b[0m     \u001b[0;32mfor\u001b[0m \u001b[0mk\u001b[0m \u001b[0;32min\u001b[0m \u001b[0mrange\u001b[0m\u001b[0;34m(\u001b[0m\u001b[0mniter\u001b[0m\u001b[0;34m)\u001b[0m\u001b[0;34m:\u001b[0m\u001b[0;34m\u001b[0m\u001b[0m\n\u001b[0;32m--> 319\u001b[0;31m         \u001b[0mmodel\u001b[0m\u001b[0;34m.\u001b[0m\u001b[0msolve_coeffs\u001b[0m\u001b[0;34m(\u001b[0m\u001b[0;34m)\u001b[0m\u001b[0;34m\u001b[0m\u001b[0m\n\u001b[0m\u001b[1;32m    320\u001b[0m         \u001b[0mmodel\u001b[0m\u001b[0;34m.\u001b[0m\u001b[0msolve_eigenvectors\u001b[0m\u001b[0;34m(\u001b[0m\u001b[0msmooth\u001b[0m\u001b[0;34m=\u001b[0m\u001b[0msmooth\u001b[0m\u001b[0;34m)\u001b[0m\u001b[0;34m\u001b[0m\u001b[0m\n\u001b[1;32m    321\u001b[0m         \u001b[0;32mif\u001b[0m \u001b[0;32mnot\u001b[0m \u001b[0msilent\u001b[0m\u001b[0;34m:\u001b[0m\u001b[0;34m\u001b[0m\u001b[0m\n",
      "\u001b[0;32m/Users/Natalie/Code/rcapogee-plots/empca.pyc\u001b[0m in \u001b[0;36msolve_coeffs\u001b[0;34m(self)\u001b[0m\n\u001b[1;32m    100\u001b[0m             \u001b[0;31m#- Only do weighted solution if really necessary\u001b[0m\u001b[0;34m\u001b[0m\u001b[0;34m\u001b[0m\u001b[0m\n\u001b[1;32m    101\u001b[0m             \u001b[0;32mif\u001b[0m \u001b[0mN\u001b[0m\u001b[0;34m.\u001b[0m\u001b[0many\u001b[0m\u001b[0;34m(\u001b[0m\u001b[0mself\u001b[0m\u001b[0;34m.\u001b[0m\u001b[0mweights\u001b[0m\u001b[0;34m[\u001b[0m\u001b[0mi\u001b[0m\u001b[0;34m]\u001b[0m \u001b[0;34m!=\u001b[0m \u001b[0mself\u001b[0m\u001b[0;34m.\u001b[0m\u001b[0mweights\u001b[0m\u001b[0;34m[\u001b[0m\u001b[0mi\u001b[0m\u001b[0;34m,\u001b[0m\u001b[0;36m0\u001b[0m\u001b[0;34m]\u001b[0m\u001b[0;34m)\u001b[0m\u001b[0;34m:\u001b[0m\u001b[0;34m\u001b[0m\u001b[0m\n\u001b[0;32m--> 102\u001b[0;31m                 \u001b[0mself\u001b[0m\u001b[0;34m.\u001b[0m\u001b[0mcoeff\u001b[0m\u001b[0;34m[\u001b[0m\u001b[0mi\u001b[0m\u001b[0;34m]\u001b[0m \u001b[0;34m=\u001b[0m \u001b[0m_solve\u001b[0m\u001b[0;34m(\u001b[0m\u001b[0mself\u001b[0m\u001b[0;34m.\u001b[0m\u001b[0meigvec\u001b[0m\u001b[0;34m.\u001b[0m\u001b[0mT\u001b[0m\u001b[0;34m,\u001b[0m \u001b[0mself\u001b[0m\u001b[0;34m.\u001b[0m\u001b[0mdata\u001b[0m\u001b[0;34m[\u001b[0m\u001b[0mi\u001b[0m\u001b[0;34m]\u001b[0m\u001b[0;34m,\u001b[0m \u001b[0mself\u001b[0m\u001b[0;34m.\u001b[0m\u001b[0mweights\u001b[0m\u001b[0;34m[\u001b[0m\u001b[0mi\u001b[0m\u001b[0;34m]\u001b[0m\u001b[0;34m)\u001b[0m\u001b[0;34m\u001b[0m\u001b[0m\n\u001b[0m\u001b[1;32m    103\u001b[0m             \u001b[0;32melse\u001b[0m\u001b[0;34m:\u001b[0m\u001b[0;34m\u001b[0m\u001b[0m\n\u001b[1;32m    104\u001b[0m                 \u001b[0mself\u001b[0m\u001b[0;34m.\u001b[0m\u001b[0mcoeff\u001b[0m\u001b[0;34m[\u001b[0m\u001b[0mi\u001b[0m\u001b[0;34m]\u001b[0m \u001b[0;34m=\u001b[0m \u001b[0mN\u001b[0m\u001b[0;34m.\u001b[0m\u001b[0mdot\u001b[0m\u001b[0;34m(\u001b[0m\u001b[0mself\u001b[0m\u001b[0;34m.\u001b[0m\u001b[0meigvec\u001b[0m\u001b[0;34m,\u001b[0m \u001b[0mself\u001b[0m\u001b[0;34m.\u001b[0m\u001b[0mdata\u001b[0m\u001b[0;34m[\u001b[0m\u001b[0mi\u001b[0m\u001b[0;34m]\u001b[0m\u001b[0;34m)\u001b[0m\u001b[0;34m\u001b[0m\u001b[0m\n",
      "\u001b[0;32m/Users/Natalie/Code/rcapogee-plots/empca.pyc\u001b[0m in \u001b[0;36m_solve\u001b[0;34m(A, b, w)\u001b[0m\n\u001b[1;32m    266\u001b[0m     \u001b[0;32melse\u001b[0m\u001b[0;34m:\u001b[0m\u001b[0;34m\u001b[0m\u001b[0m\n\u001b[1;32m    267\u001b[0m         \u001b[0;31m# x = N.linalg.solve(A, b)\u001b[0m\u001b[0;34m\u001b[0m\u001b[0;34m\u001b[0m\u001b[0m\n\u001b[0;32m--> 268\u001b[0;31m         \u001b[0mx\u001b[0m \u001b[0;34m=\u001b[0m \u001b[0mN\u001b[0m\u001b[0;34m.\u001b[0m\u001b[0mlinalg\u001b[0m\u001b[0;34m.\u001b[0m\u001b[0mlstsq\u001b[0m\u001b[0;34m(\u001b[0m\u001b[0mA\u001b[0m\u001b[0;34m,\u001b[0m \u001b[0mb\u001b[0m\u001b[0;34m)\u001b[0m\u001b[0;34m[\u001b[0m\u001b[0;36m0\u001b[0m\u001b[0;34m]\u001b[0m\u001b[0;34m\u001b[0m\u001b[0m\n\u001b[0m\u001b[1;32m    269\u001b[0m \u001b[0;34m\u001b[0m\u001b[0m\n\u001b[1;32m    270\u001b[0m     \u001b[0;32mreturn\u001b[0m \u001b[0mx\u001b[0m\u001b[0;34m\u001b[0m\u001b[0m\n",
      "\u001b[0;32m/Users/Natalie/anaconda/lib/python2.7/site-packages/numpy/linalg/linalg.pyc\u001b[0m in \u001b[0;36mlstsq\u001b[0;34m(a, b, rcond)\u001b[0m\n\u001b[1;32m   1919\u001b[0m                                  0, work, lwork, iwork, 0)\n\u001b[1;32m   1920\u001b[0m     \u001b[0;32mif\u001b[0m \u001b[0mresults\u001b[0m\u001b[0;34m[\u001b[0m\u001b[0;34m'info'\u001b[0m\u001b[0;34m]\u001b[0m \u001b[0;34m>\u001b[0m \u001b[0;36m0\u001b[0m\u001b[0;34m:\u001b[0m\u001b[0;34m\u001b[0m\u001b[0m\n\u001b[0;32m-> 1921\u001b[0;31m         \u001b[0;32mraise\u001b[0m \u001b[0mLinAlgError\u001b[0m\u001b[0;34m(\u001b[0m\u001b[0;34m'SVD did not converge in Linear Least Squares'\u001b[0m\u001b[0;34m)\u001b[0m\u001b[0;34m\u001b[0m\u001b[0m\n\u001b[0m\u001b[1;32m   1922\u001b[0m     \u001b[0mresids\u001b[0m \u001b[0;34m=\u001b[0m \u001b[0marray\u001b[0m\u001b[0;34m(\u001b[0m\u001b[0;34m[\u001b[0m\u001b[0;34m]\u001b[0m\u001b[0;34m,\u001b[0m \u001b[0mresult_real_t\u001b[0m\u001b[0;34m)\u001b[0m\u001b[0;34m\u001b[0m\u001b[0m\n\u001b[1;32m   1923\u001b[0m     \u001b[0;32mif\u001b[0m \u001b[0mis_1d\u001b[0m\u001b[0;34m:\u001b[0m\u001b[0;34m\u001b[0m\u001b[0m\n",
      "\u001b[0;31mLinAlgError\u001b[0m: SVD did not converge in Linear Least Squares"
     ]
    }
   ],
   "source": [
    "# Do EMPCA for each cluster individually\n",
    "nvecs = 5\n",
    "for subgroup in starsample.subgroups:\n",
    "    print subgroup\n",
    "    match = np.where(starsample.data[starsample.subgroup]==subgroup)\n",
    "    empcaname = starsample.outName('pkl',content = 'empca',subgroup=subgroup,order = starsample.order,seed = starsample.seed,cross=starsample.cross)\n",
    "    empcaname = empcaname.split('pkl')[0]+'nvec{0}'.format(nvecs)+'.pkl'\n",
    "    if os.path.isfile(empcaname):\n",
    "        empcamodel,empcamodel_weight = acs.pklread(empcaname)\n",
    "    elif not os.path.isfile(empcaname):\n",
    "        mask = (starsample.residual[subgroup].mask.T==False)\n",
    "        weights = mask.astype(int)\n",
    "        weights[mask] = 1./starsample.errs[match][mask]**2 # Correct?\n",
    "        empcamodel,runtime1 = timeIt(empca,starsample.residual[subgroup].T,weights = mask.astype(int),nvec=nvecs)\n",
    "        print 'Runtime:', runtime1/60.,' min'\n",
    "        empcamodel_weight,runtime2 = timeIt(empca,starsample.residual[subgroup].T,weights = weights,nvec=nvecs)\n",
    "        print 'Runtime:', runtime2/60.,' min'\n",
    "        acs.pklwrite(empcaname,[empcamodel,empcamodel_weight])\n",
    "    R2noise = 1 - np.ma.var(starsample.errs[match])/np.ma.var(starsample.residual[subgroup].T)\n",
    "    R2 = np.zeros(nvecs)\n",
    "    R2_w = np.zeros(nvecs)\n",
    "    for vec in range(nvecs):\n",
    "        R2[vec] = empcamodel.R2(vec)\n",
    "        R2_w[vec] = empcamodel_weight.R2(vec)\n",
    "\n",
    "    plt.figure()\n",
    "    plt.plot(range(nvecs),R2,label='Unweighted EMPCA')\n",
    "    plt.plot(range(nvecs),R2_w,label='Weighted EMPCA')\n",
    "    plt.axhline(R2noise,color='red',label='Noise Threshold')\n",
    "    plt.xlabel('Number of eigenvectors')\n",
    "    plt.ylabel('Variance')\n",
    "    plt.legend(loc='best')\n",
    "    plt.xlim(0,nvecs-1)\n",
    "    plt.savefig('./{0}/empcaR2_{1}_order{2}_seed{3}_cross{4}_nvec{5}.png'.format(starsample.type,subgroup, starsample.order,starsample.seed,starsample.cross,nvecs))\n",
    "    if hidefigs:\n",
    "        plt.close()\n",
    "        \n"
   ]
  },
  {
   "cell_type": "code",
   "execution_count": 50,
   "metadata": {
    "collapsed": false
   },
   "outputs": [
    {
     "data": {
      "text/plain": [
       "((24, 7214), (24, 7214))"
      ]
     },
     "execution_count": 50,
     "metadata": {},
     "output_type": "execute_result"
    }
   ],
   "source": [
    "starsample.residual[subgroup].T.shape, mask.shape"
   ]
  },
  {
   "cell_type": "code",
   "execution_count": 40,
   "metadata": {
    "collapsed": false
   },
   "outputs": [
    {
     "name": "stdout",
     "output_type": "stream",
     "text": [
      "       iter        R2             rchi2\n",
      "EMPCA  1/25       0.01692896      0.00453127\n",
      "EMPCA  2/25       0.66347058      0.00154661\n",
      "EMPCA  3/25       0.47495173      0.00241644\n",
      "EMPCA  4/25       0.78374318      0.00099341\n",
      "EMPCA  5/25       0.58980960      0.00188186\n",
      "EMPCA  6/25       0.66029065      0.00156138\n",
      "EMPCA  7/25       0.65525315      0.00158267\n",
      "EMPCA  8/25       0.91511255      0.00038971\n",
      "EMPCA  9/25       0.94474708      0.00025371\n",
      "EMPCA 10/25       0.95023567      0.00022843\n",
      "EMPCA 11/25       0.95134297      0.00022336\n",
      "EMPCA 12/25       0.95344827      0.00021368\n",
      "EMPCA 13/25       0.95575310      0.00020307\n",
      "EMPCA 14/25       0.95995431      0.00018376\n",
      "EMPCA 15/25       0.96326614      0.00016855\n",
      "EMPCA 16/25       0.96502814      0.00016045\n",
      "EMPCA 17/25       0.96583602      0.00015674\n",
      "EMPCA 18/25       0.96620943      0.00015502\n",
      "EMPCA 19/25       0.96654628      0.00015347\n",
      "EMPCA 20/25       0.96659057      0.00015327\n",
      "EMPCA 21/25       0.96686816      0.00015200\n",
      "EMPCA 22/25       0.96700381      0.00015137\n",
      "EMPCA 23/25       0.96658008      0.00015332\n",
      "EMPCA 24/25       0.96609046      0.00015556\n",
      "EMPCA 25/25       0.96569096      0.00015739\n",
      "R2: 0.966411276617\n",
      "Runtime: 1.93384358088  min\n",
      "       iter        R2             rchi2\n",
      "EMPCA  1/25       0.01277601    169.84851405\n",
      "EMPCA  2/25       0.63385291     58.52549128\n",
      "EMPCA  3/25       0.76322933     34.25431041\n",
      "EMPCA  4/25       0.84850045     23.17609240\n",
      "EMPCA  5/25       0.79855893     29.87969279\n",
      "EMPCA  6/25       0.90702518     11.73676839\n",
      "EMPCA  7/25       0.91457234     10.79405697\n",
      "EMPCA  8/25       0.92051106      9.79030443\n",
      "EMPCA  9/25       0.93054670      8.26641319\n",
      "EMPCA 10/25       0.94782425      6.08610081\n",
      "EMPCA 11/25       0.95528229      5.05441012\n",
      "EMPCA 12/25       0.95235830      5.53249760\n",
      "EMPCA 13/25       0.94995225      5.77388339\n",
      "EMPCA 14/25       0.95188626      5.24509520\n",
      "EMPCA 15/25       0.95505935      4.72840693\n",
      "EMPCA 16/25       0.95913557      4.16976082\n",
      "EMPCA 17/25       0.93892660      7.30471432\n",
      "EMPCA 18/25       0.94816861      5.86809779\n",
      "EMPCA 19/25       0.96144124      3.83446927\n",
      "EMPCA 20/25       0.94617262      6.10177301\n",
      "EMPCA 21/25       0.95924672      4.14662599\n",
      "EMPCA 22/25       0.95497444      4.78420391\n",
      "EMPCA 23/25       0.94277357      6.81547158\n",
      "EMPCA 24/25       0.91744974     11.15112844\n",
      "EMPCA 25/25       0.95406622      4.63929828\n",
      "R2: 0.956095004406\n",
      "Runtime: 1.94612780015  min\n"
     ]
    }
   ],
   "source": [
    "empcaname = starsample.outName('pkl',content = 'empca',order = starsample.order,seed = starsample.seed,cross=starsample.cross)\n",
    "empcaname = empcaname.split('pkl')[0]+'nvec{0}'.format(nvecs)+'.pkl'\n",
    "if os.path.isfile(empcaname):\n",
    "    empcamodel,empcamodel_weight = acs.pklread(empcaname)\n",
    "elif not os.path.isfile(empcaname):\n",
    "    mask = (allresids.mask==False)\n",
    "    weights = mask.astype(int)\n",
    "    weights[mask] = 1./allsigmas[mask]**2 # Correct?\n",
    "    empcamodel,runtime1 = timeIt(empca,allresids,weights = mask.astype(int),nvec=nvecs)\n",
    "    print 'Runtime:', runtime1/60.,' min'\n",
    "    empcamodel_weight,runtime2 = timeIt(empca,allresids,weights = weights,nvec=nvecs)\n",
    "    print 'Runtime:', runtime2/60.,' min'\n",
    "    acs.pklwrite(empcaname,[empcamodel,empcamodel_weight])"
   ]
  },
  {
   "cell_type": "code",
   "execution_count": 39,
   "metadata": {
    "collapsed": false
   },
   "outputs": [
    {
     "data": {
      "text/plain": [
       "masked_array(data =\n",
       " [[0.004999999888241291 0.004999999888241291 0.004999999888241291 ...,\n",
       "  0.004999999888241291 0.004999999888241291 0.004999999888241291]\n",
       " [0.004999999888241291 0.004999999888241291 0.004999999888241291 ...,\n",
       "  0.005121000111103058 0.005160999950021505 0.005164000205695629]\n",
       " [0.004999999888241291 0.004999999888241291 0.004999999888241291 ...,\n",
       "  0.004999999888241291 0.004999999888241291 0.004999999888241291]\n",
       " ..., \n",
       " [0.004999999888241291 0.004999999888241291 0.004999999888241291 ...,\n",
       "  0.006552999839186668 0.006670000031590462 0.006463999859988689]\n",
       " [0.004999999888241291 0.004999999888241291 0.004999999888241291 ...,\n",
       "  0.004999999888241291 0.004999999888241291 0.004999999888241291]\n",
       " [0.004999999888241291 0.004999999888241291 0.004999999888241291 ...,\n",
       "  0.005481999833136797 0.005504000000655651 0.005530000198632479]],\n",
       "             mask =\n",
       " [[False False False ..., False False False]\n",
       " [False False False ..., False False False]\n",
       " [False False False ..., False False False]\n",
       " ..., \n",
       " [False False False ..., False False False]\n",
       " [False False False ..., False False False]\n",
       " [False False False ..., False False False]],\n",
       "       fill_value = 1e+20)"
      ]
     },
     "execution_count": 39,
     "metadata": {},
     "output_type": "execute_result"
    }
   ],
   "source": [
    "allsigmas"
   ]
  },
  {
   "cell_type": "code",
   "execution_count": null,
   "metadata": {
    "collapsed": true
   },
   "outputs": [],
   "source": []
  },
  {
   "cell_type": "code",
   "execution_count": null,
   "metadata": {
    "collapsed": true
   },
   "outputs": [],
   "source": [
    "R2noise = 1 - np.ma.var(allsigmas)/np.ma.var(allresids)\n",
    "R2 = np.zeros(nvecs)\n",
    "R2_w = np.zeros(nvecs)\n",
    "for vec in range(nvecs):\n",
    "    R2[vec] = empcamodel.R2(vec)\n",
    "    R2_w[vec] = empcamodel_weight.R2(vec)"
   ]
  },
  {
   "cell_type": "code",
   "execution_count": null,
   "metadata": {
    "collapsed": true
   },
   "outputs": [],
   "source": [
    "plt.figure()\n",
    "plt.plot(range(nvecs),R2,label='Unweighted EMPCA')\n",
    "plt.plot(range(nvecs),R2_w,label='Weighted EMPCA')\n",
    "plt.axhline(R2noise,color='red',label='Noise Threshold')\n",
    "plt.xlabel('Number of eigenvectors')\n",
    "plt.ylabel('Variance')\n",
    "plt.legend(loc='best')\n",
    "plt.xlim(0,nvecs-1)\n",
    "plt.savefig('./{0}/empcaR2_order{1}_seed{2}_cross{3}_nvec{4}.png'.format(starsample.type, starsample.order,starsample.seed,starsample.cross,nvecs))\n",
    "if hidefigs:\n",
    "    plt.close()"
   ]
  }
 ],
 "metadata": {
  "kernelspec": {
   "display_name": "Python 2",
   "language": "python",
   "name": "python2"
  },
  "language_info": {
   "codemirror_mode": {
    "name": "ipython",
    "version": 2
   },
   "file_extension": ".py",
   "mimetype": "text/x-python",
   "name": "python",
   "nbconvert_exporter": "python",
   "pygments_lexer": "ipython2",
   "version": "2.7.11"
  }
 },
 "nbformat": 4,
 "nbformat_minor": 0
}
