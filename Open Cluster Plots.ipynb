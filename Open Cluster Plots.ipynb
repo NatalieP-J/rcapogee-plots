{
 "cells": [
  {
   "cell_type": "code",
   "execution_count": 2,
   "metadata": {
    "collapsed": false
   },
   "outputs": [
    {
     "name": "stdout",
     "output_type": "stream",
     "text": [
      "431 File aspcapStar-r5-v603-2M03403073+2429143.fits does not appear to exist on the server ...\n",
      "432 File aspcapStar-r5-v603-2M03405126+2335544.fits does not appear to exist on the server ...\n",
      "433 File aspcapStar-r5-v603-2M03413958+2345471.fits does not appear to exist on the server ...\n",
      "434 File aspcapStar-r5-v603-2M03415366+2327287.fits does not appear to exist on the server ...\n",
      "435 File aspcapStar-r5-v603-2M03415868+2342263.fits does not appear to exist on the server ...\n",
      "436 File aspcapStar-r5-v603-2M03420383+2442454.fits does not appear to exist on the server ...\n",
      "437 File aspcapStar-r5-v603-2M03422154+2439527.fits does not appear to exist on the server ...\n",
      "438 File aspcapStar-r5-v603-2M03422760+2502492.fits does not appear to exist on the server ...\n",
      "439 File aspcapStar-r5-v603-2M03424189+2411583.fits does not appear to exist on the server ...\n",
      "440 File aspcapStar-r5-v603-2M03432662+2459395.fits does not appear to exist on the server ...\n",
      "441 File aspcapStar-r5-v603-2M03433660+2327141.fits does not appear to exist on the server ...\n",
      "442 File aspcapStar-r5-v603-2M03433692+2423382.fits does not appear to exist on the server ...\n",
      "443 File aspcapStar-r5-v603-2M03434796+2503115.fits does not appear to exist on the server ...\n",
      "444 File aspcapStar-r5-v603-2M03434860+2332218.fits does not appear to exist on the server ...\n",
      "445 File aspcapStar-r5-v603-2M03435214+2450297.fits does not appear to exist on the server ...\n",
      "446 File aspcapStar-r5-v603-2M03435569+2425350.fits does not appear to exist on the server ...\n",
      "447 File aspcapStar-r5-v603-2M03440509+2529017.fits does not appear to exist on the server ...\n",
      "448 File aspcapStar-r5-v603-2M03442628+2435229.fits does not appear to exist on the server ...\n",
      "449 File aspcapStar-r5-v603-2M03442801+2410176.fits does not appear to exist on the server ...\n",
      "450 File aspcapStar-r5-v603-2M03443541+2400049.fits does not appear to exist on the server ...\n",
      "451 File aspcapStar-r5-v603-2M03443742+2508161.fits does not appear to exist on the server ...\n",
      "452 File aspcapStar-r5-v603-2M03445017+2454401.fits does not appear to exist on the server ...\n",
      "453 File aspcapStar-r5-v603-2M03445896+2323202.fits does not appear to exist on the server ...\n",
      "454 File aspcapStar-r5-v603-2M03451199+2435102.fits does not appear to exist on the server ...\n",
      "455 File aspcapStar-r5-v603-2M03452219+2328182.fits does not appear to exist on the server ...\n",
      "456 File aspcapStar-r5-v603-2M03452349+2451029.fits does not appear to exist on the server ...\n",
      "457 File aspcapStar-r5-v603-2M03452957+2345379.fits does not appear to exist on the server ...\n",
      "458 File aspcapStar-r5-v603-2M03453022+2418455.fits does not appear to exist on the server ...\n",
      "459 File aspcapStar-r5-v603-2M03453903+2513279.fits does not appear to exist on the server ...\n",
      "460 File aspcapStar-r5-v603-2M03453941+2345154.fits does not appear to exist on the server ...\n",
      "461 File aspcapStar-r5-v603-2M03454245+2503255.fits does not appear to exist on the server ...\n",
      "462 File aspcapStar-r5-v603-2M03454407+2404268.fits does not appear to exist on the server ...\n",
      "463 File aspcapStar-r5-v603-2M03454894+2351103.fits does not appear to exist on the server ...\n",
      "464 File aspcapStar-r5-v603-2M03455048+2352262.fits does not appear to exist on the server ...\n",
      "465 File aspcapStar-r5-v603-2M03460381+2527108.fits does not appear to exist on the server ...\n",
      "466 File aspcapStar-r5-v603-2M03460525+2258540.fits does not appear to exist on the server ...\n",
      "467 File aspcapStar-r5-v603-2M03460649+2434027.fits does not appear to exist on the server ...\n",
      "468 File aspcapStar-r5-v603-2M03460652+2350204.fits does not appear to exist on the server ...\n",
      "469 File aspcapStar-r5-v603-2M03460750+2422278.fits does not appear to exist on the server ...\n",
      "470 File aspcapStar-r5-v603-2M03460777+2452005.fits does not appear to exist on the server ...\n",
      "471 File aspcapStar-r5-v603-2M03460989+2440251.fits does not appear to exist on the server ...\n",
      "472 File aspcapStar-r5-v603-2M03461175+2437203.fits does not appear to exist on the server ...\n",
      "473 File aspcapStar-r5-v603-2M03461287+2403158.fits does not appear to exist on the server ...\n",
      "474 File aspcapStar-r5-v603-2M03462047+2447077.fits does not appear to exist on the server ...\n",
      "475 File aspcapStar-r5-v603-2M03462778+2335337.fits does not appear to exist on the server ...\n",
      "476 File aspcapStar-r5-v603-2M03462863+2445324.fits does not appear to exist on the server ...\n",
      "477 File aspcapStar-r5-v603-2M03463118+2407025.fits does not appear to exist on the server ...\n",
      "478 File aspcapStar-r5-v603-2M03463288+2318192.fits does not appear to exist on the server ...\n",
      "479 File aspcapStar-r5-v603-2M03463533+2324422.fits does not appear to exist on the server ...\n",
      "480 File aspcapStar-r5-v603-2M03463591+2358013.fits does not appear to exist on the server ...\n",
      "481 File aspcapStar-r5-v603-2M03463727+2420367.fits does not appear to exist on the server ...\n",
      "482 File aspcapStar-r5-v603-2M03463777+2444517.fits does not appear to exist on the server ...\n",
      "483 File aspcapStar-r5-v603-2M03463888+2431132.fits does not appear to exist on the server ...\n",
      "484 File aspcapStar-r5-v603-2M03463939+2401469.fits does not appear to exist on the server ...\n",
      "485 File aspcapStar-r5-v603-2M03464027+2455517.fits does not appear to exist on the server ...\n",
      "486 File aspcapStar-r5-v603-2M03464831+2418060.fits does not appear to exist on the server ...\n",
      "487 File aspcapStar-r5-v603-2M03464921+2436001.fits does not appear to exist on the server ...\n",
      "488 File aspcapStar-r5-v603-2M03465260+2338433.fits does not appear to exist on the server ...\n",
      "489 File aspcapStar-r5-v603-2M03465709+2315024.fits does not appear to exist on the server ...\n",
      "490 File aspcapStar-r5-v603-2M03470678+2342546.fits does not appear to exist on the server ...\n",
      "491 File aspcapStar-r5-v603-2M03471353+2342515.fits does not appear to exist on the server ...\n",
      "492 File aspcapStar-r5-v603-2M03471481+2522186.fits does not appear to exist on the server ...\n",
      "493 File aspcapStar-r5-v603-2M03471806+2423268.fits does not appear to exist on the server ...\n",
      "494 File aspcapStar-r5-v603-2M03471814+2402115.fits does not appear to exist on the server ...\n",
      "495 File aspcapStar-r5-v603-2M03472083+2505124.fits does not appear to exist on the server ...\n",
      "496 File aspcapStar-r5-v603-2M03473368+2441032.fits does not appear to exist on the server ...\n",
      "497 File aspcapStar-r5-v603-2M03473521+2532383.fits does not appear to exist on the server ...\n",
      "498 File aspcapStar-r5-v603-2M03473801+2328050.fits does not appear to exist on the server ...\n",
      "499 File aspcapStar-r5-v603-2M03474098+2255480.fits does not appear to exist on the server ...\n",
      "500 File aspcapStar-r5-v603-2M03475973+2443528.fits does not appear to exist on the server ...\n",
      "501 File aspcapStar-r5-v603-2M03481018+2300041.fits does not appear to exist on the server ...\n",
      "502 File aspcapStar-r5-v603-2M03481099+2330253.fits does not appear to exist on the server ...\n",
      "503 File aspcapStar-r5-v603-2M03481729+2430159.fits does not appear to exist on the server ...\n",
      "504 File aspcapStar-r5-v603-2M03482277+2358212.fits does not appear to exist on the server ...\n",
      "505 File aspcapStar-r5-v603-2M03482604+2514411.fits does not appear to exist on the server ...\n"
     ]
    },
    {
     "ename": "ValueError",
     "evalue": "could not broadcast input array from shape (24) into shape (484)",
     "output_type": "error",
     "traceback": [
      "\u001b[1;31m---------------------------------------------------------------------------\u001b[0m",
      "\u001b[1;31mValueError\u001b[0m                                Traceback (most recent call last)",
      "\u001b[1;32m/home/price-jones/Code/APOGEE/rcapogee-plots/run_residuals.py\u001b[0m in \u001b[0;36m<module>\u001b[1;34m()\u001b[0m\n\u001b[0;32m    175\u001b[0m \u001b[1;33m\u001b[0m\u001b[0m\n\u001b[0;32m    176\u001b[0m     \u001b[1;31m# Do pixel fitting\u001b[0m\u001b[1;33m\u001b[0m\u001b[1;33m\u001b[0m\u001b[0m\n\u001b[1;32m--> 177\u001b[1;33m     \u001b[0mnoneholder\u001b[0m\u001b[1;33m,\u001b[0m\u001b[0mruntime\u001b[0m \u001b[1;33m=\u001b[0m \u001b[0mtimeIt\u001b[0m\u001b[1;33m(\u001b[0m\u001b[0mstarsample\u001b[0m\u001b[1;33m.\u001b[0m\u001b[0mallPixFit\u001b[0m\u001b[1;33m)\u001b[0m\u001b[1;33m\u001b[0m\u001b[0m\n\u001b[0m\u001b[0;32m    178\u001b[0m     \u001b[1;32mif\u001b[0m \u001b[0mverbose\u001b[0m\u001b[1;33m:\u001b[0m\u001b[1;33m\u001b[0m\u001b[0m\n\u001b[0;32m    179\u001b[0m         \u001b[1;32mprint\u001b[0m \u001b[1;34m'Pixel fitting runtime {0:.2f} s\\n'\u001b[0m\u001b[1;33m.\u001b[0m\u001b[0mformat\u001b[0m\u001b[1;33m(\u001b[0m\u001b[0mruntime\u001b[0m\u001b[1;33m)\u001b[0m\u001b[1;33m\u001b[0m\u001b[0m\n",
      "\u001b[1;32m/home/price-jones/Code/APOGEE/rcapogee-plots/run_residuals.py\u001b[0m in \u001b[0;36mtimeIt\u001b[1;34m(fn, *args, **kwargs)\u001b[0m\n\u001b[0;32m     60\u001b[0m     \"\"\"\n\u001b[0;32m     61\u001b[0m     \u001b[0mstart\u001b[0m \u001b[1;33m=\u001b[0m \u001b[0mtime\u001b[0m\u001b[1;33m.\u001b[0m\u001b[0mtime\u001b[0m\u001b[1;33m(\u001b[0m\u001b[1;33m)\u001b[0m\u001b[1;33m\u001b[0m\u001b[0m\n\u001b[1;32m---> 62\u001b[1;33m     \u001b[0moutput\u001b[0m \u001b[1;33m=\u001b[0m \u001b[0mfn\u001b[0m\u001b[1;33m(\u001b[0m\u001b[1;33m*\u001b[0m\u001b[0margs\u001b[0m\u001b[1;33m,\u001b[0m\u001b[1;33m**\u001b[0m\u001b[0mkwargs\u001b[0m\u001b[1;33m)\u001b[0m\u001b[1;33m\u001b[0m\u001b[0m\n\u001b[0m\u001b[0;32m     63\u001b[0m     \u001b[0mend\u001b[0m \u001b[1;33m=\u001b[0m \u001b[0mtime\u001b[0m\u001b[1;33m.\u001b[0m\u001b[0mtime\u001b[0m\u001b[1;33m(\u001b[0m\u001b[1;33m)\u001b[0m\u001b[1;33m\u001b[0m\u001b[0m\n\u001b[0;32m     64\u001b[0m     \u001b[1;32mreturn\u001b[0m \u001b[0moutput\u001b[0m\u001b[1;33m,\u001b[0m\u001b[0mend\u001b[0m\u001b[1;33m-\u001b[0m\u001b[0mstart\u001b[0m\u001b[1;33m\u001b[0m\u001b[0m\n",
      "\u001b[1;32m/home/price-jones/Code/APOGEE/rcapogee-plots/residuals.pyc\u001b[0m in \u001b[0;36mallPixFit\u001b[1;34m(self, subgroup)\u001b[0m\n\u001b[0;32m    590\u001b[0m                                         \u001b[1;32mfor\u001b[0m \u001b[0mpix\u001b[0m \u001b[1;32min\u001b[0m \u001b[0mrange\u001b[0m\u001b[1;33m(\u001b[0m\u001b[0maspcappix\u001b[0m\u001b[1;33m)\u001b[0m\u001b[1;33m:\u001b[0m\u001b[1;33m\u001b[0m\u001b[0m\n\u001b[0;32m    591\u001b[0m                                                 \u001b[0mindeps\u001b[0m \u001b[1;33m=\u001b[0m \u001b[0mallindeps\u001b[0m\u001b[1;33m[\u001b[0m\u001b[0mpix\u001b[0m\u001b[1;33m]\u001b[0m\u001b[1;33m\u001b[0m\u001b[0m\n\u001b[1;32m--> 592\u001b[1;33m                                                 \u001b[0mparam\u001b[0m\u001b[1;33m,\u001b[0m\u001b[0mcolcode\u001b[0m \u001b[1;33m=\u001b[0m \u001b[0mretryPixFunction\u001b[0m\u001b[1;33m(\u001b[0m\u001b[0mself\u001b[0m\u001b[1;33m.\u001b[0m\u001b[0mpixFit\u001b[0m\u001b[1;33m,\u001b[0m\u001b[1;33m[\u001b[0m\u001b[0mself\u001b[0m\u001b[1;33m.\u001b[0m\u001b[0mallIndepVars\u001b[0m\u001b[1;33m]\u001b[0m\u001b[1;33m,\u001b[0m\u001b[0mpix\u001b[0m\u001b[1;33m,\u001b[0m\u001b[0mmatch\u001b[0m\u001b[1;33m,\u001b[0m\u001b[0mindeps\u001b[0m\u001b[1;33m)\u001b[0m\u001b[1;33m\u001b[0m\u001b[0m\n\u001b[0m\u001b[0;32m    593\u001b[0m                                                 \u001b[0mallparams\u001b[0m\u001b[1;33m.\u001b[0m\u001b[0mappend\u001b[0m\u001b[1;33m(\u001b[0m\u001b[0mparam\u001b[0m\u001b[1;33m)\u001b[0m\u001b[1;33m\u001b[0m\u001b[0m\n\u001b[0;32m    594\u001b[0m                                                 \u001b[0mallcodes\u001b[0m\u001b[1;33m.\u001b[0m\u001b[0mappend\u001b[0m\u001b[1;33m(\u001b[0m\u001b[0mcolcode\u001b[0m\u001b[1;33m)\u001b[0m\u001b[1;33m\u001b[0m\u001b[0m\n",
      "\u001b[1;32m/home/price-jones/Code/APOGEE/rcapogee-plots/residuals.pyc\u001b[0m in \u001b[0;36mretryPixFunction\u001b[1;34m(fn, dependencies, *args, **kwargs)\u001b[0m\n\u001b[0;32m     95\u001b[0m \t\"\"\"\n\u001b[0;32m     96\u001b[0m         \u001b[1;32mtry\u001b[0m\u001b[1;33m:\u001b[0m\u001b[1;33m\u001b[0m\u001b[0m\n\u001b[1;32m---> 97\u001b[1;33m                 \u001b[1;32mreturn\u001b[0m \u001b[0mfn\u001b[0m\u001b[1;33m(\u001b[0m\u001b[1;33m*\u001b[0m\u001b[0margs\u001b[0m\u001b[1;33m,\u001b[0m\u001b[1;33m**\u001b[0m\u001b[0mkwargs\u001b[0m\u001b[1;33m)\u001b[0m\u001b[1;33m\u001b[0m\u001b[0m\n\u001b[0m\u001b[0;32m     98\u001b[0m         \u001b[1;32mexcept\u001b[0m \u001b[0mAttributeError\u001b[0m \u001b[1;32mas\u001b[0m \u001b[0me\u001b[0m\u001b[1;33m:\u001b[0m\u001b[1;33m\u001b[0m\u001b[0m\n\u001b[0;32m     99\u001b[0m                 \u001b[1;32mfor\u001b[0m \u001b[0mdep\u001b[0m \u001b[1;32min\u001b[0m \u001b[0mdependencies\u001b[0m\u001b[1;33m:\u001b[0m\u001b[1;33m\u001b[0m\u001b[0m\n",
      "\u001b[1;32m/home/price-jones/Code/APOGEE/rcapogee-plots/residuals.pyc\u001b[0m in \u001b[0;36mpixFit\u001b[1;34m(self, pix, match, indeps)\u001b[0m\n\u001b[0;32m    537\u001b[0m                 \u001b[1;32mexcept\u001b[0m \u001b[0mnp\u001b[0m\u001b[1;33m.\u001b[0m\u001b[0mlinalg\u001b[0m\u001b[1;33m.\u001b[0m\u001b[0mlinalg\u001b[0m\u001b[1;33m.\u001b[0m\u001b[0mLinAlgError\u001b[0m \u001b[1;32mas\u001b[0m \u001b[0me\u001b[0m\u001b[1;33m:\u001b[0m\u001b[1;33m\u001b[0m\u001b[0m\n\u001b[0;32m    538\u001b[0m                         \u001b[0mfitParam\u001b[0m \u001b[1;33m=\u001b[0m \u001b[0mnp\u001b[0m\u001b[1;33m.\u001b[0m\u001b[0mzeros\u001b[0m\u001b[1;33m(\u001b[0m\u001b[0mself\u001b[0m\u001b[1;33m.\u001b[0m\u001b[0morder\u001b[0m\u001b[1;33m*\u001b[0m\u001b[0mlen\u001b[0m\u001b[1;33m(\u001b[0m\u001b[0mindeps\u001b[0m\u001b[1;33m)\u001b[0m\u001b[1;33m+\u001b[0m\u001b[1;36m1\u001b[0m\u001b[1;33m)\u001b[0m\u001b[1;33m\u001b[0m\u001b[0m\n\u001b[1;32m--> 539\u001b[1;33m                         \u001b[0mself\u001b[0m\u001b[1;33m.\u001b[0m\u001b[0mspecs\u001b[0m\u001b[1;33m.\u001b[0m\u001b[0mmask\u001b[0m\u001b[1;33m[\u001b[0m\u001b[1;33m:\u001b[0m\u001b[1;33m,\u001b[0m\u001b[0mpix\u001b[0m\u001b[1;33m]\u001b[0m \u001b[1;33m=\u001b[0m \u001b[0mnp\u001b[0m\u001b[1;33m.\u001b[0m\u001b[0mones\u001b[0m\u001b[1;33m(\u001b[0m\u001b[0mself\u001b[0m\u001b[1;33m.\u001b[0m\u001b[0mnumstars\u001b[0m\u001b[1;33m)\u001b[0m\u001b[1;33m.\u001b[0m\u001b[0mastype\u001b[0m\u001b[1;33m(\u001b[0m\u001b[0mbool\u001b[0m\u001b[1;33m)\u001b[0m\u001b[1;33m\u001b[0m\u001b[0m\n\u001b[0m\u001b[0;32m    540\u001b[0m                         \u001b[0mself\u001b[0m\u001b[1;33m.\u001b[0m\u001b[0merrs\u001b[0m\u001b[1;33m.\u001b[0m\u001b[0mmask\u001b[0m\u001b[1;33m[\u001b[0m\u001b[1;33m:\u001b[0m\u001b[1;33m,\u001b[0m\u001b[0mpix\u001b[0m\u001b[1;33m]\u001b[0m \u001b[1;33m=\u001b[0m \u001b[0mnp\u001b[0m\u001b[1;33m.\u001b[0m\u001b[0mones\u001b[0m\u001b[1;33m(\u001b[0m\u001b[0mself\u001b[0m\u001b[1;33m.\u001b[0m\u001b[0mnumstars\u001b[0m\u001b[1;33m)\u001b[0m\u001b[1;33m.\u001b[0m\u001b[0mastype\u001b[0m\u001b[1;33m(\u001b[0m\u001b[0mbool\u001b[0m\u001b[1;33m)\u001b[0m\u001b[1;33m\u001b[0m\u001b[0m\n\u001b[0;32m    541\u001b[0m                         \u001b[1;32mif\u001b[0m \u001b[0mself\u001b[0m\u001b[1;33m.\u001b[0m\u001b[0mverbose\u001b[0m\u001b[1;33m:\u001b[0m\u001b[1;33m\u001b[0m\u001b[0m\n",
      "\u001b[1;31mValueError\u001b[0m: could not broadcast input array from shape (24) into shape (484)"
     ]
    }
   ],
   "source": [
    "run run_residuals -l -o 1"
   ]
  },
  {
   "cell_type": "code",
   "execution_count": null,
   "metadata": {
    "collapsed": true
   },
   "outputs": [],
   "source": []
  }
 ],
 "metadata": {
  "kernelspec": {
   "display_name": "Python 2",
   "language": "python",
   "name": "python2"
  },
  "language_info": {
   "codemirror_mode": {
    "name": "ipython",
    "version": 2
   },
   "file_extension": ".py",
   "mimetype": "text/x-python",
   "name": "python",
   "nbconvert_exporter": "python",
   "pygments_lexer": "ipython2",
   "version": "2.7.5"
  }
 },
 "nbformat": 4,
 "nbformat_minor": 0
}
