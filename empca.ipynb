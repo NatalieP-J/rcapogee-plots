{
 "cells": [
  {
   "cell_type": "code",
   "execution_count": null,
   "metadata": {
    "collapsed": false,
    "scrolled": true
   },
   "outputs": [],
   "source": [
    "import numpy as np\n",
    "import scipy as sp\n",
    "import matplotlib\n",
    "font = {'family' : 'serif',\n",
    "        'weight' : 'normal',\n",
    "        'size'   : 18}\n",
    "\n",
    "matplotlib.rc('font', **font)\n",
    "import matplotlib.patheffects as path_effects\n",
    "%pylab inline\n",
    "# How does changing the seed used in EMPCA effect this? It seems more significant than it should be"
   ]
  },
  {
   "cell_type": "code",
   "execution_count": null,
   "metadata": {
    "collapsed": false,
    "scrolled": false
   },
   "outputs": [
    {
     "name": "stdout",
     "output_type": "stream",
     "text": [
      "file =  clusters/pickles/empca_M67_order2_seed1_nvecs5_MADFalse.pkl\n",
      "var, Vnoise  3.28703848361e-05 2.60849113165e-05\n",
      "var, Vnoise  51824.0753036 2.60849113165e-05\n",
      "file =  clusters/pickles/empca_M67_order2_seed1_nvecs5_MADFalse_SNRdiagonalcorrect.pkl\n",
      "var, Vnoise  3.28703848076e-05 4.45744148263e-05\n",
      "var, Vnoise  24995.678001 4.45744148263e-05\n",
      "file =  clusters/pickles/empca_M67_order2_seed1_nvecs5_MADFalse_SNRmediancorrect.pkl\n",
      "var, Vnoise  3.28703846467e-05 3.46833398161e-05\n",
      "var, Vnoise  29475.322615 3.46833398161e-05\n",
      "file =  clusters/pickles/empca_M67_order2_seed1_nvecs5_MADTrue.pkl\n",
      "var, Vnoise  1.60030531503e-05 2.60849113165e-05\n",
      "var, Vnoise  24942.8321218 2.60849113165e-05\n",
      "file =  clusters/pickles/empca_M67_order2_seed1_nvecs5_MADTrue_SNRdiagonalcorrect.pkl\n",
      "var, Vnoise  1.60030585034e-05 4.45744148263e-05\n",
      "var, Vnoise  12372.3044519 4.45744148263e-05\n",
      "file =  clusters/pickles/empca_M67_order2_seed1_nvecs5_MADTrue_SNRmediancorrect.pkl\n",
      "var, Vnoise  1.60030549964e-05 3.46833398161e-05\n",
      "var, Vnoise  14803.4522137 3.46833398161e-05\n",
      "file =  clusters/pickles/empca_element_M67_order2_seed1_nvecs5_MADFalse.pkl\n",
      "var, Vnoise  2.35255419842e-05 2.55920470824e-06\n",
      "var, Vnoise  373761026.712 2.55920470824e-06\n",
      "file =  clusters/pickles/empca_element_M67_order2_seed1_nvecs5_MADFalse_SNRdiagonalcorrect.pkl\n",
      "var, Vnoise  2.3525541909e-05 6.2265662353e-06\n",
      "var, Vnoise  34410619.9426 6.2265662353e-06\n",
      "file =  clusters/pickles/empca_element_M67_order2_seed1_nvecs5_MADFalse_SNRmediancorrect.pkl\n",
      "var, Vnoise  2.35255419796e-05 3.17637560235e-06\n",
      "var, Vnoise  214705573.493 3.17637560235e-06\n",
      "file =  clusters/pickles/empca_element_M67_order2_seed1_nvecs5_MADTrue.pkl\n",
      "var, Vnoise  1.21111827967e-05 2.55920470824e-06\n",
      "var, Vnoise  3638809.35704 2.55920470824e-06\n",
      "file =  clusters/pickles/empca_element_M67_order2_seed1_nvecs5_MADTrue_SNRdiagonalcorrect.pkl\n",
      "var, Vnoise  1.21111821576e-05 6.2265662353e-06\n",
      "var, Vnoise  620914.354799 6.2265662353e-06\n",
      "file = "
     ]
    }
   ],
   "source": [
    "run comp_empca.py -s clusters/pickles/empca,M67,.pkl"
   ]
  },
  {
   "cell_type": "code",
   "execution_count": null,
   "metadata": {
    "collapsed": false,
    "scrolled": false
   },
   "outputs": [],
   "source": [
    "run comp_empca.py -s clusters/pickles/empca,N2158,.pkl"
   ]
  },
  {
   "cell_type": "code",
   "execution_count": null,
   "metadata": {
    "collapsed": false,
    "scrolled": false
   },
   "outputs": [],
   "source": [
    "run comp_empca.py -s clusters/pickles/empca,N6791,.pkl"
   ]
  },
  {
   "cell_type": "code",
   "execution_count": null,
   "metadata": {
    "collapsed": false,
    "scrolled": false
   },
   "outputs": [],
   "source": [
    "run comp_empca.py -s clusters/pickles/empca,N6819,.pkl"
   ]
  },
  {
   "cell_type": "code",
   "execution_count": null,
   "metadata": {
    "collapsed": false
   },
   "outputs": [],
   "source": [
    "run comp_empca.py -s clusters/pickles/empca,M13,.pkl"
   ]
  },
  {
   "cell_type": "markdown",
   "metadata": {},
   "source": [
    "MAD on non-corrected open cluster"
   ]
  },
  {
   "cell_type": "code",
   "execution_count": 1,
   "metadata": {
    "collapsed": false,
    "scrolled": true
   },
   "outputs": [
    {
     "name": "stderr",
     "output_type": "stream",
     "text": [
      "/usr/lib/python2.7/site-packages/setuptools-18.7.1-py2.7.egg/pkg_resources/__init__.py:1266: UserWarning: /home/price-jones/.python-eggs is writable by group/others and vulnerable to attack when used with get_resource_filename. Consider a more secure location (set with .set_extraction_path or the PYTHON_EGG_CACHE environment variable).\n",
      "/home/price-jones/Code/apogee/apogee/spec/window.py:88: RuntimeWarning: invalid value encountered in greater\n",
      "  mask= ((win > 0.)*(True-numpy.isnan(win))).astype('int')\n"
     ]
    },
    {
     "name": "stdout",
     "output_type": "stream",
     "text": [
      "/usr/lib/python2.7/site-packages/IPython/kernel/__init__.py:13: ShimWarning: The `IPython.kernel` package has been deprecated. You should import from ipykernel or jupyter_client instead.\n",
      "  \"You should import from ipykernel or jupyter_client instead.\", ShimWarning)\n",
      "\n",
      "M67\n",
      "PIXEL SPACE\n",
      "number of unusable pixels,  1163\n",
      "nans  (array([], dtype=int64), array([], dtype=int64))\n",
      "Pixel runtime (unweighted):\t0.0102851668994  min\n",
      "Pixel runtime (weighted):\t0.0117735505104  min\n",
      "var, Vnoise  1.60030531503e-05 2.60849113165e-05\n",
      "var, Vnoise  24942.8321218 2.60849113165e-05\n",
      "ELEMENT SPACE\n",
      "nan  (array([], dtype=int64), array([], dtype=int64))\n",
      "Element runtime (unweighted):\t0.00146439870199  min\n",
      "Element runtime (weighted):\t0.00197613239288  min\n",
      "var, Vnoise  1.21111827967e-05 2.55920470824e-06\n",
      "var, Vnoise  3638809.35704 2.55920470824e-06\n",
      "space \t weight type \t R2_noise \t number of vectors\n",
      "pixel \t basic weight \t  -0.629995918372  \t  0\n",
      "pixel \t error weight \t  0.999999998954  \t  more than 5\n",
      "elem \t basic weight \t  0.788690770242  \t  3\n",
      "elem \t error weight \t  0.999999999999  \t  more than 5\n",
      "N2158\n",
      "PIXEL SPACE\n",
      "number of unusable pixels,  844\n",
      "nans  (array([], dtype=int64), array([], dtype=int64))\n",
      "Pixel runtime (unweighted):\t0.0135321656863  min\n",
      "Pixel runtime (weighted):\t0.0165203173955  min\n",
      "var, Vnoise  3.9153198995e-05 4.76485182639e-05\n",
      "var, Vnoise  22862.3293919 4.76485182639e-05\n",
      "ELEMENT SPACE\n",
      "nan  (array([], dtype=int64), array([], dtype=int64))\n",
      "Element runtime (unweighted):\t0.000777852535248  min\n",
      "Element runtime (weighted):\t0.00153477986654  min\n",
      "var, Vnoise  7.88439238458e-06 4.48714191835e-06\n",
      "var, Vnoise  1346647.12441 4.48714191835e-06\n",
      "space \t weight type \t R2_noise \t number of vectors\n",
      "pixel \t basic weight \t  -0.216976377077  \t  0\n",
      "pixel \t error weight \t  0.999999997916  \t  more than 5\n",
      "elem \t basic weight \t  0.430882977473  \t  1\n",
      "elem \t error weight \t  0.999999999997  \t  more than 5\n",
      "N6791\n",
      "PIXEL SPACE\n",
      "number of unusable pixels,  730\n",
      "nans  (array([], dtype=int64), array([], dtype=int64))\n",
      "Pixel runtime (unweighted):\t0.0142121831576  min\n",
      "Pixel runtime (weighted):\t0.0111404339472  min\n",
      "var, Vnoise  6.14992747398e-05 5.15789804466e-05\n",
      "var, Vnoise  31656.7115744 5.15789804466e-05\n",
      "ELEMENT SPACE\n",
      "nan  (array([], dtype=int64), array([], dtype=int64))\n",
      "Element runtime (unweighted):\t0.00176049868266  min\n",
      "Element runtime (weighted):\t0.00290106534958  min\n",
      "var, Vnoise  3.409498205e-05 3.55253554996e-06\n",
      "var, Vnoise  9695715.00742 3.55253554996e-06\n",
      "space \t weight type \t R2_noise \t number of vectors\n",
      "pixel \t basic weight \t  0.161307500538  \t  0\n",
      "pixel \t error weight \t  0.999999998371  \t  more than 5\n",
      "elem \t basic weight \t  0.895804739103  \t  3\n",
      "elem \t error weight \t  1.0  \t  more than 5\n",
      "N6819\n",
      "PIXEL SPACE\n",
      "number of unusable pixels,  1085\n",
      "nans  (array([], dtype=int64), array([], dtype=int64))\n",
      "Pixel runtime (unweighted):\t0.0081373333931  min\n",
      "Pixel runtime (weighted):\t0.00981510082881  min\n",
      "var, Vnoise  2.22427737367e-05 3.31770559568e-05\n",
      "var, Vnoise  26814.9336161 3.31770559568e-05\n",
      "ELEMENT SPACE\n",
      "nan  (array([], dtype=int64), array([], dtype=int64))\n",
      "Element runtime (unweighted):\t0.00165634950002  min\n",
      "Element runtime (weighted):\t0.001440568765  min\n",
      "var, Vnoise  1.46925226881e-05 2.97585918843e-06\n",
      "var, Vnoise  4120802.80027 2.97585918843e-06\n",
      "space \t weight type \t R2_noise \t number of vectors\n",
      "pixel \t basic weight \t  -0.491588070334  \t  0\n",
      "pixel \t error weight \t  0.999999998763  \t  more than 5\n",
      "elem \t basic weight \t  0.79745757406  \t  3\n",
      "elem \t error weight \t  0.999999999999  \t  more than 5\n",
      "M13\n",
      "PIXEL SPACE\n",
      "number of unusable pixels,  453\n",
      "nans  (array([], dtype=int64), array([], dtype=int64))\n",
      "Pixel runtime (unweighted):\t0.016267267863  min\n",
      "Pixel runtime (weighted):\t0.0140231529872  min\n",
      "var, Vnoise  2.96919582425e-05 4.63372164819e-05\n",
      "var, Vnoise  21781.740459 4.63372164819e-05\n",
      "ELEMENT SPACE\n",
      "nan  (array([], dtype=int64), array([], dtype=int64))\n",
      "Element runtime (unweighted):\t0.00450956821442  min\n",
      "Element runtime (weighted):\t0.00381830135981  min\n",
      "var, Vnoise  -- 3.59521202421e-06\n",
      "run_empca.py:118: RuntimeWarning: divide by zero encountered in divide\n",
      "  return 1-(Vnoise/var),Vnoise,var\n",
      "\n",
      "var, Vnoise  -- 3.59521202421e-06\n",
      "space \t weight type \t R2_noise \t number of vectors\n",
      "pixel \t basic weight \t  -0.560598196435  \t  0\n",
      "pixel \t error weight \t  0.999999997873  \t  more than 5\n",
      "elem \t basic weight \t  --  \t  more than 5\n",
      "elem \t error weight \t  --  \t  more than 5\n"
     ]
    }
   ],
   "source": [
    "run run_empca -vugs -m clusters/pickles/models/model.pkl -d 2e-3"
   ]
  },
  {
   "cell_type": "code",
   "execution_count": 3,
   "metadata": {
    "collapsed": false
   },
   "outputs": [
    {
     "data": {
      "text/plain": [
       "9.3835813067217651e-05"
      ]
     },
     "execution_count": 3,
     "metadata": {},
     "output_type": "execute_result"
    }
   ],
   "source": [
    "m1._masked_data_var"
   ]
  },
  {
   "cell_type": "markdown",
   "metadata": {},
   "source": [
    "Non-MAD on uncorrected open cluster"
   ]
  },
  {
   "cell_type": "code",
   "execution_count": 2,
   "metadata": {
    "collapsed": false,
    "scrolled": true
   },
   "outputs": [
    {
     "name": "stdout",
     "output_type": "stream",
     "text": [
      "M67\n",
      "PIXEL SPACE\n",
      "number of unusable pixels,  1163\n",
      "nans  (array([], dtype=int64), array([], dtype=int64))\n",
      "Pixel runtime (unweighted):\t0.0117621143659  min\n",
      "Pixel runtime (weighted):\t0.0117455840111  min\n",
      "var, Vnoise  3.28703848361e-05 2.60849113165e-05\n",
      "var, Vnoise  51824.0753036 2.60849113165e-05\n",
      "ELEMENT SPACE\n",
      "nan  (array([], dtype=int64), array([], dtype=int64))\n",
      "Element runtime (unweighted):\t0.00168234904607  min\n",
      "Element runtime (weighted):\t0.00200200080872  min\n",
      "var, Vnoise  2.35255419842e-05 2.55920470824e-06\n",
      "var, Vnoise  373761026.712 2.55920470824e-06\n",
      "space \t weight type \t R2_noise \t number of vectors\n",
      "pixel \t basic weight \t  0.206431216229  \t  0\n",
      "pixel \t error weight \t  0.999999999497  \t  more than 5\n",
      "elem \t basic weight \t  0.891215908651  \t  4\n",
      "elem \t error weight \t  1.0  \t  more than 5\n",
      "N2158\n",
      "PIXEL SPACE\n",
      "number of unusable pixels,  844\n",
      "nans  (array([], dtype=int64), array([], dtype=int64))\n",
      "Pixel runtime (unweighted):\t0.00977353652318  min\n",
      "Pixel runtime (weighted):\t0.0169510523478  min\n",
      "var, Vnoise  8.3567901614e-05 4.76485182639e-05\n",
      "var, Vnoise  47642.1850824 4.76485182639e-05\n",
      "ELEMENT SPACE\n",
      "nan  (array([], dtype=int64), array([], dtype=int64))\n",
      "Element runtime (unweighted):\t0.00104925235113  min\n",
      "Element runtime (weighted):\t0.00153263409932  min\n",
      "var, Vnoise  2.05067816602e-05 4.48714191835e-06\n",
      "var, Vnoise  44035730.3116 4.48714191835e-06\n",
      "space \t weight type \t R2_noise \t number of vectors\n",
      "pixel \t basic weight \t  0.429822726865  \t  1\n",
      "pixel \t error weight \t  0.999999999  \t  more than 5\n",
      "elem \t basic weight \t  0.781187414354  \t  2\n",
      "elem \t error weight \t  1.0  \t  more than 5\n",
      "N6791\n",
      "PIXEL SPACE\n",
      "number of unusable pixels,  730\n",
      "nans  (array([], dtype=int64), array([], dtype=int64))\n",
      "Pixel runtime (unweighted):\t0.012674899896  min\n",
      "Pixel runtime (weighted):\t0.0125014185905  min\n",
      "var, Vnoise  0.000110068115911 5.15789804466e-05\n",
      "var, Vnoise  67458.3052382 5.15789804466e-05\n",
      "ELEMENT SPACE\n",
      "nan  (array([], dtype=int64), array([], dtype=int64))\n",
      "Element runtime (unweighted):\t0.00173240105311  min\n",
      "Element runtime (weighted):\t0.00172345240911  min\n",
      "var, Vnoise  6.10896304604e-05 3.55253554996e-06\n",
      "var, Vnoise  5786166507.49 3.55253554996e-06\n",
      "space \t weight type \t R2_noise \t number of vectors\n",
      "pixel \t basic weight \t  0.531390357509  \t  4\n",
      "pixel \t error weight \t  0.999999999235  \t  more than 5\n",
      "elem \t basic weight \t  0.941847159277  \t  more than 5\n",
      "elem \t error weight \t  1.0  \t  more than 5\n",
      "N6819\n",
      "PIXEL SPACE\n",
      "number of unusable pixels,  1085\n",
      "nans  (array([], dtype=int64), array([], dtype=int64))\n",
      "Pixel runtime (unweighted):\t0.0109308163325  min\n",
      "Pixel runtime (weighted):\t0.00797363519669  min\n",
      "var, Vnoise  5.19929457141e-05 3.31770559568e-05\n",
      "var, Vnoise  57438.8660435 3.31770559568e-05\n",
      "ELEMENT SPACE\n",
      "nan  (array([], dtype=int64), array([], dtype=int64))\n",
      "Element runtime (unweighted):\t0.0016601840655  min\n",
      "Element runtime (weighted):\t0.00225081841151  min\n",
      "var, Vnoise  3.20467703037e-05 2.97585918843e-06\n",
      "var, Vnoise  482023821.494 2.97585918843e-06\n",
      "space \t weight type \t R2_noise \t number of vectors\n",
      "pixel \t basic weight \t  0.361893127979  \t  1\n",
      "pixel \t error weight \t  0.999999999422  \t  more than 5\n",
      "elem \t basic weight \t  0.907140121759  \t  more than 5\n",
      "elem \t error weight \t  1.0  \t  more than 5\n",
      "M13\n",
      "PIXEL SPACE\n",
      "number of unusable pixels,  453\n",
      "nans  (array([], dtype=int64), array([], dtype=int64))\n",
      "Pixel runtime (unweighted):\t0.0172661503156  min\n",
      "Pixel runtime (weighted):\t0.0152262330055  min\n",
      "var, Vnoise  9.38358130672e-05 4.63372164819e-05\n",
      "var, Vnoise  60260.7294563 4.63372164819e-05\n",
      "ELEMENT SPACE\n",
      "nan  (array([], dtype=int64), array([], dtype=int64))\n",
      "Element runtime (unweighted):\t0.00392510096232  min\n",
      "Element runtime (weighted):\t0.00345960060755  min\n",
      "var, Vnoise  7.11455631939e-05 3.59521202421e-06\n",
      "var, Vnoise  7342677196.81 3.59521202421e-06\n",
      "space \t weight type \t R2_noise \t number of vectors\n",
      "pixel \t basic weight \t  0.506188362766  \t  more than 5\n",
      "pixel \t error weight \t  0.999999999231  \t  more than 5\n",
      "elem \t basic weight \t  0.94946681335  \t  more than 5\n",
      "elem \t error weight \t  1.0  \t  more than 5\n"
     ]
    }
   ],
   "source": [
    "run run_empca -vgs -m clusters/pickles/models/model.pkl -d 2e-3\n"
   ]
  },
  {
   "cell_type": "markdown",
   "metadata": {},
   "source": [
    "MAD on corrected open cluster"
   ]
  },
  {
   "cell_type": "code",
   "execution_count": 3,
   "metadata": {
    "collapsed": false,
    "scrolled": true
   },
   "outputs": [
    {
     "name": "stdout",
     "output_type": "stream",
     "text": [
      "M67\n",
      "PIXEL SPACE\n",
      "number of unusable pixels,  1163\n",
      "nans  (array([], dtype=int64), array([], dtype=int64))\n",
      "Pixel runtime (unweighted):\t0.0105883002281  min\n",
      "Pixel runtime (weighted):\t0.0152197639147  min\n",
      "var, Vnoise  1.60030549964e-05 3.46833398161e-05\n",
      "var, Vnoise  14803.4522137 3.46833398161e-05\n",
      "ELEMENT SPACE\n",
      "nan  (array([], dtype=int64), array([], dtype=int64))\n",
      "Element runtime (unweighted):\t0.00149671634038  min\n",
      "Element runtime (weighted):\t0.00227710008621  min\n",
      "var, Vnoise  1.2111183009e-05 3.17637560235e-06\n",
      "var, Vnoise  2119758.86226 3.17637560235e-06\n",
      "space \t weight type \t R2_noise \t number of vectors\n",
      "pixel \t basic weight \t  -1.16729492112  \t  0\n",
      "pixel \t error weight \t  0.999999997657  \t  more than 5\n",
      "elem \t basic weight \t  0.737732011813  \t  3\n",
      "elem \t error weight \t  0.999999999999  \t  more than 5\n",
      "N2158\n",
      "PIXEL SPACE\n",
      "number of unusable pixels,  844\n",
      "nans  (array([], dtype=int64), array([], dtype=int64))\n",
      "Pixel runtime (unweighted):\t0.0140519499779  min\n",
      "Pixel runtime (weighted):\t0.016871213913  min\n",
      "var, Vnoise  3.91507747664e-05 6.56807172319e-05\n",
      "var, Vnoise  13749.5257777 6.56807172319e-05\n",
      "ELEMENT SPACE\n",
      "nan  (array([], dtype=int64), array([], dtype=int64))\n",
      "Element runtime (unweighted):\t0.000796631971995  min\n",
      "Element runtime (weighted):\t0.00157566865285  min\n",
      "var, Vnoise  7.88439700452e-06 5.45641674941e-06\n",
      "var, Vnoise  822395.247828 5.45641674941e-06\n",
      "space \t weight type \t R2_noise \t number of vectors\n",
      "pixel \t basic weight \t  -0.677635184075  \t  0\n",
      "pixel \t error weight \t  0.999999995223  \t  more than 5\n",
      "elem \t basic weight \t  0.307947488402  \t  0\n",
      "elem \t error weight \t  0.999999999993  \t  more than 5\n",
      "N6791\n",
      "PIXEL SPACE\n",
      "number of unusable pixels,  730\n",
      "nans  (array([], dtype=int64), array([], dtype=int64))\n",
      "Pixel runtime (unweighted):\t0.0144886136055  min\n",
      "Pixel runtime (weighted):\t0.0112224181493  min\n",
      "var, Vnoise  6.14992762176e-05 7.05048974349e-05\n",
      "var, Vnoise  19373.4159199 7.05048974349e-05\n",
      "ELEMENT SPACE\n",
      "nan  (array([], dtype=int64), array([], dtype=int64))\n",
      "Element runtime (unweighted):\t0.00179264942805  min\n",
      "Element runtime (weighted):\t0.00223761399587  min\n",
      "var, Vnoise  3.40949822025e-05 4.59439980484e-06\n",
      "var, Vnoise  5823834.68955 4.59439980484e-06\n",
      "space \t weight type \t R2_noise \t number of vectors\n",
      "pixel \t basic weight \t  -0.146434588684  \t  0\n",
      "pixel \t error weight \t  0.999999996361  \t  more than 5\n",
      "elem \t basic weight \t  0.865247039064  \t  3\n",
      "elem \t error weight \t  0.999999999999  \t  more than 5\n",
      "N6819\n",
      "PIXEL SPACE\n",
      "number of unusable pixels,  1085\n",
      "nans  (array([], dtype=int64), array([], dtype=int64))\n",
      "Pixel runtime (unweighted):\t0.00820579926173  min\n",
      "Pixel runtime (weighted):\t0.0128752827644  min\n",
      "var, Vnoise  2.22427012587e-05 4.50985112735e-05\n",
      "var, Vnoise  15685.9253849 4.50985112735e-05\n",
      "ELEMENT SPACE\n",
      "nan  (array([], dtype=int64), array([], dtype=int64))\n",
      "Element runtime (unweighted):\t0.0016908009847  min\n",
      "Element runtime (weighted):\t0.00255141655604  min\n",
      "var, Vnoise  1.46925211353e-05 3.67185575283e-06\n",
      "var, Vnoise  2535390.22447 3.67185575283e-06\n",
      "space \t weight type \t R2_noise \t number of vectors\n",
      "pixel \t basic weight \t  -1.02756449179  \t  0\n",
      "pixel \t error weight \t  0.999999997125  \t  more than 5\n",
      "elem \t basic weight \t  0.750086746923  \t  3\n",
      "elem \t error weight \t  0.999999999999  \t  more than 5\n",
      "M13\n",
      "PIXEL SPACE\n",
      "number of unusable pixels,  453\n",
      "nans  (array([], dtype=int64), array([], dtype=int64))\n",
      "Pixel runtime (unweighted):\t0.0162350853284  min\n",
      "Pixel runtime (weighted):\t0.0163263161977  min\n",
      "var, Vnoise  2.96919590892e-05 6.28419734269e-05\n",
      "var, Vnoise  13090.259568 6.28419734269e-05\n",
      "ELEMENT SPACE\n",
      "nan  (array([], dtype=int64), array([], dtype=int64))\n",
      "Element runtime (unweighted):\t0.00462103287379  min\n",
      "Element runtime (weighted):\t0.00521273215612  min\n",
      "var, Vnoise  -- 4.31328938516e-06\n",
      "run_empca.py:118: RuntimeWarning: divide by zero encountered in divide\n",
      "  return 1-(Vnoise/var),Vnoise,var\n",
      "\n",
      "var, Vnoise  -- 4.31328938516e-06\n",
      "space \t weight type \t R2_noise \t number of vectors\n",
      "pixel \t basic weight \t  -1.11646436795  \t  0\n",
      "pixel \t error weight \t  0.999999995199  \t  more than 5\n",
      "elem \t basic weight \t  --  \t  more than 5\n",
      "elem \t error weight \t  --  \t  more than 5\n"
     ]
    }
   ],
   "source": [
    "run run_empca -vug -m clusters/pickles/models/model_SNRmediancorrect.pkl -d 2e-3"
   ]
  },
  {
   "cell_type": "markdown",
   "metadata": {},
   "source": [
    "Non-MAD on corrected open cluster"
   ]
  },
  {
   "cell_type": "code",
   "execution_count": 4,
   "metadata": {
    "collapsed": false,
    "scrolled": true
   },
   "outputs": [
    {
     "name": "stdout",
     "output_type": "stream",
     "text": [
      "M67\n",
      "PIXEL SPACE\n",
      "number of unusable pixels,  1163\n",
      "nans  (array([], dtype=int64), array([], dtype=int64))\n",
      "Pixel runtime (unweighted):\t0.0122361858686  min\n",
      "Pixel runtime (weighted):\t0.0151990850766  min\n",
      "var, Vnoise  3.28703846467e-05 3.46833398161e-05\n",
      "var, Vnoise  29475.322615 3.46833398161e-05\n",
      "ELEMENT SPACE\n",
      "nan  (array([], dtype=int64), array([], dtype=int64))\n",
      "Element runtime (unweighted):\t0.00167709986369  min\n",
      "Element runtime (weighted):\t0.00245901743571  min\n",
      "var, Vnoise  2.35255419796e-05 3.17637560235e-06\n",
      "var, Vnoise  214705573.493 3.17637560235e-06\n",
      "space \t weight type \t R2_noise \t number of vectors\n",
      "pixel \t basic weight \t  -0.0551546685229  \t  0\n",
      "pixel \t error weight \t  0.999999998823  \t  more than 5\n",
      "elem \t basic weight \t  0.86498183102  \t  3\n",
      "elem \t error weight \t  1.0  \t  more than 5\n",
      "N2158\n",
      "PIXEL SPACE\n",
      "number of unusable pixels,  844\n",
      "nans  (array([], dtype=int64), array([], dtype=int64))\n",
      "Pixel runtime (unweighted):\t0.0104550321897  min\n",
      "Pixel runtime (weighted):\t0.0145112514496  min\n",
      "var, Vnoise  8.35679059599e-05 6.56807172319e-05\n",
      "var, Vnoise  28426.7293755 6.56807172319e-05\n",
      "ELEMENT SPACE\n",
      "nan  (array([], dtype=int64), array([], dtype=int64))\n",
      "Element runtime (unweighted):\t0.00105413198471  min\n",
      "Element runtime (weighted):\t0.00154393116633  min\n",
      "var, Vnoise  2.05067873499e-05 5.45641674941e-06\n",
      "var, Vnoise  24679348.9899 5.45641674941e-06\n",
      "space \t weight type \t R2_noise \t number of vectors\n",
      "pixel \t basic weight \t  0.214043759054  \t  0\n",
      "pixel \t error weight \t  0.999999997689  \t  more than 5\n",
      "elem \t basic weight \t  0.733921425316  \t  2\n",
      "elem \t error weight \t  1.0  \t  more than 5\n",
      "N6791\n",
      "PIXEL SPACE\n",
      "number of unusable pixels,  730\n",
      "nans  (array([], dtype=int64), array([], dtype=int64))\n",
      "Pixel runtime (unweighted):\t0.0124642848969  min\n",
      "Pixel runtime (weighted):\t0.0109186490377  min\n",
      "var, Vnoise  0.000110068115935 7.05048974349e-05\n",
      "var, Vnoise  41149.5510665 7.05048974349e-05\n",
      "ELEMENT SPACE\n",
      "nan  (array([], dtype=int64), array([], dtype=int64))\n",
      "Element runtime (unweighted):\t0.00173516670863  min\n",
      "Element runtime (weighted):\t0.00243716637293  min\n",
      "var, Vnoise  6.10896304566e-05 4.59439980484e-06\n",
      "var, Vnoise  5461955267.46 4.59439980484e-06\n",
      "space \t weight type \t R2_noise \t number of vectors\n",
      "pixel \t basic weight \t  0.35944304274  \t  1\n",
      "pixel \t error weight \t  0.999999998287  \t  more than 5\n",
      "elem \t basic weight \t  0.924792476718  \t  4\n",
      "elem \t error weight \t  1.0  \t  more than 5\n",
      "N6819\n",
      "PIXEL SPACE\n",
      "number of unusable pixels,  1085\n",
      "nans  (array([], dtype=int64), array([], dtype=int64))\n",
      "Pixel runtime (unweighted):\t0.0108297467232  min\n",
      "Pixel runtime (weighted):\t0.0183577020963  min\n",
      "var, Vnoise  5.19929448289e-05 4.50985112735e-05\n",
      "var, Vnoise  34197.2333708 4.50985112735e-05\n",
      "ELEMENT SPACE\n",
      "nan  (array([], dtype=int64), array([], dtype=int64))\n",
      "Element runtime (unweighted):\t0.00165724754333  min\n",
      "Element runtime (weighted):\t0.00197508335114  min\n",
      "var, Vnoise  3.20467757887e-05 3.67185575283e-06\n",
      "var, Vnoise  278673928.325 3.67185575283e-06\n",
      "space \t weight type \t R2_noise \t number of vectors\n",
      "pixel \t basic weight \t  0.132603251809  \t  0\n",
      "pixel \t error weight \t  0.999999998681  \t  more than 5\n",
      "elem \t basic weight \t  0.885421991372  \t  4\n",
      "elem \t error weight \t  1.0  \t  more than 5\n",
      "M13\n",
      "PIXEL SPACE\n",
      "number of unusable pixels,  453\n",
      "nans  (array([], dtype=int64), array([], dtype=int64))\n",
      "Pixel runtime (unweighted):\t0.0174372355143  min\n",
      "Pixel runtime (weighted):\t0.0152658343315  min\n",
      "var, Vnoise  9.38358130879e-05 6.28419734269e-05\n",
      "var, Vnoise  35378.1301905 6.28419734269e-05\n",
      "ELEMENT SPACE\n",
      "nan  (array([], dtype=int64), array([], dtype=int64))\n",
      "Element runtime (unweighted):\t0.00392558177312  min\n",
      "Element runtime (weighted):\t0.00386411746343  min\n",
      "var, Vnoise  7.11455632491e-05 4.31328938516e-06\n",
      "var, Vnoise  5810119723.88 4.31328938516e-06\n",
      "space \t weight type \t R2_noise \t number of vectors\n",
      "pixel \t basic weight \t  0.330298620976  \t  2\n",
      "pixel \t error weight \t  0.999999998224  \t  more than 5\n",
      "elem \t basic weight \t  0.939373740425  \t  more than 5\n",
      "elem \t error weight \t  1.0  \t  more than 5\n"
     ]
    }
   ],
   "source": [
    "run run_empca -vg -m clusters/pickles/models/model_SNRmediancorrect.pkl -d 2e-3"
   ]
  },
  {
   "cell_type": "code",
   "execution_count": 5,
   "metadata": {
    "collapsed": false
   },
   "outputs": [
    {
     "name": "stdout",
     "output_type": "stream",
     "text": [
      "M67\n",
      "PIXEL SPACE\n",
      "number of unusable pixels,  1163\n",
      "nans  (array([], dtype=int64), array([], dtype=int64))\n",
      "Pixel runtime (unweighted):\t0.0107489983241  min\n",
      "Pixel runtime (weighted):\t0.0135785023371  min\n",
      "var, Vnoise  1.60030585034e-05 4.45744148263e-05\n",
      "var, Vnoise  12372.3044519 4.45744148263e-05\n",
      "ELEMENT SPACE\n",
      "nan  (array([], dtype=int64), array([], dtype=int64))\n",
      "Element runtime (unweighted):\t0.00149695078532  min\n",
      "Element runtime (weighted):\t0.00299636522929  min\n",
      "var, Vnoise  1.21111821576e-05 6.2265662353e-06\n",
      "var, Vnoise  620914.354799 6.2265662353e-06\n",
      "space \t weight type \t R2_noise \t number of vectors\n",
      "pixel \t basic weight \t  -1.78536848545  \t  0\n",
      "pixel \t error weight \t  0.999999996397  \t  more than 5\n",
      "elem \t basic weight \t  0.485882868058  \t  1\n",
      "elem \t error weight \t  0.99999999999  \t  more than 5\n",
      "N2158\n",
      "PIXEL SPACE\n",
      "number of unusable pixels,  894\n",
      "nans  (array([], dtype=int64), array([], dtype=int64))\n",
      "Pixel runtime (unweighted):\t0.0141005674998  min\n",
      "Pixel runtime (weighted):\t0.0127198855082  min\n",
      "var, Vnoise  3.93541933338e-05 7.82139210042e-05\n",
      "var, Vnoise  12306.3891222 7.82139210042e-05\n",
      "ELEMENT SPACE\n",
      "nan  (array([], dtype=int64), array([], dtype=int64))\n",
      "Element runtime (unweighted):\t0.000795066356659  min\n",
      "Element runtime (weighted):\t0.00122043291728  min\n",
      "var, Vnoise  7.88440012574e-06 1.06111514112e-05\n",
      "var, Vnoise  238152.159347 1.06111514112e-05\n",
      "space \t weight type \t R2_noise \t number of vectors\n",
      "pixel \t basic weight \t  -0.987435502508  \t  0\n",
      "pixel \t error weight \t  0.999999993644  \t  more than 5\n",
      "elem \t basic weight \t  -0.345841312206  \t  0\n",
      "elem \t error weight \t  0.999999999955  \t  more than 5\n",
      "N6791\n",
      "PIXEL SPACE\n",
      "number of unusable pixels,  886\n",
      "nans  (array([], dtype=int64), array([], dtype=int64))\n",
      "Pixel runtime (unweighted):\t0.0128796815872  min\n",
      "Pixel runtime (weighted):\t0.0396478136381  min\n",
      "var, Vnoise  6.22146810935e-05 8.19368146058e-05\n",
      "var, Vnoise  18052.0782104 8.19368146058e-05\n",
      "ELEMENT SPACE\n",
      "nan  (array([], dtype=int64), array([], dtype=int64))\n",
      "Element runtime (unweighted):\t0.0024276693662  min\n",
      "Element runtime (weighted):\t0.00174564917882  min\n",
      "var, Vnoise  3.4767996357e-05 8.52286918031e-06\n",
      "var, Vnoise  1692185.42585 8.52286918031e-06\n",
      "space \t weight type \t R2_noise \t number of vectors\n",
      "pixel \t basic weight \t  -0.317001279531  \t  0\n",
      "pixel \t error weight \t  0.999999995461  \t  more than 5\n",
      "elem \t basic weight \t  0.754864528493  \t  2\n",
      "elem \t error weight \t  0.999999999995  \t  more than 5\n",
      "N6819\n",
      "PIXEL SPACE\n",
      "number of unusable pixels,  1085\n",
      "nans  (array([], dtype=int64), array([], dtype=int64))\n",
      "Pixel runtime (unweighted):\t0.00843376318614  min\n",
      "Pixel runtime (weighted):\t0.0113626996676  min\n",
      "var, Vnoise  2.22427880834e-05 5.56784689846e-05\n",
      "var, Vnoise  12919.3289087 5.56784689846e-05\n",
      "ELEMENT SPACE\n",
      "nan  (array([], dtype=int64), array([], dtype=int64))\n",
      "Element runtime (unweighted):\t0.00169393221537  min\n",
      "Element runtime (weighted):\t0.00308814843496  min\n",
      "var, Vnoise  1.46925215128e-05 7.18869145869e-06\n",
      "var, Vnoise  630941.478155 7.18869145869e-06\n",
      "space \t weight type \t R2_noise \t number of vectors\n",
      "pixel \t basic weight \t  -1.50321447004  \t  0\n",
      "pixel \t error weight \t  0.99999999569  \t  more than 5\n",
      "elem \t basic weight \t  0.51072445581  \t  1\n",
      "elem \t error weight \t  0.999999999989  \t  more than 5\n",
      "M13\n",
      "PIXEL SPACE\n",
      "number of unusable pixels,  676\n",
      "nans  (array([], dtype=int64), array([], dtype=int64))\n",
      "Pixel runtime (unweighted):\t0.0181241154671  min\n",
      "Pixel runtime (weighted):\t0.0180523514748  min\n",
      "var, Vnoise  2.99469574713e-05 7.4957088735e-05\n",
      "var, Vnoise  11647.1548702 7.4957088735e-05\n",
      "ELEMENT SPACE\n",
      "nan  (array([], dtype=int64), array([], dtype=int64))\n",
      "Element runtime (unweighted):\t0.00462605158488  min\n",
      "Element runtime (weighted):\t0.00478123426437  min\n",
      "var, Vnoise  -- 8.34932058041e-06\n",
      "run_empca.py:118: RuntimeWarning: divide by zero encountered in divide\n",
      "  return 1-(Vnoise/var),Vnoise,var\n",
      "\n",
      "var, Vnoise  -- 8.34932058041e-06\n",
      "space \t weight type \t R2_noise \t number of vectors\n",
      "pixel \t basic weight \t  -1.50299513087  \t  0\n",
      "pixel \t error weight \t  0.999999993564  \t  more than 5\n",
      "elem \t basic weight \t  --  \t  more than 5\n",
      "elem \t error weight \t  --  \t  more than 5\n"
     ]
    }
   ],
   "source": [
    "run run_empca -vug -m clusters/pickles/models/model_SNRdiagonalcorrect.pkl -d 2e-3"
   ]
  },
  {
   "cell_type": "code",
   "execution_count": 6,
   "metadata": {
    "collapsed": false,
    "scrolled": true
   },
   "outputs": [
    {
     "name": "stdout",
     "output_type": "stream",
     "text": [
      "M67\n",
      "PIXEL SPACE\n",
      "number of unusable pixels,  1163\n",
      "nans  (array([], dtype=int64), array([], dtype=int64))\n",
      "Pixel runtime (unweighted):\t0.0115782340368  min\n",
      "Pixel runtime (weighted):\t0.00602355003357  min\n",
      "var, Vnoise  3.28703848076e-05 4.45744148263e-05\n",
      "var, Vnoise  24995.678001 4.45744148263e-05\n",
      "ELEMENT SPACE\n",
      "nan  (array([], dtype=int64), array([], dtype=int64))\n",
      "Element runtime (unweighted):\t0.00167049964269  min\n",
      "Element runtime (weighted):\t0.0017525990804  min\n",
      "var, Vnoise  2.3525541909e-05 6.2265662353e-06\n",
      "var, Vnoise  34410619.9426 6.2265662353e-06\n",
      "space \t weight type \t R2_noise \t number of vectors\n",
      "pixel \t basic weight \t  -0.356066108966  \t  0\n",
      "pixel \t error weight \t  0.999999998217  \t  more than 5\n",
      "elem \t basic weight \t  0.735327404598  \t  2\n",
      "elem \t error weight \t  1.0  \t  more than 5\n",
      "N2158\n",
      "PIXEL SPACE\n",
      "number of unusable pixels,  894\n",
      "nans  (array([], dtype=int64), array([], dtype=int64))\n",
      "Pixel runtime (unweighted):\t0.0124725143115  min\n",
      "Pixel runtime (weighted):\t0.0110692660014  min\n",
      "var, Vnoise  8.36985099739e-05 7.82139210042e-05\n",
      "var, Vnoise  11429355.1541 7.82139210042e-05\n",
      "ELEMENT SPACE\n",
      "nan  (array([], dtype=int64), array([], dtype=int64))\n",
      "Element runtime (unweighted):\t0.00105446577072  min\n",
      "Element runtime (weighted):\t0.00138351917267  min\n",
      "var, Vnoise  2.05012128047e-05 1.06111514112e-05\n",
      "var, Vnoise  4943983.68471 1.06111514112e-05\n",
      "space \t weight type \t R2_noise \t number of vectors\n",
      "pixel \t basic weight \t  0.0655279164632  \t  0\n",
      "pixel \t error weight \t  0.999999999993  \t  more than 5\n",
      "elem \t basic weight \t  0.482413479033  \t  1\n",
      "elem \t error weight \t  0.999999999998  \t  more than 5\n",
      "N6791\n",
      "PIXEL SPACE\n",
      "number of unusable pixels,  886\n",
      "nans  (array([], dtype=int64), array([], dtype=int64))\n",
      "Pixel runtime (unweighted):\t0.0137282689412  min\n",
      "Pixel runtime (weighted):\t0.0319649497668  min\n",
      "var, Vnoise  0.000110549792913 8.19368146058e-05\n",
      "var, Vnoise  5379723.9751 8.19368146058e-05\n",
      "ELEMENT SPACE\n",
      "nan  (array([], dtype=int64), array([], dtype=int64))\n",
      "Element runtime (unweighted):\t0.00173108180364  min\n",
      "Element runtime (weighted):\t0.00148694912593  min\n",
      "var, Vnoise  6.07203738589e-05 8.52286918031e-06\n",
      "var, Vnoise  6908136741.98 8.52286918031e-06\n",
      "space \t weight type \t R2_noise \t number of vectors\n",
      "pixel \t basic weight \t  0.258824350124  \t  1\n",
      "pixel \t error weight \t  0.999999999985  \t  more than 5\n",
      "elem \t basic weight \t  0.859637406052  \t  3\n",
      "elem \t error weight \t  1.0  \t  more than 5\n",
      "N6819\n",
      "PIXEL SPACE\n",
      "number of unusable pixels,  1085\n",
      "nans  (array([], dtype=int64), array([], dtype=int64))\n",
      "Pixel runtime (unweighted):\t0.0109478354454  min\n",
      "Pixel runtime (weighted):\t0.0123820662498  min\n",
      "var, Vnoise  5.19929452378e-05 5.56784689846e-05\n",
      "var, Vnoise  29263.5407389 5.56784689846e-05\n",
      "ELEMENT SPACE\n",
      "nan  (array([], dtype=int64), array([], dtype=int64))\n",
      "Element runtime (unweighted):\t0.0016594171524  min\n",
      "Element runtime (weighted):\t0.00171809991201  min\n",
      "var, Vnoise  3.20467475972e-05 7.18869145869e-06\n",
      "var, Vnoise  46132354.4553 7.18869145869e-06\n",
      "space \t weight type \t R2_noise \t number of vectors\n",
      "pixel \t basic weight \t  -0.0708850735405  \t  0\n",
      "pixel \t error weight \t  0.999999998097  \t  more than 5\n",
      "elem \t basic weight \t  0.775681090978  \t  2\n",
      "elem \t error weight \t  1.0  \t  more than 5\n",
      "M13\n",
      "PIXEL SPACE\n",
      "number of unusable pixels,  676\n",
      "nans  (array([], dtype=int64), array([], dtype=int64))\n",
      "Pixel runtime (unweighted):\t0.0186359842618  min\n",
      "Pixel runtime (weighted):\t0.0184731165568  min\n",
      "var, Vnoise  9.48475613703e-05 7.4957088735e-05\n",
      "var, Vnoise  9944719.35474 7.4957088735e-05\n",
      "ELEMENT SPACE\n",
      "nan  (array([], dtype=int64), array([], dtype=int64))\n",
      "Element runtime (unweighted):\t0.00418488581975  min\n",
      "Element runtime (weighted):\t0.00344483455022  min\n",
      "var, Vnoise  7.08362139414e-05 8.34932058041e-06\n",
      "var, Vnoise  4850291599.52 8.34932058041e-06\n",
      "space \t weight type \t R2_noise \t number of vectors\n",
      "pixel \t basic weight \t  0.209709900265  \t  1\n",
      "pixel \t error weight \t  0.999999999992  \t  more than 5\n",
      "elem \t basic weight \t  0.882132032249  \t  4\n",
      "elem \t error weight \t  1.0  \t  more than 5\n"
     ]
    }
   ],
   "source": [
    "run run_empca -vg -m clusters/pickles/models/model_SNRdiagonalcorrect.pkl -d 2e-3"
   ]
  },
  {
   "cell_type": "code",
   "execution_count": 9,
   "metadata": {
    "collapsed": false
   },
   "outputs": [
    {
     "data": {
      "text/plain": [
       "9.484756137032808e-05"
      ]
     },
     "execution_count": 9,
     "metadata": {},
     "output_type": "execute_result"
    }
   ],
   "source": [
    "m1._masked_data_var"
   ]
  },
  {
   "cell_type": "markdown",
   "metadata": {},
   "source": [
    "MAD on red clump"
   ]
  },
  {
   "cell_type": "code",
   "execution_count": null,
   "metadata": {
    "collapsed": false,
    "scrolled": true
   },
   "outputs": [],
   "source": [
    "run run_empca -vug -m red_clump/pickles/models/model_FE_H_u-0.1_d-0.105.pkl -d 2e-3 -n 14"
   ]
  },
  {
   "cell_type": "markdown",
   "metadata": {},
   "source": [
    "Non-MAD on red clump"
   ]
  },
  {
   "cell_type": "code",
   "execution_count": null,
   "metadata": {
    "collapsed": false
   },
   "outputs": [],
   "source": [
    "run run_empca -vg -m red_clump/pickles/models/model_FE_H_u-0.1_d-0.105.pkl -d 2e-3 -n 14\n"
   ]
  },
  {
   "cell_type": "code",
   "execution_count": null,
   "metadata": {
    "collapsed": false
   },
   "outputs": [],
   "source": [
    "run run_empca -vug -m red_clump/pickles/models/model_snrCorrect_FE_H_u-0.1_d-0.105.pkl -d 2e-3 -n 14"
   ]
  },
  {
   "cell_type": "code",
   "execution_count": null,
   "metadata": {
    "collapsed": false
   },
   "outputs": [],
   "source": [
    "run run_empca -vg -m red_clump/pickles/models/model_snrCorrect_FE_H_u-0.1_d-0.105.pkl -d 2e-3 -n 14"
   ]
  },
  {
   "cell_type": "code",
   "execution_count": null,
   "metadata": {
    "collapsed": false,
    "scrolled": true
   },
   "outputs": [],
   "source": [
    "run run_empca -vug -m red_clump/pickles/models/model_TEFF_u4800.0_d4750.0.pkl -d 2e-3 -n 14"
   ]
  },
  {
   "cell_type": "code",
   "execution_count": null,
   "metadata": {
    "collapsed": false
   },
   "outputs": [],
   "source": [
    "run run_empca -vug -m red_clump/pickles/models/model_snrCorrect_TEFF_u4800.0_d4750.0.pkl -d 2e-3 -n 14"
   ]
  },
  {
   "cell_type": "code",
   "execution_count": null,
   "metadata": {
    "collapsed": false
   },
   "outputs": [],
   "source": [
    "elemwindows,window_all,window_peak,windowPeaks,windowPixels,tophats = acs.pklread('pickles/windowinfo.pkl')"
   ]
  },
  {
   "cell_type": "code",
   "execution_count": null,
   "metadata": {
    "collapsed": false,
    "scrolled": true
   },
   "outputs": [],
   "source": [
    "windowPixels"
   ]
  },
  {
   "cell_type": "code",
   "execution_count": null,
   "metadata": {
    "collapsed": false
   },
   "outputs": [],
   "source": [
    "def compplot(elem1,elem2,cluster,order=2):\n",
    "    elem1plot = acs.pklread('clusters/pickles/resids_{0}_{1}_order{2}.pkl'.format(cluster,elem1,order))\n",
    "    elem2plot = acs.pklread('clusters/pickles/resids_{0}_{1}_order{2}.pkl'.format(cluster,elem2,order))\n",
    "    intersect = [i for i in windowPixels[elem1] if i in windowPixels[elem2]]\n",
    "    plt.figure(figsize=(10,8))\n",
    "    plt.plot(elem1plot,elem2plot,'.')\n",
    "    plt.title(cluster)\n",
    "    plt.figtext(0.2,0.5,'Overlap at {0} pixels'.format(len(intersect)))\n",
    "    plt.xlabel('sum of residuals weighted by {0} windows'.format(elem1))\n",
    "    plt.ylabel('sum of residuals weighted by {0} windows'.format(elem2))"
   ]
  },
  {
   "cell_type": "code",
   "execution_count": null,
   "metadata": {
    "collapsed": false,
    "scrolled": true
   },
   "outputs": [],
   "source": [
    "# Do I reproduce results mentioned in Hogg, Casey, Ness, Rix, Foreman-Mackey 2016\n",
    "compplot('N','C','M13')\n",
    "compplot('Al','Mg','M13')\n",
    "compplot('N','C','M67')\n",
    "compplot('Al','Mg','M67')"
   ]
  },
  {
   "cell_type": "code",
   "execution_count": null,
   "metadata": {
    "collapsed": false
   },
   "outputs": [],
   "source": [
    "compplot('Al','Mg','N6819')\n",
    "compplot('C','N','N6819')"
   ]
  },
  {
   "cell_type": "code",
   "execution_count": null,
   "metadata": {
    "collapsed": true
   },
   "outputs": [],
   "source": []
  },
  {
   "cell_type": "code",
   "execution_count": null,
   "metadata": {
    "collapsed": true
   },
   "outputs": [],
   "source": []
  }
 ],
 "metadata": {
  "kernelspec": {
   "display_name": "Python 2",
   "language": "python",
   "name": "python2"
  },
  "language_info": {
   "codemirror_mode": {
    "name": "ipython",
    "version": 2
   },
   "file_extension": ".py",
   "mimetype": "text/x-python",
   "name": "python",
   "nbconvert_exporter": "python",
   "pygments_lexer": "ipython2",
   "version": "2.7.5"
  }
 },
 "nbformat": 4,
 "nbformat_minor": 0
}
