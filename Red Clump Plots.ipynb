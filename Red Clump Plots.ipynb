{
 "cells": [
  {
   "cell_type": "code",
   "execution_count": 7,
   "metadata": {
    "collapsed": false,
    "scrolled": true
   },
   "outputs": [
    {
     "name": "stdout",
     "output_type": "stream",
     "text": [
      "\n",
      "Initialization runtime 0.85 s\n",
      "Number of stars 194\n",
      "\n",
      "Maximum SNR before correction 219.82\n",
      "SNR correction runtime 0.04 s\n",
      "Maximum SNR before correction 200.00\n",
      "\n",
      "Nonzero Minimum SNR before mask 0.0012\n",
      "SNR cut runtime 0.07 s\n",
      "Minimum SNR after mask 50.0025\n",
      "\n",
      "Bitmask application runtime 0.13 s\n",
      "\n",
      "Pixel residuals runtime 0.45 s\n",
      "Maximum residual 0.201419736421 \n",
      "\n",
      "Finding random sigma runtime 1.15 s\n",
      "\n"
     ]
    }
   ],
   "source": [
    "run run_residuals -vx -i FE_H -u -0.1 -d -0.105 -s red_clump -c False"
   ]
  },
  {
   "cell_type": "code",
   "execution_count": 8,
   "metadata": {
    "collapsed": false,
    "scrolled": false
   },
   "outputs": [
    {
     "name": "stdout",
     "output_type": "stream",
     "text": [
      "Populating the interactive namespace from numpy and matplotlib\n"
     ]
    }
   ],
   "source": [
    "hidefigs = False\n",
    "import matplotlib.pyplot as plt\n",
    "%pylab inline"
   ]
  },
  {
   "cell_type": "code",
   "execution_count": 9,
   "metadata": {
    "collapsed": false
   },
   "outputs": [
    {
     "data": {
      "text/plain": [
       "<matplotlib.legend.Legend at 0x108fa1490>"
      ]
     },
     "execution_count": 9,
     "metadata": {},
     "output_type": "execute_result"
    },
    {
     "data": {
      "image/png": "[encoded data removed]",
      "text/plain": [
       "<matplotlib.figure.Figure at 0x10a1377d0>"
      ]
     },
     "metadata": {},
     "output_type": "display_data"
    }
   ],
   "source": [
    "maSNR = np.ma.mean(starsample.specs/starsample.errs,axis=1)\n",
    "# Plot SNR histogram\n",
    "\n",
    "SNRhist,SNRbins = np.histogram(starsample.data['SNR'],bins = 50)\n",
    "maSNRhist,maSNRbins = np.histogram(maSNR,bins=5)\n",
    "plt.figure(figsize=(16,14))\n",
    "plt.bar(SNRbins[:-1],SNRhist,width = (SNRbins[1]-SNRbins[0]),label='APOGEE SNR')\n",
    "plt.bar(maSNRbins[:-1],maSNRhist,width = (maSNRbins[1]-maSNRbins[0]),color='green',alpha=0.5,label='SNR after masking')\n",
    "plt.xlabel('SNR')\n",
    "plt.ylabel('Number of stars')\n",
    "plt.legend(loc = 'best')"
   ]
  },
  {
   "cell_type": "code",
   "execution_count": 11,
   "metadata": {
    "collapsed": false
   },
   "outputs": [
    {
     "name": "stdout",
     "output_type": "stream",
     "text": [
      "       iter        R2             rchi2\n",
      "EMPCA  1/25       0.01407524      0.00012084\n",
      "EMPCA  2/25       0.15076617      0.00010406\n",
      "EMPCA  3/25       0.17667434      0.00010088\n",
      "EMPCA  4/25       0.19114942      0.00009911\n",
      "EMPCA  5/25       0.20101114      0.00009790\n",
      "EMPCA  6/25       0.20587412      0.00009730\n",
      "EMPCA  7/25       0.20821345      0.00009702\n",
      "EMPCA  8/25       0.20967309      0.00009684\n",
      "EMPCA  9/25       0.21064462      0.00009672\n",
      "EMPCA 10/25       0.21125001      0.00009665\n",
      "EMPCA 11/25       0.21172659      0.00009659\n",
      "EMPCA 12/25       0.21228324      0.00009652\n",
      "EMPCA 13/25       0.21289990      0.00009644\n",
      "EMPCA 14/25       0.21343319      0.00009638\n",
      "EMPCA 15/25       0.21381020      0.00009633\n",
      "EMPCA 16/25       0.21404657      0.00009630\n",
      "EMPCA 17/25       0.21418442      0.00009629\n",
      "EMPCA 18/25       0.21425902      0.00009628\n",
      "EMPCA 19/25       0.21429423      0.00009627\n",
      "EMPCA 20/25       0.21430582      0.00009627\n",
      "EMPCA 21/25       0.21430445      0.00009627\n",
      "EMPCA 22/25       0.21429724      0.00009627\n",
      "EMPCA 23/25       0.21428872      0.00009627\n",
      "EMPCA 24/25       0.21428147      0.00009627\n",
      "EMPCA 25/25       0.21427670      0.00009627\n",
      "R2: 0.21430542348\n",
      "Runtime: 2.8903263847  min\n",
      "       iter        R2             rchi2\n",
      "EMPCA  1/25       0.01286958      2.54314267\n",
      "EMPCA  2/25       0.13702019      2.17710982\n",
      "EMPCA  3/25       0.15662004      2.12148430\n",
      "EMPCA  4/25       0.17010926      2.08489867\n",
      "EMPCA  5/25       0.18039663      2.05648481\n",
      "EMPCA  6/25       0.18387866      2.04719893\n",
      "EMPCA  7/25       0.18367302      2.04734470\n",
      "EMPCA  8/25       0.18343828      2.04691764\n",
      "EMPCA  9/25       0.18488883      2.04184804\n",
      "EMPCA 10/25       0.18685165      2.03560826\n",
      "EMPCA 11/25       0.18819791      2.03111972\n",
      "EMPCA 12/25       0.18887019      2.02850393\n",
      "EMPCA 13/25       0.18913819      2.02709716\n",
      "EMPCA 14/25       0.18921507      2.02636562\n",
      "EMPCA 15/25       0.18921833      2.02599615\n",
      "EMPCA 16/25       0.18920433      2.02581924\n",
      "EMPCA 17/25       0.18919728      2.02574383\n",
      "EMPCA 18/25       0.18920563      2.02572000\n",
      "EMPCA 19/25       0.18923057      2.02571914\n",
      "EMPCA 20/25       0.18927039      2.02572370\n",
      "EMPCA 21/25       0.18932250      2.02572234\n",
      "EMPCA 22/25       0.18938426      2.02570795\n",
      "EMPCA 23/25       0.18945323      2.02567702\n",
      "EMPCA 24/25       0.18952719      2.02562942\n",
      "EMPCA 25/25       0.18960426      2.02556782\n",
      "R2: 0.189716591959\n",
      "Runtime: 2.55952031612  min\n"
     ]
    }
   ],
   "source": [
    "# Do EMPCA\n",
    "nvecs = 5\n",
    "empcaname = starsample.outName('pkl',content = 'empca',order = starsample.order,seed = starsample.seed,cross=starsample.cross)\n",
    "empcaname = empcaname.split('pkl')[0]+'nvec{0}'.format(nvecs)+'.pkl'\n",
    "if os.path.isfile(empcaname):\n",
    "    empcamodel,empcamodel_weight = acs.pklread(empcaname)\n",
    "elif not os.path.isfile(empcaname):\n",
    "    mask = (starsample.residual.mask.T==False)\n",
    "    weights = mask.astype(int)\n",
    "    weights[mask] = 1./starsample.errs[mask]**2 # Correct?\n",
    "    empcamodel,runtime1 = timeIt(empca,starsample.residual.T,weights = mask.astype(int),nvec=nvecs)\n",
    "    print 'Runtime:', runtime1/60.,' min'\n",
    "    empcamodel_weight,runtime2 = timeIt(empca,starsample.residual.T,weights = weights,nvec=nvecs)\n",
    "    print 'Runtime:', runtime2/60.,' min'\n",
    "    acs.pklwrite(empcaname,[empcamodel,empcamodel_weight])"
   ]
  },
  {
   "cell_type": "code",
   "execution_count": null,
   "metadata": {
    "collapsed": false
   },
   "outputs": [],
   "source": [
    "Vnoise = (1./(starsample.numstars*aspcappix))*np.ma.sum(np.ma.sum(starsample.errs**2,axis=1))\n",
    "R2noise = 1 - Vnoise/np.ma.var(starsample.residual.T)\n",
    "R2 = np.zeros(nvecs)\n",
    "R2_w = np.zeros(nvecs)\n",
    "for vec in range(nvecs):\n",
    "    R2[vec] = empcamodel.R2(vec)\n",
    "    R2_w[vec] = empcamodel_weight.R2(vec)"
   ]
  },
  {
   "cell_type": "code",
   "execution_count": null,
   "metadata": {
    "collapsed": false
   },
   "outputs": [],
   "source": [
    "plt.figure(1)\n",
    "plt.plot(range(nvecs),R2,label='Unweighted EMPCA')\n",
    "plt.plot(range(nvecs),R2_w,label='Weighted EMPCA')\n",
    "plt.axhline(R2noise,color='red',label='Noise Threshold')\n",
    "plt.xlabel('Number of eigenvectors')\n",
    "plt.ylabel('Variance')\n",
    "plt.legend(loc='best')\n",
    "plt.xlim(0,nvecs-1)\n",
    "plt.savefig('./{0}/empcaR2_order{1}_seed{2}_cross{3}_{4}_u{5}_d{6}_nvec{7}.png'.format(starsample.type, starsample.order,starsample.seed,starsample.cross,label,up,low,nvecs))\n",
    "if hidefigs:\n",
    "    plt.close()"
   ]
  },
  {
   "cell_type": "code",
   "execution_count": null,
   "metadata": {
    "collapsed": false,
    "scrolled": true
   },
   "outputs": [],
   "source": [
    "neweigvecs = np.zeros((nvecs,len(elems)))\n",
    "neweigvecs_w = np.zeros((nvecs,len(elems)))\n",
    "for ind in range(len(elems)):\n",
    "    for vec in range(nvecs):\n",
    "        neweigvecs[vec][ind] = starsample.weighting(empcamodel.eigvec[vec],elems[ind])\n",
    "        neweigvecs_w[vec][ind] = starsample.weighting(empcamodel_weight.eigvec[vec],elems[ind])"
   ]
  },
  {
   "cell_type": "code",
   "execution_count": null,
   "metadata": {
    "collapsed": true
   },
   "outputs": [],
   "source": [
    "# Create weighted residuals\n",
    "weighted = np.ma.masked_array(np.zeros((len(elems),len(starsample.specs))))\n",
    "weightedsigs = np.ma.masked_array(np.zeros((len(elems),len(starsample.specs))))\n",
    "i=0\n",
    "for elem in elems:\n",
    "    weightedr = starsample.weighting_stars(starsample.residual,elem,\n",
    "                                           starsample.outName('pkl','resids',elem=elem,\n",
    "                                                              order = starsample.order,cross=starsample.cross))\n",
    "    weighteds = starsample.weighting_stars(starsample.sigma,elem,\n",
    "                                           starsample.outName('pkl','sigma',elem=elem,\n",
    "                                                              order = starsample.order,seed = starsample.seed))\n",
    "    doubleResidualHistPlot(elem,weightedr,weighteds,\n",
    "                           starsample.outName('res','residhist',elem = elem,order = starsample.order,\n",
    "                                              cross=starsample.cross,seed = starsample.seed),\n",
    "                           bins = 50)\n",
    "    weighted[i] = weightedr\n",
    "    weightedsigs[i] = weighteds\n",
    "    i+=1"
   ]
  },
  {
   "cell_type": "code",
   "execution_count": null,
   "metadata": {
    "collapsed": true
   },
   "outputs": [],
   "source": [
    "# Do EMPCA on weighted residuals\n",
    "nvecs = 5\n",
    "empcaname = starsample.outName('pkl',content = 'empca_element',order = starsample.order,\n",
    "                               seed = starsample.seed,cross=starsample.cross)\n",
    "empcaname = empcaname.split('pkl')[0]+'nvec{0}'.format(nvecs)+'.pkl'\n",
    "if os.path.isfile(empcaname):\n",
    "    empcamodel,empcamodel_weight = acs.pklread(empcaname)\n",
    "elif not os.path.isfile(empcaname):\n",
    "    mask = (weighted.mask==False)\n",
    "    weights = mask.astype(int)\n",
    "    weights[mask] = 1./testsample.sigma # Correct?\n",
    "    wempcamodel,runtime1 = timeIt(empca,weighted,weights = mask.astype(int),nvec=nvecs)\n",
    "    print 'Runtime:', runtime1/60.,' min'\n",
    "    wempcamodel_weight,runtime2 = timeIt(empca,weighted,weights = weights,nvec=nvecs)\n",
    "    print 'Runtime:', runtime2/60.,' min'\n",
    "    acs.pklwrite(empcaname,[empcamodel,empcamodel_weight])"
   ]
  },
  {
   "cell_type": "code",
   "execution_count": null,
   "metadata": {
    "collapsed": false,
    "scrolled": true
   },
   "outputs": [],
   "source": [
    "for vec in range(5):\n",
    "    plt.figure(figsize=(16,14))\n",
    "    plt.xticks(range(len(elems)),elems)\n",
    "    plt.plot(neweigvecs[vec],label='Unweighted EMPCA - raw')\n",
    "    plt.plot(neweigvecs_w[vec],label='Weighted EMPCA - raw')\n",
    "    plt.plot(wempcapmodel.eigvec[vec],label = 'Unweighted EMPCA - proc')\n",
    "    plt.plot(wempcamodel_weight.eigvec[vec] = 'Weighted EMPCA - proc')\n",
    "    plt.legend(loc='best')\n",
    "    plt.xlabel('Elements')\n",
    "    plt.ylabel('Eigenvector')\n",
    "    plt.title('{0} eigenvector, weighted by element'.format(vec))\n",
    "    plt.savefig('./{0}/empcaeig{1}_order{2}_seed{3}_cross{4}_{5}_u{6}_d{7}_nvec{8}.png'.format(starsample.type,vec, starsample.order,starsample.seed,starsample.cross,label,up,low,nvecs))\n",
    "    if hidefigs:\n",
    "        plt.close()"
   ]
  },
  {
   "cell_type": "code",
   "execution_count": null,
   "metadata": {
    "collapsed": false,
    "scrolled": true
   },
   "outputs": [],
   "source": [
    "plt.figure()\n",
    "allmasksplot = np.copy(starsample.mask.astype(np.float64))\n",
    "allmasksplot[np.where(starsample.mask==0)] = np.nan\n",
    "plt.imshow(allmasksplot,aspect = 7214./starsample.numstars,interpolation='nearest',cmap = 'viridis')\n",
    "plt.ylim(0,starsample.numstars)\n",
    "plt.colorbar()\n",
    "plt.savefig('./{0}/test2_mask_order{1}_seed{2}_cross{3}_{4}_u{5}_d{6}.png'.format(starsample.type, starsample.order,starsample.seed,starsample.cross,label,up,low))\n",
    "if hidefigs:\n",
    "    plt.close()\n",
    "\n",
    "plt.figure()\n",
    "allbitmasksplot = np.copy(starsample.bitmask).astype(np.float64)\n",
    "allbitmasksplot[np.where(starsample.bitmask==0)] = np.nan\n",
    "plt.imshow(np.log2(allbitmasksplot),aspect = 7214./starsample.numstars,interpolation='nearest',cmap = 'viridis')\n",
    "plt.ylim(0,starsample.numstars)\n",
    "plt.colorbar()\n",
    "plt.savefig('./{0}/test2_bitmask_order{1}_seed{2}_cross{3}_{4}_u{5}_d{6}.png'.format(starsample.type, starsample.order,starsample.seed,starsample.cross,label,up,low))\n",
    "if hidefigs:\n",
    "    plt.close()\n",
    "\n",
    "plt.figure()\n",
    "SNRplot = starsample.specs/starsample.errs\n",
    "SNRplot[np.where(SNRplot.mask!=0)] = np.nan\n",
    "plt.imshow(SNRplot,aspect = 7214./starsample.numstars,interpolation='nearest',cmap = 'viridis')\n",
    "plt.ylim(0,starsample.numstars)\n",
    "plt.colorbar()\n",
    "plt.savefig('./{0}/test2_SNR_order{1}_seed{2}_cross{3}_{4}_u{5}_d{6}.png'.format(starsample.type, starsample.order,starsample.seed,starsample.cross,label,up,low))\n",
    "if hidefigs:\n",
    "    plt.close()"
   ]
  },
  {
   "cell_type": "code",
   "execution_count": null,
   "metadata": {
    "collapsed": true
   },
   "outputs": [],
   "source": [
    "residcov = np.ma.cov(starsample.residual)\n",
    "normresidcov = np.ma.cov(starsample.residual/starsample.errs.T)"
   ]
  },
  {
   "cell_type": "code",
   "execution_count": null,
   "metadata": {
    "collapsed": true
   },
   "outputs": [],
   "source": [
    "rcovlim = 1e-4\n",
    "nrcovlim = 4"
   ]
  },
  {
   "cell_type": "code",
   "execution_count": null,
   "metadata": {
    "collapsed": false,
    "scrolled": false
   },
   "outputs": [],
   "source": [
    "# Plot covariance of raw pixel residuals\n",
    "plt.figure(figsize=(10,12))\n",
    "plt.imshow(residcov,interpolation='nearest',cmap = 'Spectral',vmax=rcovlim,vmin=-rcovlim)\n",
    "plt.colorbar()\n",
    "plt.savefig('./{0}/covariance_order{1}_seed{2}_cross{3}_{4}_u{5}_d{6}.png'.format(starsample.type, starsample.order,starsample.seed,starsample.cross,label,up,low))\n",
    "if hidefigs:\n",
    "    plt.close()\n",
    "\n",
    "# Plot covariance of residuals divided by pixel flux uncertainty\n",
    "plt.figure(figsize=(10,12))\n",
    "plt.imshow(normresidcov,interpolation='nearest',cmap = 'Spectral',vmax=nrcovlim,vmin=-nrcovlim)\n",
    "plt.colorbar()\n",
    "plt.savefig('./{0}/normcovariance_order{1}_seed{2}_cross{3}_{4}_u{5}_d{6}.png'.format(starsample.type, starsample.order,starsample.seed,starsample.cross,label,up,low))\n",
    "if hidefigs:\n",
    "    plt.close()\n",
    "\n",
    "# Plot diagonal of covariance of raw pixel residuals\n",
    "plt.figure(figsize=(16,4))\n",
    "diag = np.array([residcov[i,i] for i in range(len(residcov))])\n",
    "plt.plot(diag)\n",
    "plt.xlim(0,len(diag))\n",
    "plt.xlabel('Pixel')\n",
    "plt.ylabel('Variance')\n",
    "plt.savefig('./{0}/covariance_diag_order{1}_seed{2}_cross{3}_{4}_u{5}_d{6}.png'.format(starsample.type, starsample.order,starsample.seed,starsample.cross,label,up,low))\n",
    "if hidefigs:\n",
    "    plt.close()\n",
    "\n",
    "# Plot diagonal of  covariance of residuals divided by pixel flux uncertainty\n",
    "plt.figure(figsize=(16,4))\n",
    "normdiag = np.array([normresidcov[i,i] for i in range(len(normresidcov))])\n",
    "plt.plot(normdiag,linewidth = 0.5)\n",
    "plt.xlim(0,len(normdiag))\n",
    "plt.ylim(0,10)\n",
    "plt.xlabel('Pixel')\n",
    "plt.ylabel('Variance')\n",
    "plt.savefig('./{0}/normcovariance_diag_order{1}_seed{2}_cross{3}_{4}_u{5}_d{6}.png'.format(starsample.type, starsample.order,starsample.seed,starsample.cross,label,up,low))\n",
    "if hidefigs:\n",
    "    plt.close()\n",
    "\n",
    "# Plot two slices of the covariance matrices\n",
    "samppix = 3700\n",
    "plt.figure(figsize=(16,8))\n",
    "plt.plot(residcov[samppix]/np.max(residcov[samppix]),label = 'Raw residual, peak = {0}'.format(np.max(residcov[samppix])))\n",
    "plt.plot(normresidcov[samppix]/np.max(normresidcov[samppix]),label = 'Sigma normalized residual, peak = {0}'.format(np.max(normresidcov[samppix])))\n",
    "plt.axvline(samppix,color='red')\n",
    "plt.ylabel('Covariance at pixel {0} normalized to peak'.format(samppix))\n",
    "plt.xlabel('Pixel')\n",
    "plt.xlim(samppix-100,samppix+100)\n",
    "plt.legend(loc = 'best')\n",
    "plt.savefig('./{0}/covariancepix{1}_order{2}_seed{3}_cross{4}_{5}_u{6}_d{7}.png'.format(starsample.type, samppix,starsample.order,starsample.seed,starsample.cross,label,up,low))\n",
    "if hidefigs:\n",
    "    plt.close()\n",
    "\n",
    "samppix = 6000\n",
    "plt.figure(figsize=(16,8))\n",
    "plt.plot(residcov[samppix]/np.max(residcov[samppix]),label = 'Raw residual, peak = {0}'.format(np.max(residcov[samppix])))\n",
    "plt.plot(normresidcov[samppix]/np.max(normresidcov[samppix]),label = 'Sigma normalized residual, peak = {0}'.format(np.max(normresidcov[samppix])))\n",
    "plt.axvline(samppix,color='red')\n",
    "plt.ylabel('Covariance at pixel {0} normalized to peak'.format(samppix))\n",
    "plt.xlabel('Pixel')\n",
    "plt.xlim(samppix-100,samppix+100)\n",
    "plt.legend(loc = 'best')\n",
    "plt.savefig('./{0}/covariancepix{1}_order{2}_seed{3}_cross{4}_{5}_u{6}_d{7}.png'.format(starsample.type, samppix,starsample.order,starsample.seed,starsample.cross,label,up,low))\n",
    "if hidefigs:\n",
    "    plt.close()"
   ]
  },
  {
   "cell_type": "code",
   "execution_count": null,
   "metadata": {
    "collapsed": true
   },
   "outputs": [],
   "source": []
  }
 ],
 "metadata": {
  "kernelspec": {
   "display_name": "Python 2",
   "language": "python",
   "name": "python2"
  },
  "language_info": {
   "codemirror_mode": {
    "name": "ipython",
    "version": 2
   },
   "file_extension": ".py",
   "mimetype": "text/x-python",
   "name": "python",
   "nbconvert_exporter": "python",
   "pygments_lexer": "ipython2",
   "version": "2.7.11"
  }
 },
 "nbformat": 4,
 "nbformat_minor": 0
}
