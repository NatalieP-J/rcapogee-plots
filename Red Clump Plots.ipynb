{
 "cells": [
  {
   "cell_type": "code",
   "execution_count": 1,
   "metadata": {
    "collapsed": false,
    "scrolled": false
   },
   "outputs": [
    {
     "name": "stdout",
     "output_type": "stream",
     "text": [
      "Populating the interactive namespace from numpy and matplotlib\n"
     ]
    }
   ],
   "source": [
    "hidefigs = False\n",
    "import matplotlib.pyplot as plt\n",
    "import numpy as np\n",
    "%pylab inline"
   ]
  },
  {
   "cell_type": "code",
   "execution_count": 3,
   "metadata": {
    "collapsed": false,
    "scrolled": false
   },
   "outputs": [
    {
     "name": "stdout",
     "output_type": "stream",
     "text": [
      "\n",
      "Initialization runtime 3.76 s\n",
      "Number of stars 846\n",
      "\n",
      "Maximum SNR before correction 200.00\n",
      "SNR correction runtime 0.14 s\n",
      "Maximum SNR before correction 200.00\n",
      "\n",
      "Nonzero Minimum SNR before mask 50.0001\n",
      "SNR cut runtime 0.00 s\n",
      "Minimum SNR after mask 50.0001\n",
      "\n",
      "Bitmask application runtime 0.00 s\n",
      "\n",
      "Pixel residuals runtime 2.14 s\n",
      "Maximum residual 0.217873524319 \n",
      "\n",
      "Finding random sigma runtime 1.78 s\n",
      "\n"
     ]
    }
   ],
   "source": [
    "run run_residuals -vx -i FE_H -u -0.4 -d -0.5 -s red_clump -c False "
   ]
  },
  {
   "cell_type": "code",
   "execution_count": 6,
   "metadata": {
    "collapsed": false
   },
   "outputs": [],
   "source": [
    "from residuals import readElementWindow,elems\n",
    "elemwindows,window_all,window_peak,windowPeaks,windowPixels,tophats = readElementWindow('windowinfo.pkl')"
   ]
  },
  {
   "cell_type": "code",
   "execution_count": 1,
   "metadata": {
    "collapsed": false,
    "scrolled": true
   },
   "outputs": [
    {
     "name": "stdout",
     "output_type": "stream",
     "text": [
      "weighteds is zero for elem  Al  at  (array([ 38, 154, 155, 486, 527, 567, 574, 586, 616, 635, 689, 701, 704,\n",
      "       707, 715, 720]),)\n",
      "weighteds is zero for elem  Ca  at  (array([  4,  13,  21,  29,  35,  38,  48,  52,  56,  57,  59,  69,  75,\n",
      "        78,  80,  84,  94,  99, 103, 104, 105, 107, 109, 111, 113, 114,\n",
      "       120, 123, 127, 136, 141, 144, 152, 153, 154, 155, 156, 157, 161,\n",
      "       162, 165, 182, 203, 208, 213, 230, 242, 243, 244, 251, 263, 273,\n",
      "       310, 316, 365, 386, 419, 478, 479, 498, 509, 528, 588, 610, 617,\n",
      "       650, 651, 660, 685, 690, 695, 702, 703, 704, 705, 707, 709, 715,\n",
      "       720, 725, 737, 748, 752, 763, 777, 784, 807, 811, 817, 823, 843, 844]),)\n",
      "weighteds is zero for elem  C  at  (array([], dtype=int64),)\n",
      "weighteds is zero for elem  Fe  at  (array([], dtype=int64),)\n",
      "weighteds is zero for elem  K  at  (array([], dtype=int64),)\n",
      "weighteds is zero for elem  Mg  at  (array([  5, 827]),)\n",
      "weighteds is zero for elem  Mn  at  (array([ 21,  32,  59,  84,  89,  91,  92,  93, 103, 114, 119, 121, 127,\n",
      "       131, 194, 203, 224, 328, 365, 486, 491, 506, 527, 534, 561, 567,\n",
      "       570, 574, 586, 598, 608, 616, 648, 651, 671, 699, 700, 701, 703,\n",
      "       707, 709, 715, 720, 784, 817]),)\n",
      "weighteds is zero for elem  Na  at  (array([ 14,  89, 121, 149, 481, 513, 550, 551, 558, 574, 616, 648, 757]),)\n",
      "weighteds is zero for elem  Ni  at  (array([], dtype=int64),)\n",
      "weighteds is zero for elem  N  at  (array([], dtype=int64),)\n",
      "weighteds is zero for elem  O  at  (array([], dtype=int64),)\n",
      "weighteds is zero for elem  Si  at  (array([], dtype=int64),)\n",
      "weighteds is zero for elem  S  at  (array([], dtype=int64),)\n",
      "weighteds is zero for elem  Ti  at  (array([648, 751]),)\n",
      "weighteds is zero for elem  V  at  (array([  5,  61, 108, 273, 347, 356, 413, 455, 457, 473, 549, 594, 616,\n",
      "       687, 701, 720, 775, 827]),)\n",
      "var, Vnoise  7.94191434375e-05 6.02802101231e-05\n",
      "var, Vnoise  1.73273021126e-05 3.86625385862e-05\n"
     ]
    },
    {
     "name": "stderr",
     "output_type": "stream",
     "text": [
      "/Users/Natalie/Code/apogee/apogee/spec/window.py:88: RuntimeWarning: invalid value encountered in greater\n",
      "  mask= ((win > 0.)*(True-numpy.isnan(win))).astype('int')\n"
     ]
    }
   ],
   "source": [
    "run run_empca -vu -m red_clump/pickles/model_FE_H_u-0.4_d-0.5.pkl -d 2e-3 -n 30"
   ]
  },
  {
   "cell_type": "code",
   "execution_count": 7,
   "metadata": {
    "collapsed": false,
    "scrolled": false
   },
   "outputs": [],
   "source": [
    "for elem in elems:\n",
    "    w = elemwindows[elem]\n",
    "    elemregions = np.tile(w,(model.numstars,1))\n",
    "    shapeinds = np.where(elemregions != 0)\n",
    "    elemregions[model.mask!=0] = np.nan\n",
    "    hidewindow = np.unique(np.where(elemregions==0)[1])\n",
    "    window = [i for i in range(aspcappix) if i not in hidewindow]\n",
    "    elemregions = elemregions.T[window].T\n",
    "    plt.figure(figsize=(10,8))\n",
    "    plt.imshow(elemregions,aspect = float(elemregions.shape[1])/model.numstars,interpolation='nearest')\n",
    "    plt.title('Masked window for {0}'.format(elem))\n",
    "    splitval = len(window)/10\n",
    "    plt.xticks(range(elemregions.shape[1])[::splitval],window[::splitval])\n",
    "    plt.colorbar()\n",
    "    plt.savefig('temp{0}.png'.format(elem))"
   ]
  },
  {
   "cell_type": "code",
   "execution_count": null,
   "metadata": {
    "collapsed": false,
    "scrolled": false
   },
   "outputs": [],
   "source": [
    "maSNR = np.ma.mean(starsample.specs/starsample.errs,axis=1)\n",
    "# Plot SNR histogram\n",
    "\n",
    "SNRhist,SNRbins = np.histogram(starsample.data['SNR'],bins = 50)\n",
    "maSNRhist,maSNRbins = np.histogram(maSNR,bins=5)\n",
    "plt.figure(figsize=(16,14))\n",
    "plt.bar(SNRbins[:-1],SNRhist,width = (SNRbins[1]-SNRbins[0]),label='APOGEE SNR')\n",
    "plt.bar(maSNRbins[:-1],maSNRhist,width = (maSNRbins[1]-maSNRbins[0]),color='green',alpha=0.5,label='SNR after masking')\n",
    "plt.xlabel('SNR')\n",
    "plt.ylabel('Number of stars')\n",
    "plt.legend(loc = 'best')"
   ]
  },
  {
   "cell_type": "code",
   "execution_count": null,
   "metadata": {
    "collapsed": false,
    "scrolled": true
   },
   "outputs": [],
   "source": [
    "plt.figure()\n",
    "allmasksplot = np.copy(starsample.mask.astype(np.float64))\n",
    "allmasksplot[np.where(starsample.mask==0)] = np.nan\n",
    "plt.imshow(allmasksplot,aspect = 7214./starsample.numstars,interpolation='nearest',cmap = 'viridis')\n",
    "plt.ylim(0,starsample.numstars)\n",
    "plt.colorbar()\n",
    "plt.savefig('./{0}/test2_mask_order{1}_seed{2}_cross{3}_{4}_u{5}_d{6}.png'.format(starsample.type, starsample.order,starsample.seed,starsample.cross,label,up,low))\n",
    "if hidefigs:\n",
    "    plt.close()\n",
    "\n",
    "plt.figure()\n",
    "allbitmasksplot = np.copy(starsample.bitmask).astype(np.float64)\n",
    "allbitmasksplot[np.where(starsample.bitmask==0)] = np.nan\n",
    "plt.imshow(np.log2(allbitmasksplot),aspect = 7214./starsample.numstars,interpolation='nearest',cmap = 'viridis')\n",
    "plt.ylim(0,starsample.numstars)\n",
    "plt.colorbar()\n",
    "plt.savefig('./{0}/test2_bitmask_order{1}_seed{2}_cross{3}_{4}_u{5}_d{6}.png'.format(starsample.type, starsample.order,starsample.seed,starsample.cross,label,up,low))\n",
    "if hidefigs:\n",
    "    plt.close()\n",
    "\n",
    "plt.figure()\n",
    "SNRplot = starsample.specs/starsample.errs\n",
    "SNRplot[np.where(SNRplot.mask!=0)] = np.nan\n",
    "plt.imshow(SNRplot,aspect = 7214./starsample.numstars,interpolation='nearest',cmap = 'viridis')\n",
    "plt.ylim(0,starsample.numstars)\n",
    "plt.colorbar()\n",
    "plt.savefig('./{0}/test2_SNR_order{1}_seed{2}_cross{3}_{4}_u{5}_d{6}.png'.format(starsample.type, starsample.order,starsample.seed,starsample.cross,label,up,low))\n",
    "if hidefigs:\n",
    "    plt.close()"
   ]
  },
  {
   "cell_type": "code",
   "execution_count": null,
   "metadata": {
    "collapsed": true
   },
   "outputs": [],
   "source": [
    "residcov = np.ma.cov(starsample.residual)\n",
    "normresidcov = np.ma.cov(starsample.residual/starsample.errs.T)"
   ]
  },
  {
   "cell_type": "code",
   "execution_count": null,
   "metadata": {
    "collapsed": true
   },
   "outputs": [],
   "source": [
    "rcovlim = 1e-4\n",
    "nrcovlim = 4"
   ]
  },
  {
   "cell_type": "code",
   "execution_count": null,
   "metadata": {
    "collapsed": false,
    "scrolled": false
   },
   "outputs": [],
   "source": [
    "# Plot covariance of raw pixel residuals\n",
    "plt.figure(figsize=(10,12))\n",
    "plt.imshow(residcov,interpolation='nearest',cmap = 'Spectral',vmax=rcovlim,vmin=-rcovlim)\n",
    "plt.colorbar()\n",
    "plt.savefig('./{0}/covariance/order{1}_seed{2}_cross{3}_{4}_u{5}_d{6}.png'.format(starsample.type, starsample.order,starsample.seed,starsample.cross,label,up,low))\n",
    "if hidefigs:\n",
    "    plt.close()\n",
    "\n",
    "# Plot covariance of residuals divided by pixel flux uncertainty\n",
    "plt.figure(figsize=(10,12))\n",
    "plt.imshow(normresidcov,interpolation='nearest',cmap = 'Spectral',vmax=nrcovlim,vmin=-nrcovlim)\n",
    "plt.colorbar()\n",
    "plt.savefig('./{0}/covariance/norm_order{1}_seed{2}_cross{3}_{4}_u{5}_d{6}.png'.format(starsample.type, starsample.order,starsample.seed,starsample.cross,label,up,low))\n",
    "if hidefigs:\n",
    "    plt.close()\n",
    "\n",
    "# Plot diagonal of covariance of raw pixel residuals\n",
    "plt.figure(figsize=(16,4))\n",
    "diag = np.array([residcov[i,i] for i in range(len(residcov))])\n",
    "plt.plot(diag)\n",
    "plt.xlim(0,len(diag))\n",
    "plt.xlabel('Pixel')\n",
    "plt.ylabel('Variance')\n",
    "plt.savefig('./{0}/covariance/diag_order{1}_seed{2}_cross{3}_{4}_u{5}_d{6}.png'.format(starsample.type, starsample.order,starsample.seed,starsample.cross,label,up,low))\n",
    "if hidefigs:\n",
    "    plt.close()\n",
    "\n",
    "# Plot diagonal of  covariance of residuals divided by pixel flux uncertainty\n",
    "plt.figure(figsize=(16,4))\n",
    "normdiag = np.array([normresidcov[i,i] for i in range(len(normresidcov))])\n",
    "plt.plot(normdiag,linewidth = 0.5)\n",
    "plt.xlim(0,len(normdiag))\n",
    "plt.ylim(0,10)\n",
    "plt.xlabel('Pixel')\n",
    "plt.ylabel('Variance')\n",
    "plt.savefig('./{0}/covariance/norm_diag_order{1}_seed{2}_cross{3}_{4}_u{5}_d{6}.png'.format(starsample.type, starsample.order,starsample.seed,starsample.cross,label,up,low))\n",
    "if hidefigs:\n",
    "    plt.close()\n",
    "\n",
    "# Plot two slices of the covariance matrices\n",
    "samppix = 3700\n",
    "plt.figure(figsize=(16,8))\n",
    "plt.plot(residcov[samppix]/np.max(residcov[samppix]),label = 'Raw residual, peak = {0}'.format(np.max(residcov[samppix])))\n",
    "plt.plot(normresidcov[samppix]/np.max(normresidcov[samppix]),label = 'Sigma normalized residual, peak = {0}'.format(np.max(normresidcov[samppix])))\n",
    "plt.axvline(samppix,color='red')\n",
    "plt.ylabel('Covariance at pixel {0} normalized to peak'.format(samppix))\n",
    "plt.xlabel('Pixel')\n",
    "plt.xlim(samppix-100,samppix+100)\n",
    "plt.legend(loc = 'best')\n",
    "plt.savefig('./{0}/covariance/pix{1}_order{2}_seed{3}_cross{4}_{5}_u{6}_d{7}.png'.format(starsample.type, samppix,starsample.order,starsample.seed,starsample.cross,label,up,low))\n",
    "if hidefigs:\n",
    "    plt.close()\n",
    "\n",
    "samppix = 6000\n",
    "plt.figure(figsize=(16,8))\n",
    "plt.plot(residcov[samppix]/np.max(residcov[samppix]),label = 'Raw residual, peak = {0}'.format(np.max(residcov[samppix])))\n",
    "plt.plot(normresidcov[samppix]/np.max(normresidcov[samppix]),label = 'Sigma normalized residual, peak = {0}'.format(np.max(normresidcov[samppix])))\n",
    "plt.axvline(samppix,color='red')\n",
    "plt.ylabel('Covariance at pixel {0} normalized to peak'.format(samppix))\n",
    "plt.xlabel('Pixel')\n",
    "plt.xlim(samppix-100,samppix+100)\n",
    "plt.legend(loc = 'best')\n",
    "plt.savefig('./{0}/covariance/pix{1}_order{2}_seed{3}_cross{4}_{5}_u{6}_d{7}.png'.format(starsample.type, samppix,starsample.order,starsample.seed,starsample.cross,label,up,low))\n",
    "if hidefigs:\n",
    "    plt.close()"
   ]
  },
  {
   "cell_type": "code",
   "execution_count": null,
   "metadata": {
    "collapsed": true
   },
   "outputs": [],
   "source": []
  }
 ],
 "metadata": {
  "kernelspec": {
   "display_name": "Python 2",
   "language": "python",
   "name": "python2"
  },
  "language_info": {
   "codemirror_mode": {
    "name": "ipython",
    "version": 2
   },
   "file_extension": ".py",
   "mimetype": "text/x-python",
   "name": "python",
   "nbconvert_exporter": "python",
   "pygments_lexer": "ipython2",
   "version": "2.7.11"
  }
 },
 "nbformat": 4,
 "nbformat_minor": 0
}
