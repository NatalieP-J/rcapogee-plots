{
 "cells": [
  {
   "cell_type": "code",
   "execution_count": 2,
   "metadata": {
    "collapsed": false,
    "scrolled": true
   },
   "outputs": [
    {
     "name": "stdout",
     "output_type": "stream",
     "text": [
      "\n",
      "Initialization runtime 0.74 s\n",
      "Number of stars 194\n",
      "\n",
      "Maximum SNR before correction 219.82\n",
      "SNR correction runtime 0.03 s\n",
      "Maximum SNR before correction 200.00\n",
      "\n",
      "Nonzero Minimum SNR before mask 0.0012\n",
      "SNR cut runtime 0.06 s\n",
      "Minimum SNR after mask 50.0025\n",
      "\n",
      "Bitmask application runtime 0.11 s\n",
      "\n",
      "Independent variable array generation runtime 2.81 s\n",
      "\n",
      "Pixel fitting runtime 0.84 s\n",
      "\n",
      "Pixel residuals runtime 0.39 s\n",
      "Maximum residual 0.201419736421 \n",
      "\n"
     ]
    },
    {
     "name": "stderr",
     "output_type": "stream",
     "text": [
      "/Users/Natalie/Code/apogee/apogee/spec/window.py:88: RuntimeWarning: invalid value encountered in greater\n",
      "  mask= ((win > 0.)*(True-numpy.isnan(win))).astype('int')\n"
     ]
    },
    {
     "ename": "KeyboardInterrupt",
     "evalue": "",
     "output_type": "error",
     "traceback": [
      "\u001b[0;31m---------------------------------------------------------------------------\u001b[0m",
      "\u001b[0;31mKeyboardInterrupt\u001b[0m                         Traceback (most recent call last)",
      "\u001b[0;32m/Users/Natalie/Code/rcapogee-plots/run_residuals.py\u001b[0m in \u001b[0;36m<module>\u001b[0;34m()\u001b[0m\n\u001b[1;32m    194\u001b[0m \u001b[0;34m\u001b[0m\u001b[0m\n\u001b[1;32m    195\u001b[0m     \u001b[0;31m# Gather random sigma\u001b[0m\u001b[0;34m\u001b[0m\u001b[0;34m\u001b[0m\u001b[0m\n\u001b[0;32m--> 196\u001b[0;31m     \u001b[0mnoneholder\u001b[0m\u001b[0;34m,\u001b[0m\u001b[0mruntime\u001b[0m \u001b[0;34m=\u001b[0m \u001b[0mtimeIt\u001b[0m\u001b[0;34m(\u001b[0m\u001b[0mstarsample\u001b[0m\u001b[0;34m.\u001b[0m\u001b[0mallRandomSigma\u001b[0m\u001b[0;34m)\u001b[0m\u001b[0;34m\u001b[0m\u001b[0m\n\u001b[0m\u001b[1;32m    197\u001b[0m     \u001b[0;32mif\u001b[0m \u001b[0mverbose\u001b[0m\u001b[0;34m:\u001b[0m\u001b[0;34m\u001b[0m\u001b[0m\n\u001b[1;32m    198\u001b[0m         \u001b[0;32mprint\u001b[0m \u001b[0;34m'Finding random sigma runtime {0:.2f} s\\n'\u001b[0m\u001b[0;34m.\u001b[0m\u001b[0mformat\u001b[0m\u001b[0;34m(\u001b[0m\u001b[0mruntime\u001b[0m\u001b[0;34m)\u001b[0m\u001b[0;34m\u001b[0m\u001b[0m\n",
      "\u001b[0;32m/Users/Natalie/Code/rcapogee-plots/run_residuals.py\u001b[0m in \u001b[0;36mtimeIt\u001b[0;34m(fn, *args, **kwargs)\u001b[0m\n\u001b[1;32m     59\u001b[0m     \"\"\"\n\u001b[1;32m     60\u001b[0m     \u001b[0mstart\u001b[0m \u001b[0;34m=\u001b[0m \u001b[0mtime\u001b[0m\u001b[0;34m.\u001b[0m\u001b[0mtime\u001b[0m\u001b[0;34m(\u001b[0m\u001b[0;34m)\u001b[0m\u001b[0;34m\u001b[0m\u001b[0m\n\u001b[0;32m---> 61\u001b[0;31m     \u001b[0moutput\u001b[0m \u001b[0;34m=\u001b[0m \u001b[0mfn\u001b[0m\u001b[0;34m(\u001b[0m\u001b[0;34m*\u001b[0m\u001b[0margs\u001b[0m\u001b[0;34m,\u001b[0m\u001b[0;34m**\u001b[0m\u001b[0mkwargs\u001b[0m\u001b[0;34m)\u001b[0m\u001b[0;34m\u001b[0m\u001b[0m\n\u001b[0m\u001b[1;32m     62\u001b[0m     \u001b[0mend\u001b[0m \u001b[0;34m=\u001b[0m \u001b[0mtime\u001b[0m\u001b[0;34m.\u001b[0m\u001b[0mtime\u001b[0m\u001b[0;34m(\u001b[0m\u001b[0;34m)\u001b[0m\u001b[0;34m\u001b[0m\u001b[0m\n\u001b[1;32m     63\u001b[0m     \u001b[0;32mreturn\u001b[0m \u001b[0moutput\u001b[0m\u001b[0;34m,\u001b[0m\u001b[0mend\u001b[0m\u001b[0;34m-\u001b[0m\u001b[0mstart\u001b[0m\u001b[0;34m\u001b[0m\u001b[0m\n",
      "\u001b[0;32m/Users/Natalie/Code/rcapogee-plots/residuals.pyc\u001b[0m in \u001b[0;36mallRandomSigma\u001b[0;34m(self)\u001b[0m\n\u001b[1;32m    841\u001b[0m                 \u001b[0msigs\u001b[0m \u001b[0;34m=\u001b[0m \u001b[0;34m[\u001b[0m\u001b[0;34m]\u001b[0m\u001b[0;34m\u001b[0m\u001b[0m\n\u001b[1;32m    842\u001b[0m                 \u001b[0;32mfor\u001b[0m \u001b[0mpix\u001b[0m \u001b[0;32min\u001b[0m \u001b[0mrange\u001b[0m\u001b[0;34m(\u001b[0m\u001b[0maspcappix\u001b[0m\u001b[0;34m)\u001b[0m\u001b[0;34m:\u001b[0m\u001b[0;34m\u001b[0m\u001b[0m\n\u001b[0;32m--> 843\u001b[0;31m                     \u001b[0msig\u001b[0m \u001b[0;34m=\u001b[0m \u001b[0mself\u001b[0m\u001b[0;34m.\u001b[0m\u001b[0mrandomSigma\u001b[0m\u001b[0;34m(\u001b[0m\u001b[0mpix\u001b[0m\u001b[0;34m,\u001b[0m\u001b[0mmatch\u001b[0m\u001b[0;34m)\u001b[0m\u001b[0;34m\u001b[0m\u001b[0m\n\u001b[0m\u001b[1;32m    844\u001b[0m                     \u001b[0msigs\u001b[0m\u001b[0;34m.\u001b[0m\u001b[0mappend\u001b[0m\u001b[0;34m(\u001b[0m\u001b[0msig\u001b[0m\u001b[0;34m)\u001b[0m\u001b[0;34m\u001b[0m\u001b[0m\n\u001b[1;32m    845\u001b[0m                 \u001b[0mself\u001b[0m\u001b[0;34m.\u001b[0m\u001b[0msigma\u001b[0m \u001b[0;34m=\u001b[0m \u001b[0mnp\u001b[0m\u001b[0;34m.\u001b[0m\u001b[0mma\u001b[0m\u001b[0;34m.\u001b[0m\u001b[0mmasked_array\u001b[0m\u001b[0;34m(\u001b[0m\u001b[0msigs\u001b[0m\u001b[0;34m)\u001b[0m\u001b[0;34m\u001b[0m\u001b[0m\n",
      "\u001b[0;32m/Users/Natalie/Code/rcapogee-plots/residuals.pyc\u001b[0m in \u001b[0;36mrandomSigma\u001b[0;34m(self, pix, match)\u001b[0m\n\u001b[1;32m    821\u001b[0m         \u001b[0;32mfor\u001b[0m \u001b[0ms\u001b[0m \u001b[0;32min\u001b[0m \u001b[0mrange\u001b[0m\u001b[0;34m(\u001b[0m\u001b[0mlen\u001b[0m\u001b[0;34m(\u001b[0m\u001b[0msigma\u001b[0m\u001b[0;34m)\u001b[0m\u001b[0;34m)\u001b[0m\u001b[0;34m:\u001b[0m\u001b[0;34m\u001b[0m\u001b[0m\n\u001b[1;32m    822\u001b[0m             \u001b[0;32mif\u001b[0m \u001b[0;32mnot\u001b[0m \u001b[0msigma\u001b[0m\u001b[0;34m.\u001b[0m\u001b[0mmask\u001b[0m\u001b[0;34m[\u001b[0m\u001b[0ms\u001b[0m\u001b[0;34m]\u001b[0m\u001b[0;34m:\u001b[0m\u001b[0;34m\u001b[0m\u001b[0m\n\u001b[0;32m--> 823\u001b[0;31m                 \u001b[0msigma\u001b[0m\u001b[0;34m.\u001b[0m\u001b[0mdata\u001b[0m\u001b[0;34m[\u001b[0m\u001b[0ms\u001b[0m\u001b[0;34m]\u001b[0m \u001b[0;34m=\u001b[0m \u001b[0mnp\u001b[0m\u001b[0;34m.\u001b[0m\u001b[0mrandom\u001b[0m\u001b[0;34m.\u001b[0m\u001b[0mnormal\u001b[0m\u001b[0;34m(\u001b[0m\u001b[0mloc\u001b[0m \u001b[0;34m=\u001b[0m \u001b[0;36m0\u001b[0m\u001b[0;34m,\u001b[0m\u001b[0mscale\u001b[0m \u001b[0;34m=\u001b[0m \u001b[0mself\u001b[0m\u001b[0;34m.\u001b[0m\u001b[0merrs\u001b[0m\u001b[0;34m[\u001b[0m\u001b[0mmatch\u001b[0m\u001b[0;34m]\u001b[0m\u001b[0;34m[\u001b[0m\u001b[0;34m:\u001b[0m\u001b[0;34m,\u001b[0m\u001b[0mpix\u001b[0m\u001b[0;34m]\u001b[0m\u001b[0;34m[\u001b[0m\u001b[0ms\u001b[0m\u001b[0;34m]\u001b[0m\u001b[0;34m)\u001b[0m\u001b[0;34m\u001b[0m\u001b[0m\n\u001b[0m\u001b[1;32m    824\u001b[0m         \u001b[0;32mreturn\u001b[0m \u001b[0msigma\u001b[0m\u001b[0;34m\u001b[0m\u001b[0m\n\u001b[1;32m    825\u001b[0m \u001b[0;34m\u001b[0m\u001b[0m\n",
      "\u001b[0;32m/Users/Natalie/anaconda/lib/python2.7/site-packages/numpy/ma/core.pyc\u001b[0m in \u001b[0;36m__getitem__\u001b[0;34m(self, indx)\u001b[0m\n\u001b[1;32m   3134\u001b[0m         \u001b[0;32melse\u001b[0m\u001b[0;34m:\u001b[0m\u001b[0;34m\u001b[0m\u001b[0m\n\u001b[1;32m   3135\u001b[0m             \u001b[0;31m# Force dout to MA\u001b[0m\u001b[0;34m\u001b[0m\u001b[0;34m\u001b[0m\u001b[0m\n\u001b[0;32m-> 3136\u001b[0;31m             \u001b[0mdout\u001b[0m \u001b[0;34m=\u001b[0m \u001b[0mdout\u001b[0m\u001b[0;34m.\u001b[0m\u001b[0mview\u001b[0m\u001b[0;34m(\u001b[0m\u001b[0mtype\u001b[0m\u001b[0;34m(\u001b[0m\u001b[0mself\u001b[0m\u001b[0;34m)\u001b[0m\u001b[0;34m)\u001b[0m\u001b[0;34m\u001b[0m\u001b[0m\n\u001b[0m\u001b[1;32m   3137\u001b[0m             \u001b[0;31m# Inherit attributes from self\u001b[0m\u001b[0;34m\u001b[0m\u001b[0;34m\u001b[0m\u001b[0m\n\u001b[1;32m   3138\u001b[0m             \u001b[0mdout\u001b[0m\u001b[0;34m.\u001b[0m\u001b[0m_update_from\u001b[0m\u001b[0;34m(\u001b[0m\u001b[0mself\u001b[0m\u001b[0;34m)\u001b[0m\u001b[0;34m\u001b[0m\u001b[0m\n",
      "\u001b[0;32m/Users/Natalie/anaconda/lib/python2.7/site-packages/numpy/ma/core.pyc\u001b[0m in \u001b[0;36m__array_finalize__\u001b[0;34m(self, obj)\u001b[0m\n\u001b[1;32m   2910\u001b[0m             \u001b[0;31m# side-effecting 'obj' as well.\u001b[0m\u001b[0;34m\u001b[0m\u001b[0;34m\u001b[0m\u001b[0m\n\u001b[1;32m   2911\u001b[0m             if (obj.__array_interface__[\"data\"][0]\n\u001b[0;32m-> 2912\u001b[0;31m                     != self.__array_interface__[\"data\"][0]):\n\u001b[0m\u001b[1;32m   2913\u001b[0m                 \u001b[0m_mask\u001b[0m \u001b[0;34m=\u001b[0m \u001b[0m_mask\u001b[0m\u001b[0;34m.\u001b[0m\u001b[0mcopy\u001b[0m\u001b[0;34m(\u001b[0m\u001b[0;34m)\u001b[0m\u001b[0;34m\u001b[0m\u001b[0m\n\u001b[1;32m   2914\u001b[0m         \u001b[0;32melse\u001b[0m\u001b[0;34m:\u001b[0m\u001b[0;34m\u001b[0m\u001b[0m\n",
      "\u001b[0;31mKeyboardInterrupt\u001b[0m: "
     ]
    }
   ],
   "source": [
    "run run_residuals -vx -i FE_H -u -0.1 -d -0.105 -s red_clump -c False"
   ]
  },
  {
   "cell_type": "code",
   "execution_count": null,
   "metadata": {
    "collapsed": false,
    "scrolled": false
   },
   "outputs": [],
   "source": [
    "hidefigs = False\n",
    "import matplotlib.pyplot as plt\n",
    "%pylab inline"
   ]
  },
  {
   "cell_type": "code",
   "execution_count": null,
   "metadata": {
    "collapsed": false
   },
   "outputs": [],
   "source": [
    "maSNR = np.ma.mean(starsample.specs/starsample.errs,axis=1)\n",
    "# Plot SNR histogram\n",
    "\n",
    "SNRhist,SNRbins = np.histogram(starsample.data['SNR'],bins = 50)\n",
    "maSNRhist,maSNRbins = np.histogram(maSNR,bins=5)\n",
    "plt.figure(figsize=(16,14))\n",
    "plt.bar(SNRbins[:-1],SNRhist,width = (SNRbins[1]-SNRbins[0]),label='APOGEE SNR')\n",
    "plt.bar(maSNRbins[:-1],maSNRhist,width = (maSNRbins[1]-maSNRbins[0]),color='green',alpha=0.5,label='SNR after masking')\n",
    "plt.xlabel('SNR')\n",
    "plt.ylabel('Number of stars')\n",
    "plt.legend(loc = 'best')"
   ]
  },
  {
   "cell_type": "code",
   "execution_count": null,
   "metadata": {
    "collapsed": false
   },
   "outputs": [],
   "source": [
    "# Do EMPCA\n",
    "nvecs = 30\n",
    "empcaname = starsample.outName('pkl',content = 'empca',order = starsample.order,seed = starsample.seed,cross=starsample.cross)\n",
    "empcaname = empcaname.split('pkl')[0]+'nvec{0}'.format(nvecs)+'.pkl'\n",
    "if os.path.isfile(empcaname):\n",
    "    empcamodel,empcamodel_weight = acs.pklread(empcaname)\n",
    "elif not os.path.isfile(empcaname):\n",
    "    mask = (starsample.residual.mask.T==False)\n",
    "    weights = mask.astype(int)\n",
    "    weights[mask] = 1./starsample.errs[mask]**2 # Correct?\n",
    "    empcamodel,runtime1 = timeIt(empca,starsample.residual.T,weights = mask.astype(int),nvec=nvecs)\n",
    "    print 'Runtime:', runtime1/60.,' min'\n",
    "    empcamodel_weight,runtime2 = timeIt(empca,starsample.residual.T,weights = weights,nvec=nvecs)\n",
    "    print 'Runtime:', runtime2/60.,' min'\n",
    "    acs.pklwrite(empcaname,[empcamodel,empcamodel_weight])"
   ]
  },
  {
   "cell_type": "code",
   "execution_count": null,
   "metadata": {
    "collapsed": false
   },
   "outputs": [],
   "source": [
    "R2noise = 1 - np.ma.var(starsample.errs)/np.ma.var(starsample.residual.T)\n",
    "R2 = np.zeros(nvecs)\n",
    "R2_w = np.zeros(nvecs)\n",
    "for vec in range(nvecs):\n",
    "    R2[vec] = empcamodel.R2(vec)\n",
    "    R2_w[vec] = empcamodel_weight.R2(vec)"
   ]
  },
  {
   "cell_type": "code",
   "execution_count": null,
   "metadata": {
    "collapsed": false
   },
   "outputs": [],
   "source": [
    "plt.figure(1)\n",
    "plt.plot(range(nvecs),R2,label='Unweighted EMPCA')\n",
    "plt.plot(range(nvecs),R2_w,label='Weighted EMPCA')\n",
    "plt.axhline(R2noise,color='red',label='Noise Threshold')\n",
    "plt.xlabel('Number of eigenvectors')\n",
    "plt.ylabel('Variance')\n",
    "plt.legend(loc='best')\n",
    "plt.xlim(0,nvecs-1)\n",
    "plt.savefig('./{0}/empcaR2_order{1}_seed{2}_cross{3}_{4}_u{5}_d{6}_nvec{7}.png'.format(starsample.type, starsample.order,starsample.seed,starsample.cross,label,up,low,nvecs))\n",
    "if hidefigs:\n",
    "    plt.close()"
   ]
  },
  {
   "cell_type": "code",
   "execution_count": null,
   "metadata": {
    "collapsed": false,
    "scrolled": true
   },
   "outputs": [],
   "source": [
    "neweigvecs = np.zeros((nvecs,len(elems)))\n",
    "neweigvecs_w = np.zeros((nvecs,len(elems)))\n",
    "for ind in range(len(elems)):\n",
    "    for vec in range(nvecs):\n",
    "        neweigvecs[vec][ind] = starsample.weighting(empcamodel.eigvec[vec],elems[ind])\n",
    "        neweigvecs_w[vec][ind] = starsample.weighting(empcamodel_weight.eigvec[vec],elems[ind])"
   ]
  },
  {
   "cell_type": "code",
   "execution_count": null,
   "metadata": {
    "collapsed": true
   },
   "outputs": [],
   "source": [
    "# Create weighted residuals\n",
    "weighted = np.ma.masked_array(np.zeros((len(elems),len(starsample.specs))))\n",
    "weightedsigs = np.ma.masked_array(np.zeros((len(elems),len(starsample.specs))))\n",
    "i=0\n",
    "for elem in elems:\n",
    "    weightedr = starsample.weighting_stars(starsample.residual,elem,\n",
    "                                           starsample.outName('pkl','resids',elem=elem,\n",
    "                                                              order = starsample.order,cross=starsample.cross))\n",
    "    weighteds = starsample.weighting_stars(starsample.sigma,elem,\n",
    "                                           starsample.outName('pkl','sigma',elem=elem,\n",
    "                                                              order = starsample.order,seed = starsample.seed))\n",
    "    doubleResidualHistPlot(elem,weightedr,weighteds,\n",
    "                           starsample.outName('res','residhist',elem = elem,order = starsample.order,\n",
    "                                              cross=starsample.cross,seed = starsample.seed),\n",
    "                           bins = 50)\n",
    "    weighted[i] = weightedr\n",
    "    weightedsigs[i] = weighteds\n",
    "    i+=1"
   ]
  },
  {
   "cell_type": "code",
   "execution_count": null,
   "metadata": {
    "collapsed": true
   },
   "outputs": [],
   "source": [
    "# Do EMPCA on weighted residuals\n",
    "nvecs = 5\n",
    "empcaname = starsample.outName('pkl',content = 'empca_element',order = starsample.order,\n",
    "                               seed = starsample.seed,cross=starsample.cross)\n",
    "empcaname = empcaname.split('pkl')[0]+'nvec{0}'.format(nvecs)+'.pkl'\n",
    "if os.path.isfile(empcaname):\n",
    "    empcamodel,empcamodel_weight = acs.pklread(empcaname)\n",
    "elif not os.path.isfile(empcaname):\n",
    "    mask = (weighted.mask==False)\n",
    "    weights = mask.astype(int)\n",
    "    weights[mask] = 1./testsample.sigma # Correct?\n",
    "    wempcamodel,runtime1 = timeIt(empca,weighted,weights = mask.astype(int),nvec=nvecs)\n",
    "    print 'Runtime:', runtime1/60.,' min'\n",
    "    wempcamodel_weight,runtime2 = timeIt(empca,weighted,weights = weights,nvec=nvecs)\n",
    "    print 'Runtime:', runtime2/60.,' min'\n",
    "    acs.pklwrite(empcaname,[empcamodel,empcamodel_weight])"
   ]
  },
  {
   "cell_type": "code",
   "execution_count": null,
   "metadata": {
    "collapsed": false,
    "scrolled": true
   },
   "outputs": [],
   "source": [
    "for vec in range(5):\n",
    "    plt.figure(figsize=(16,14))\n",
    "    plt.xticks(range(len(elems)),elems)\n",
    "    plt.plot(neweigvecs[vec],label='Unweighted EMPCA - raw')\n",
    "    plt.plot(neweigvecs_w[vec],label='Weighted EMPCA - raw')\n",
    "    plt.plot(wempcapmodel.eigvec[vec],label = 'Unweighted EMPCA - proc')\n",
    "    plt.plot(wempcamodel_weight.eigvec[vec] = 'Weighted EMPCA - proc')\n",
    "    plt.legend(loc='best')\n",
    "    plt.xlabel('Elements')\n",
    "    plt.ylabel('Eigenvector')\n",
    "    plt.title('{0} eigenvector, weighted by element'.format(vec))\n",
    "    plt.savefig('./{0}/empcaeig{1}_order{2}_seed{3}_cross{4}_{5}_u{6}_d{7}_nvec{8}.png'.format(starsample.type,vec, starsample.order,starsample.seed,starsample.cross,label,up,low,nvecs))\n",
    "    if hidefigs:\n",
    "        plt.close()"
   ]
  },
  {
   "cell_type": "code",
   "execution_count": null,
   "metadata": {
    "collapsed": false,
    "scrolled": true
   },
   "outputs": [],
   "source": [
    "plt.figure()\n",
    "allmasksplot = np.copy(starsample.mask.astype(np.float64))\n",
    "allmasksplot[np.where(starsample.mask==0)] = np.nan\n",
    "plt.imshow(allmasksplot,aspect = 7214./starsample.numstars,interpolation='nearest',cmap = 'viridis')\n",
    "plt.ylim(0,starsample.numstars)\n",
    "plt.colorbar()\n",
    "plt.savefig('./{0}/test2_mask_order{1}_seed{2}_cross{3}_{4}_u{5}_d{6}.png'.format(starsample.type, starsample.order,starsample.seed,starsample.cross,label,up,low))\n",
    "if hidefigs:\n",
    "    plt.close()\n",
    "\n",
    "plt.figure()\n",
    "allbitmasksplot = np.copy(starsample.bitmask).astype(np.float64)\n",
    "allbitmasksplot[np.where(starsample.bitmask==0)] = np.nan\n",
    "plt.imshow(np.log2(allbitmasksplot),aspect = 7214./starsample.numstars,interpolation='nearest',cmap = 'viridis')\n",
    "plt.ylim(0,starsample.numstars)\n",
    "plt.colorbar()\n",
    "plt.savefig('./{0}/test2_bitmask_order{1}_seed{2}_cross{3}_{4}_u{5}_d{6}.png'.format(starsample.type, starsample.order,starsample.seed,starsample.cross,label,up,low))\n",
    "if hidefigs:\n",
    "    plt.close()\n",
    "\n",
    "plt.figure()\n",
    "SNRplot = starsample.specs/starsample.errs\n",
    "SNRplot[np.where(SNRplot.mask!=0)] = np.nan\n",
    "plt.imshow(SNRplot,aspect = 7214./starsample.numstars,interpolation='nearest',cmap = 'viridis')\n",
    "plt.ylim(0,starsample.numstars)\n",
    "plt.colorbar()\n",
    "plt.savefig('./{0}/test2_SNR_order{1}_seed{2}_cross{3}_{4}_u{5}_d{6}.png'.format(starsample.type, starsample.order,starsample.seed,starsample.cross,label,up,low))\n",
    "if hidefigs:\n",
    "    plt.close()"
   ]
  },
  {
   "cell_type": "code",
   "execution_count": null,
   "metadata": {
    "collapsed": true
   },
   "outputs": [],
   "source": [
    "residcov = np.ma.cov(starsample.residual)\n",
    "normresidcov = np.ma.cov(starsample.residual/starsample.errs.T)"
   ]
  },
  {
   "cell_type": "code",
   "execution_count": null,
   "metadata": {
    "collapsed": true
   },
   "outputs": [],
   "source": [
    "rcovlim = 1e-4\n",
    "nrcovlim = 4"
   ]
  },
  {
   "cell_type": "code",
   "execution_count": null,
   "metadata": {
    "collapsed": false,
    "scrolled": false
   },
   "outputs": [],
   "source": [
    "# Plot covariance of raw pixel residuals\n",
    "plt.figure(figsize=(10,12))\n",
    "plt.imshow(residcov,interpolation='nearest',cmap = 'Spectral',vmax=rcovlim,vmin=-rcovlim)\n",
    "plt.colorbar()\n",
    "plt.savefig('./{0}/covariance_order{1}_seed{2}_cross{3}_{4}_u{5}_d{6}.png'.format(starsample.type, starsample.order,starsample.seed,starsample.cross,label,up,low))\n",
    "if hidefigs:\n",
    "    plt.close()\n",
    "\n",
    "# Plot covariance of residuals divided by pixel flux uncertainty\n",
    "plt.figure(figsize=(10,12))\n",
    "plt.imshow(normresidcov,interpolation='nearest',cmap = 'Spectral',vmax=nrcovlim,vmin=-nrcovlim)\n",
    "plt.colorbar()\n",
    "plt.savefig('./{0}/normcovariance_order{1}_seed{2}_cross{3}_{4}_u{5}_d{6}.png'.format(starsample.type, starsample.order,starsample.seed,starsample.cross,label,up,low))\n",
    "if hidefigs:\n",
    "    plt.close()\n",
    "\n",
    "# Plot diagonal of covariance of raw pixel residuals\n",
    "plt.figure(figsize=(16,4))\n",
    "diag = np.array([residcov[i,i] for i in range(len(residcov))])\n",
    "plt.plot(diag)\n",
    "plt.xlim(0,len(diag))\n",
    "plt.xlabel('Pixel')\n",
    "plt.ylabel('Variance')\n",
    "plt.savefig('./{0}/covariance_diag_order{1}_seed{2}_cross{3}_{4}_u{5}_d{6}.png'.format(starsample.type, starsample.order,starsample.seed,starsample.cross,label,up,low))\n",
    "if hidefigs:\n",
    "    plt.close()\n",
    "\n",
    "# Plot diagonal of  covariance of residuals divided by pixel flux uncertainty\n",
    "plt.figure(figsize=(16,4))\n",
    "normdiag = np.array([normresidcov[i,i] for i in range(len(normresidcov))])\n",
    "plt.plot(normdiag,linewidth = 0.5)\n",
    "plt.xlim(0,len(normdiag))\n",
    "plt.ylim(0,10)\n",
    "plt.xlabel('Pixel')\n",
    "plt.ylabel('Variance')\n",
    "plt.savefig('./{0}/normcovariance_diag_order{1}_seed{2}_cross{3}_{4}_u{5}_d{6}.png'.format(starsample.type, starsample.order,starsample.seed,starsample.cross,label,up,low))\n",
    "if hidefigs:\n",
    "    plt.close()\n",
    "\n",
    "# Plot two slices of the covariance matrices\n",
    "samppix = 3700\n",
    "plt.figure(figsize=(16,8))\n",
    "plt.plot(residcov[samppix]/np.max(residcov[samppix]),label = 'Raw residual, peak = {0}'.format(np.max(residcov[samppix])))\n",
    "plt.plot(normresidcov[samppix]/np.max(normresidcov[samppix]),label = 'Sigma normalized residual, peak = {0}'.format(np.max(normresidcov[samppix])))\n",
    "plt.axvline(samppix,color='red')\n",
    "plt.ylabel('Covariance at pixel {0} normalized to peak'.format(samppix))\n",
    "plt.xlabel('Pixel')\n",
    "plt.xlim(samppix-100,samppix+100)\n",
    "plt.legend(loc = 'best')\n",
    "plt.savefig('./{0}/covariancepix{1}_order{2}_seed{3}_cross{4}_{5}_u{6}_d{7}.png'.format(starsample.type, samppix,starsample.order,starsample.seed,starsample.cross,label,up,low))\n",
    "if hidefigs:\n",
    "    plt.close()\n",
    "\n",
    "samppix = 6000\n",
    "plt.figure(figsize=(16,8))\n",
    "plt.plot(residcov[samppix]/np.max(residcov[samppix]),label = 'Raw residual, peak = {0}'.format(np.max(residcov[samppix])))\n",
    "plt.plot(normresidcov[samppix]/np.max(normresidcov[samppix]),label = 'Sigma normalized residual, peak = {0}'.format(np.max(normresidcov[samppix])))\n",
    "plt.axvline(samppix,color='red')\n",
    "plt.ylabel('Covariance at pixel {0} normalized to peak'.format(samppix))\n",
    "plt.xlabel('Pixel')\n",
    "plt.xlim(samppix-100,samppix+100)\n",
    "plt.legend(loc = 'best')\n",
    "plt.savefig('./{0}/covariancepix{1}_order{2}_seed{3}_cross{4}_{5}_u{6}_d{7}.png'.format(starsample.type, samppix,starsample.order,starsample.seed,starsample.cross,label,up,low))\n",
    "if hidefigs:\n",
    "    plt.close()"
   ]
  },
  {
   "cell_type": "code",
   "execution_count": null,
   "metadata": {
    "collapsed": true
   },
   "outputs": [],
   "source": []
  }
 ],
 "metadata": {
  "kernelspec": {
   "display_name": "Python 2",
   "language": "python",
   "name": "python2"
  },
  "language_info": {
   "codemirror_mode": {
    "name": "ipython",
    "version": 2
   },
   "file_extension": ".py",
   "mimetype": "text/x-python",
   "name": "python",
   "nbconvert_exporter": "python",
   "pygments_lexer": "ipython2",
   "version": "2.7.11"
  }
 },
 "nbformat": 4,
 "nbformat_minor": 0
}
