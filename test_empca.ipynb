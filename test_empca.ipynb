{
 "cells": [
  {
   "cell_type": "code",
   "execution_count": null,
   "metadata": {
    "collapsed": false
   },
   "outputs": [],
   "source": [
    "import numpy as np\n",
    "import matplotlib.pyplot as plt\n",
    "%pylab inline\n",
    "import access_spectrum as acs\n",
    "import run_empca\n",
    "reload(run_empca)\n",
    "from run_empca import *\n",
    "import polyfit as pf\n",
    "silent=False\n",
    "# Remember, the windows are the INVERSE of the absorption features\n",
    "# Next - build ability to choose seed (both in make_specs and empca)"
   ]
  },
  {
   "cell_type": "code",
   "execution_count": null,
   "metadata": {
    "collapsed": true
   },
   "outputs": [],
   "source": [
    "windowinfo = 'pickles/windowinfo.pkl'\n",
    "elemwindows,window_all,window_peak,windowPeaks,windowPixels,tophats = acs.pklread(windowinfo)"
   ]
  },
  {
   "cell_type": "code",
   "execution_count": null,
   "metadata": {
    "collapsed": false
   },
   "outputs": [],
   "source": [
    "specs = acs.pklread('red_clump/pickles/spectra_FE_H_u-0.4_d-0.5.pkl')[0]"
   ]
  },
  {
   "cell_type": "code",
   "execution_count": null,
   "metadata": {
    "collapsed": true
   },
   "outputs": [],
   "source": [
    "errs = acs.pklread('red_clump/pickles/errs_FE_H_u-0.4_d-0.5.pkl')"
   ]
  },
  {
   "cell_type": "code",
   "execution_count": null,
   "metadata": {
    "collapsed": false
   },
   "outputs": [],
   "source": [
    "def make_specs(specs,errs,elemlist,proportion=None):\n",
    "    SNR = specs/errs\n",
    "    vec = np.zeros(aspcappix)\n",
    "    for ind in range(len(elemlist)):\n",
    "        if not proportion:\n",
    "            vec += elemwindows[elemlist[ind]]\n",
    "        elif proportion:\n",
    "            vec += elemwindows[elem[ind]]*proportion[ind]\n",
    "    newspecs = np.ma.masked_array(np.tile(vec,(specs.shape[0],1)),specs.mask)\n",
    "    noise = newspecs/SNR\n",
    "    drawn_noise = noise*np.random.randn(noise.shape[0],noise.shape[1])\n",
    "    newspecs += drawn_noise\n",
    "    newspecs.mask[np.where(noise<1e-10)] = True\n",
    "    noise.mask[np.where(noise<1e-10)] = True\n",
    "    return newspecs,noise\n",
    "\n",
    "def vec_weight(elem,vec):\n",
    "    w = elemwindows[elem]\n",
    "    nw = np.ma.masked_array(pf.normweights(w))\n",
    "    return np.ma.sum(nw*vec)\n",
    "    \n",
    "def arr_weight(elem,arr):\n",
    "    w = elemwindows[elem]\n",
    "    nw = np.ma.masked_array(pf.normweights(w))\n",
    "    nws = np.tile(nw,(arr.shape[0],1))\n",
    "    return np.ma.sum(nws*arr,axis=1)\n",
    "    \n",
    "def test_run(specs,noise,deltR2=2e-3,nvecs=5,mad=True,maxvec=5):\n",
    "    m1,m2,w1,w2 = pix_empca(None,specs.T,noise,'test.pkl',nvecs=nvecs,deltR2=2e-3,gen=True,usemad=mad)\n",
    "    R2_1 = R2(m1) #must be here (and not below resize) to avoid error\n",
    "    R2_2 = R2(m2)\n",
    "    R2_noise2 = R2noise(w2,m2,usemad=mad)\n",
    "    resize_pix_eigvecs(specs.T,m1,nstars=5,nvecs=nvecs)\n",
    "    resize_pix_eigvecs(specs.T,m2,nstars=5,nvecs=nvecs)\n",
    "    m1elem = np.zeros((nvecs,len(elems)))\n",
    "    m2elem = np.zeros((nvecs,len(elems)))\n",
    "    specs_weight = np.ma.masked_array(np.zeros((len(elems),specs.shape[0])))\n",
    "    noise_weight = np.ma.masked_array(np.zeros((len(elems),specs.shape[0])))\n",
    "    for ind in range(len(elems)):\n",
    "        specs_weight[ind] = arr_weight(elems[ind],specs)\n",
    "        noise_weight[ind] = arr_weight(elems[ind],noise)\n",
    "        for vec in range(nvecs):\n",
    "            m1elem[vec][ind] = vec_weight(elems[ind],m1.eigvec[vec])\n",
    "            m2elem[vec][ind] = vec_weight(elems[ind],m2.eigvec[vec])\n",
    "    specs_weight.mask[np.where(noise_weight<1e-10)] = True\n",
    "    noise_weight.mask[np.where(noise_weight<1e-10)] = True\n",
    "    m3,m4,w3,w4 = elem_empca(None,specs_weight,noise_weight,'test2.pkl',nvecs=nvecs,gen=True,deltR2=2e-3,usemad=mad)        \n",
    "    R2_3 = R2(m3)\n",
    "    R2_4 = R2(m4)\n",
    "    R2_noise4 = R2noise(w4,m4,usemad=mad)\n",
    "    resize_pix_eigvecs(specs_weight,m3,nstars=5,dim2=len(elems),nvecs=nvecs)\n",
    "    resize_pix_eigvecs(specs_weight,m4,nstars=5,dim2=len(elems),nvecs=nvecs)\n",
    "    for n in range(maxvec):\n",
    "        plt.figure(figsize=(12,3))\n",
    "        plt.axhline(0,linestyle='--',color='k',linewidth=3)\n",
    "        plt.plot(norm_eigvec(m1elem[n]),'o',markersize=8,label='Pixel unweighted')\n",
    "        plt.plot(norm_eigvec(m2elem[n]),'o',markersize=8,label='Pixel weighted')\n",
    "        plt.plot(norm_eigvec(m3.eigvec[n]),'o',markersize=8,label='Element unweighted')\n",
    "        plt.plot(norm_eigvec(m4.eigvec[n]),'o',markersize=8,label='Element weighted')\n",
    "        plt.xticks(range(len(elems)),elems)\n",
    "        plt.legend(loc='best',fontsize=10)\n",
    "        plt.ylabel('Eigenvenctor {0}'.format(n+1))\n",
    "        plt.xlim(-1,len(elems)+1)\n",
    "        plt.ylim(-1,1)\n",
    "    plt.figure(figsize=(12,3))\n",
    "    plt.plot(R2_1,marker='o',linewidth = 3,markersize=8,label='Pixel unweighted')\n",
    "    plt.plot(R2_2,marker='o',linewidth = 3,markersize=8,label='Pixel weighted')\n",
    "    plt.axhline(R2_noise2,linestyle='--',color='b',linewidth=3,label='R2n_pix = {0:2f}'.format(R2_noise2))\n",
    "    plt.fill_between(range(nvecs+1),R2_noise2,1,color='b',alpha=0.2)\n",
    "    plt.plot(R2_3,marker='o',linewidth = 3,markersize=8,label='Element unweighted')\n",
    "    plt.plot(R2_4,marker='o',linewidth = 3,markersize=8,label='Element weighted')\n",
    "    plt.axhline(R2_noise4,linestyle='--',color='r',linewidth=3,label='R2n_elem = {0:2f}'.format(R2_noise4))\n",
    "    plt.fill_between(range(nvecs+1),R2_noise4,1,color='r',alpha=0.2)\n",
    "    plt.legend(loc='best',fontsize=10)\n",
    "    \n",
    "def test_run_comp(specs,noise,deltR2=2e-3,nvecs=5,mad=True,maxvec=5):\n",
    "    m1,m2,w1,w2 = pix_empca(None,specs.T,noise,'test.pkl',nvecs=nvecs,deltR2=2e-3,gen=True,usemad=mad)\n",
    "    R2_1 = R2(m1) #must be here (and not below resize) to avoid error\n",
    "    R2_2 = R2(m2)\n",
    "    R2_noise2 = R2noise(w2,m2,usemad=mad)\n",
    "    resize_pix_eigvecs(specs.T,m1,nstars=5,nvecs=nvecs)\n",
    "    resize_pix_eigvecs(specs.T,m2,nstars=5,nvecs=nvecs)\n",
    "    m1elem = np.zeros((nvecs,len(elems)))\n",
    "    m2elem = np.zeros((nvecs,len(elems)))\n",
    "    specs_weight = np.ma.masked_array(np.zeros((len(elems),specs.shape[0])))\n",
    "    noise_weight = np.ma.masked_array(np.zeros((len(elems),specs.shape[0])))\n",
    "    for ind in range(len(elems)):\n",
    "        specs_weight[ind] = arr_weight(elems[ind],specs)\n",
    "        noise_weight[ind] = arr_weight(elems[ind],noise)\n",
    "        for vec in range(nvecs):\n",
    "            m1elem[vec][ind] = vec_weight(elems[ind],m1.eigvec[vec])\n",
    "            m2elem[vec][ind] = vec_weight(elems[ind],m2.eigvec[vec])\n",
    "    specs_weight.mask[np.where(noise_weight<1e-10)] = True\n",
    "    noise_weight.mask[np.where(noise_weight<1e-10)] = True\n",
    "    m3,m4,w3,w4 = elem_empca(None,specs_weight,noise_weight,'test2.pkl',nvecs=nvecs,gen=True,deltR2=2e-3,usemad=mad)        \n",
    "    R2_3 = R2(m3)\n",
    "    R2_4 = R2(m4)\n",
    "    R2_noise4 = R2noise(w4,m4,usemad=mad)\n",
    "    resize_pix_eigvecs(specs_weight,m3,nstars=5,dim2=len(elems),nvecs=nvecs)\n",
    "    resize_pix_eigvecs(specs_weight,m4,nstars=5,dim2=len(elems),nvecs=nvecs)\n",
    "    for n in range(maxvec):\n",
    "        plt.figure(1,figsize=(12,3))\n",
    "        plt.axhline(0,linestyle='--',color='k',linewidth=3)\n",
    "        plt.plot(norm_eigvec(m1elem[n]),'o',markersize=8)\n",
    "        plt.title('Pixel unweighted')\n",
    "        plt.xticks(range(len(elems)),elems)\n",
    "        plt.legend(loc='best',fontsize=10)\n",
    "        plt.ylabel('Eigenvenctor {0}'.format(n+1))\n",
    "        plt.xlim(-1,len(elems)+1)\n",
    "        plt.ylim(-1,1)\n",
    "        plt.figure(2,figsize=(12,3))\n",
    "        plt.axhline(0,linestyle='--',color='k',linewidth=3)\n",
    "        plt.plot(norm_eigvec(m2elem[n]),'o',markersize=8)\n",
    "        plt.title('Pixel weighted')\n",
    "        plt.xticks(range(len(elems)),elems)\n",
    "        plt.legend(loc='best',fontsize=10)\n",
    "        plt.ylabel('Eigenvenctor {0}'.format(n+1))\n",
    "        plt.xlim(-1,len(elems)+1)\n",
    "        plt.ylim(-1,1)\n",
    "        plt.figure(3,figsize=(12,3))\n",
    "        plt.axhline(0,linestyle='--',color='k',linewidth=3)\n",
    "        plt.plot(norm_eigvec(m3.eigvec[n]),'o',markersize=8)\n",
    "        plt.title('Element unweighted')\n",
    "        plt.xticks(range(len(elems)),elems)\n",
    "        plt.legend(loc='best',fontsize=10)\n",
    "        plt.ylabel('Eigenvenctor {0}'.format(n+1))\n",
    "        plt.xlim(-1,len(elems)+1)\n",
    "        plt.ylim(-1,1)\n",
    "        plt.figure(4,figsize=(12,3))\n",
    "        plt.axhline(0,linestyle='--',color='k',linewidth=3)\n",
    "        plt.plot(norm_eigvec(m4.eigvec[n]),'o',markersize=8)\n",
    "        plt.title('Element weighted')\n",
    "        plt.xticks(range(len(elems)),elems)\n",
    "        plt.legend(loc='best',fontsize=10)\n",
    "        plt.ylabel('Eigenvenctor {0}'.format(n+1))\n",
    "        plt.xlim(-1,len(elems)+1)\n",
    "        plt.ylim(-1,1)\n",
    "    plt.figure(5,figsize=(12,3))\n",
    "    plt.title('Pixel unweighted')\n",
    "    plt.plot(R2_1,marker='o',linewidth = 3,markersize=8)\n",
    "    plt.axhline(R2_noise2,linestyle='--',color='b',linewidth=3,label='R2n_pix = {0:2f}'.format(R2_noise2))\n",
    "    plt.fill_between(range(nvecs+1),R2_noise2,1,color='b',alpha=0.2)\n",
    "    plt.ylabel('R2')\n",
    "    plt.xlabel('Number of EMPCA vectors')\n",
    "    plt.legend(loc='best',fontsize=10)\n",
    "    plt.figure(6,figsize=(12,3))\n",
    "    plt.title('Pixel weighted')\n",
    "    plt.plot(R2_2,marker='o',linewidth = 3,markersize=8)\n",
    "    plt.axhline(R2_noise2,linestyle='--',color='b',linewidth=3,label='R2n_pix = {0:2f}'.format(R2_noise2))\n",
    "    plt.fill_between(range(nvecs+1),R2_noise2,1,color='b',alpha=0.2)\n",
    "    plt.ylabel('R2')\n",
    "    plt.xlabel('Number of EMPCA vectors')\n",
    "    plt.legend(loc='best',fontsize=10)\n",
    "    plt.figure(7,figsize=(12,3))\n",
    "    plt.title('Element unweighted')\n",
    "    plt.plot(R2_3,marker='o',linewidth = 3,markersize=8,label='Element unweighted')\n",
    "    plt.axhline(R2_noise4,linestyle='--',color='r',linewidth=3,label='R2n_elem = {0:2f}'.format(R2_noise4))\n",
    "    plt.fill_between(range(nvecs+1),R2_noise4,1,color='r',alpha=0.2)\n",
    "    plt.ylabel('R2')\n",
    "    plt.xlabel('Number of EMPCA vectors')\n",
    "    plt.legend(loc='best',fontsize=10)\n",
    "    plt.figure(8,figsize=(12,3))\n",
    "    plt.title('Element weighted')\n",
    "    plt.plot(R2_4,marker='o',linewidth = 3,markersize=8,label='Element weighted')\n",
    "    plt.axhline(R2_noise4,linestyle='--',color='r',linewidth=3,label='R2n_elem = {0:2f}'.format(R2_noise4))\n",
    "    plt.fill_between(range(nvecs+1),R2_noise4,1,color='r',alpha=0.2)\n",
    "    plt.ylabel('R2')\n",
    "    plt.xlabel('Number of EMPCA vectors')\n",
    "    plt.legend(loc='best',fontsize=10)\n",
    "    "
   ]
  },
  {
   "cell_type": "code",
   "execution_count": null,
   "metadata": {
    "collapsed": false,
    "scrolled": false
   },
   "outputs": [],
   "source": [
    "for i in range(10):\n",
    "    falsespecs,noise = make_specs(specs,errs,['Ni','Al'])\n",
    "    test_run_comp(falsespecs,noise,maxvec = 1,nvecs=5)"
   ]
  },
  {
   "cell_type": "code",
   "execution_count": null,
   "metadata": {
    "collapsed": false
   },
   "outputs": [],
   "source": [
    "falsespecs,noise = make_specs(specs,errs,['Ni','Al'])\n",
    "test_run(falsespecs,noise,maxvec = 1,nvecs=2)"
   ]
  },
  {
   "cell_type": "code",
   "execution_count": null,
   "metadata": {
    "collapsed": false
   },
   "outputs": [],
   "source": [
    "falsespecs,noise = make_specs(specs,errs,['Mg','Si','S','Ti','V'])\n",
    "if not all(falsespecs.mask==True):\n",
    "    test_run(falsespecs,noise,maxvec = 1)"
   ]
  },
  {
   "cell_type": "code",
   "execution_count": null,
   "metadata": {
    "collapsed": false
   },
   "outputs": [],
   "source": [
    "falsespecs,noise = make_specs(specs,errs,['C','Al'])\n",
    "if not all(falsespecs.mask==True):\n",
    "    test_run(falsespecs,noise,maxvec = 1)"
   ]
  },
  {
   "cell_type": "code",
   "execution_count": null,
   "metadata": {
    "collapsed": false,
    "scrolled": false
   },
   "outputs": [],
   "source": [
    "falsespecs,noise = make_specs(specs,errs,['C'])\n",
    "if not all(falsespecs.mask==True):\n",
    "    test_run(falsespecs,noise,maxvec = 1)"
   ]
  },
  {
   "cell_type": "code",
   "execution_count": null,
   "metadata": {
    "collapsed": false
   },
   "outputs": [],
   "source": [
    "falsespecs,noise = make_specs(specs,errs,['N'])\n",
    "if not all(falsespecs.mask==True):\n",
    "    test_run(falsespecs,noise,maxvec = 1)"
   ]
  },
  {
   "cell_type": "code",
   "execution_count": null,
   "metadata": {
    "collapsed": false,
    "scrolled": false
   },
   "outputs": [],
   "source": [
    "falsespecs,noise = make_specs(specs,errs,['O'])\n",
    "if not all(falsespecs.mask==True):\n",
    "    test_run(falsespecs,noise,maxvec = 1)"
   ]
  },
  {
   "cell_type": "code",
   "execution_count": null,
   "metadata": {
    "collapsed": false
   },
   "outputs": [],
   "source": [
    "elems"
   ]
  },
  {
   "cell_type": "code",
   "execution_count": null,
   "metadata": {
    "collapsed": false
   },
   "outputs": [],
   "source": [
    "falsespecs,noise = make_specs(specs,errs,['C'])\n",
    "if not all(falsespecs.mask==True):\n",
    "    test_run(falsespecs,noise,maxvec = 1)"
   ]
  },
  {
   "cell_type": "code",
   "execution_count": null,
   "metadata": {
    "collapsed": true
   },
   "outputs": [],
   "source": []
  }
 ],
 "metadata": {
  "kernelspec": {
   "display_name": "Python 2",
   "language": "python",
   "name": "python2"
  },
  "language_info": {
   "codemirror_mode": {
    "name": "ipython",
    "version": 2
   },
   "file_extension": ".py",
   "mimetype": "text/x-python",
   "name": "python",
   "nbconvert_exporter": "python",
   "pygments_lexer": "ipython2",
   "version": "2.7.5"
  }
 },
 "nbformat": 4,
 "nbformat_minor": 0
}
