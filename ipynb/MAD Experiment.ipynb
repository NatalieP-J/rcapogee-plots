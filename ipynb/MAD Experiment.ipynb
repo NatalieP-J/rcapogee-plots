{
 "cells": [
  {
   "cell_type": "code",
   "execution_count": 61,
   "metadata": {
    "collapsed": false
   },
   "outputs": [
    {
     "name": "stdout",
     "output_type": "stream",
     "text": [
      "Populating the interactive namespace from numpy and matplotlib\n"
     ]
    },
    {
     "name": "stderr",
     "output_type": "stream",
     "text": [
      "WARNING: pylab import has clobbered these variables: ['hist']\n",
      "`%matplotlib` prevents importing * from pylab and numpy\n"
     ]
    }
   ],
   "source": [
    "import numpy as np\n",
    "import matplotlib.pyplot as plt\n",
    "%pylab inline\n",
    "\n",
    "def mad(x):\n",
    "    return np.median(np.fabs(x-np.median(x)))\n",
    "\n",
    "k = 1.4826\n",
    "\n",
    "def hist(x,mu,mad,std,bins=50):\n",
    "    hist,binEdges = np.histogram(y,bins=bins)\n",
    "    area = np.sum(hist*(binEdges[1]-binEdges[0]))\n",
    "    barlist = plt.bar(binEdges[:-1],hist/area,width = binEdges[1]-binEdges[0],alpha=0.5)\n",
    "    plt.axvline(mu-mad,color='r',lw=2)\n",
    "    plt.axvline(mu+mad,color='r',lw=2)\n",
    "    plt.axvline(mu-std,color='k',lw=2)\n",
    "    plt.axvline(mu+std,color='k',lw=2)"
   ]
  },
  {
   "cell_type": "code",
   "execution_count": 62,
   "metadata": {
    "collapsed": false
   },
   "outputs": [
    {
     "name": "stdout",
     "output_type": "stream",
     "text": [
      "10.0034438753 10.0016279198\n"
     ]
    },
    {
     "name": "stderr",
     "output_type": "stream",
     "text": [
      "/usr/lib/python2.7/site-packages/ipykernel/__main__.py:4: DeprecationWarning: using a non-integer number instead of an integer will result in an error in the future\n"
     ]
    },
    {
     "data": {
      "image/png": "[encoded data removed]",
      "text/plain": [
       "<matplotlib.figure.Figure at 0x3b5ea10>"
      ]
     },
     "metadata": {},
     "output_type": "display_data"
    }
   ],
   "source": [
    "N = 1e7\n",
    "mu = 0\n",
    "sigma = 10\n",
    "y = sigma*np.random.randn(N)+mu\n",
    "print k*mad(y),np.std(y)\n",
    "hist(y,mu,k*mad(y),np.std(y))"
   ]
  },
  {
   "cell_type": "code",
   "execution_count": 63,
   "metadata": {
    "collapsed": false
   },
   "outputs": [
    {
     "name": "stdout",
     "output_type": "stream",
     "text": [
      "6.84605651567 7.90205003974\n"
     ]
    },
    {
     "name": "stderr",
     "output_type": "stream",
     "text": [
      "/usr/lib/python2.7/site-packages/ipykernel/__main__.py:5: DeprecationWarning: using a non-integer number instead of an integer will result in an error in the future\n"
     ]
    },
    {
     "data": {
      "image/png": "[encoded data removed]",
      "text/plain": [
       "<matplotlib.figure.Figure at 0x3b96990>"
      ]
     },
     "metadata": {},
     "output_type": "display_data"
    }
   ],
   "source": [
    "N = 1e7\n",
    "mu = 0\n",
    "sigma1 = 10\n",
    "sigma2 = 5\n",
    "y = np.concatenate((sigma1*np.random.randn(N/2.)+mu,sigma2*np.random.randn(N/2.)+mu))\n",
    "print k*mad(y), np.std(y)\n",
    "hist(y,mu,k*mad(y),np.std(y))"
   ]
  },
  {
   "cell_type": "code",
   "execution_count": 64,
   "metadata": {
    "collapsed": false
   },
   "outputs": [
    {
     "name": "stderr",
     "output_type": "stream",
     "text": [
      "/usr/lib/python2.7/site-packages/ipykernel/__main__.py:6: DeprecationWarning: using a non-integer number instead of an integer will result in an error in the future\n",
      "/usr/lib/python2.7/site-packages/ipykernel/__main__.py:7: DeprecationWarning: using a non-integer number instead of an integer will result in an error in the future\n"
     ]
    },
    {
     "name": "stdout",
     "output_type": "stream",
     "text": [
      "3.33138769215 6.48394220401\n"
     ]
    },
    {
     "data": {
      "image/png": "[encoded data removed]",
      "text/plain": [
       "<matplotlib.figure.Figure at 0x4530f10>"
      ]
     },
     "metadata": {},
     "output_type": "display_data"
    }
   ],
   "source": [
    "N = 1e7\n",
    "mu = 0\n",
    "sigma1 = 10\n",
    "sigma2 = 5\n",
    "sigma3 = 1\n",
    "y = np.concatenate((sigma1*np.random.randn(N/3.)+mu,sigma2*np.random.randn(N/3.)+mu))\n",
    "y = np.concatenate((y,sigma3*np.random.randn(N/3.)))\n",
    "print k*mad(y), np.std(y) \n",
    "hist(y,mu,k*mad(y),np.std(y))"
   ]
  },
  {
   "cell_type": "code",
   "execution_count": 65,
   "metadata": {
    "collapsed": false
   },
   "outputs": [
    {
     "name": "stderr",
     "output_type": "stream",
     "text": [
      "/usr/lib/python2.7/site-packages/ipykernel/__main__.py:7: DeprecationWarning: using a non-integer number instead of an integer will result in an error in the future\n",
      "/usr/lib/python2.7/site-packages/ipykernel/__main__.py:8: DeprecationWarning: using a non-integer number instead of an integer will result in an error in the future\n"
     ]
    },
    {
     "name": "stdout",
     "output_type": "stream",
     "text": [
      "1.70107260135 5.61394437697\n"
     ]
    },
    {
     "name": "stderr",
     "output_type": "stream",
     "text": [
      "/usr/lib/python2.7/site-packages/ipykernel/__main__.py:9: DeprecationWarning: using a non-integer number instead of an integer will result in an error in the future\n"
     ]
    },
    {
     "data": {
      "image/png": "[encoded data removed]",
      "text/plain": [
       "<matplotlib.figure.Figure at 0x3ac09d0>"
      ]
     },
     "metadata": {},
     "output_type": "display_data"
    }
   ],
   "source": [
    "N = 1e7\n",
    "mu = 0\n",
    "sigma1 = 10\n",
    "sigma2 = 5\n",
    "sigma3 = 1\n",
    "sigma4 = 0.5\n",
    "y = np.concatenate((sigma1*np.random.randn(N/4.)+mu,sigma2*np.random.randn(N/4.)+mu))\n",
    "y = np.concatenate((y,sigma3*np.random.randn(N/4.)))\n",
    "y = np.concatenate((y,sigma4*np.random.randn(N/4.)))\n",
    "print k*mad(y), np.std(y) \n",
    "hist(y,mu,k*mad(y),np.std(y))"
   ]
  },
  {
   "cell_type": "code",
   "execution_count": null,
   "metadata": {
    "collapsed": true
   },
   "outputs": [],
   "source": []
  }
 ],
 "metadata": {
  "kernelspec": {
   "display_name": "Python 2",
   "language": "python",
   "name": "python2"
  },
  "language_info": {
   "codemirror_mode": {
    "name": "ipython",
    "version": 2
   },
   "file_extension": ".py",
   "mimetype": "text/x-python",
   "name": "python",
   "nbconvert_exporter": "python",
   "pygments_lexer": "ipython2",
   "version": "2.7.5"
  }
 },
 "nbformat": 4,
 "nbformat_minor": 0
}
